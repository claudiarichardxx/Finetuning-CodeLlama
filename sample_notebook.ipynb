{
 "cells": [
  {
   "cell_type": "code",
   "execution_count": null,
   "metadata": {},
   "outputs": [],
   "source": [
    "! pip install -q accelerate==0.27.2 peft==0.5.0 bitsandbytes==0.41.3 transformers==4.38.2 trl==0.4.7\n",
    "! pip install -q protobuf sentencepiece scipy\n",
    "! pip install tqdm fire numpy"
   ]
  },
  {
   "cell_type": "code",
   "execution_count": null,
   "metadata": {},
   "outputs": [],
   "source": [
    "from .pipelines import Pipelines"
   ]
  },
  {
   "cell_type": "code",
   "execution_count": null,
   "metadata": {},
   "outputs": [],
   "source": [
    "FT_Pipeline = Pipelines()"
   ]
  },
  {
   "cell_type": "code",
   "execution_count": null,
   "metadata": {},
   "outputs": [],
   "source": [
    "model_name = ''\n",
    "mode = 'IT'\n",
    "output_dir = 'FT_model/'\n",
    "run_eval = True\n",
    "run_finetuning = False\n",
    "load_quantized_model = True\n",
    "pass_at_k, accuracy = FT_Pipeline.finetune(model_name = model_name,  \n",
    "                     mode = mode, \n",
    "                     output_dir = output_dir, \n",
    "                     run_eval = run_eval, \n",
    "                     run_finetuning = run_finetuning, \n",
    "                     load_quantized_model = load_quantized_model)"
   ]
  }
 ],
 "metadata": {
  "language_info": {
   "name": "python"
  }
 },
 "nbformat": 4,
 "nbformat_minor": 2
}
