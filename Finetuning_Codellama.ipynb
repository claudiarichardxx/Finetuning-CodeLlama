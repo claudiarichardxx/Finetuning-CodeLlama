{
  "nbformat": 4,
  "nbformat_minor": 0,
  "metadata": {
    "colab": {
      "provenance": [],
      "gpuType": "T4",
      "collapsed_sections": [
        "EgkTSbc-FdNb",
        "VvDmJBdGXTO3",
        "Lruis8yBHCuZ",
        "4Rz5HusUrXZv",
        "sufvqz2Lrbqc",
        "D2iCZtPA2LRI",
        "iM-rOwxcmxxX"
      ],
      "toc_visible": true,
      "include_colab_link": true
    },
    "kernelspec": {
      "name": "python3",
      "display_name": "Python 3"
    },
    "language_info": {
      "name": "python"
    },
    "accelerator": "GPU",
    "widgets": {
      "application/vnd.jupyter.widget-state+json": {
        "b64b81f3e43545f389e0da8e6b137934": {
          "model_module": "@jupyter-widgets/controls",
          "model_name": "HBoxModel",
          "model_module_version": "1.5.0",
          "state": {
            "_dom_classes": [],
            "_model_module": "@jupyter-widgets/controls",
            "_model_module_version": "1.5.0",
            "_model_name": "HBoxModel",
            "_view_count": null,
            "_view_module": "@jupyter-widgets/controls",
            "_view_module_version": "1.5.0",
            "_view_name": "HBoxView",
            "box_style": "",
            "children": [
              "IPY_MODEL_909189964ee84d16a2d6abefbb3dd222",
              "IPY_MODEL_b6871153538d4b829cec6cfe5a2d7ff2",
              "IPY_MODEL_56d9dd8fcedc424a8f1be0bff5dc6674"
            ],
            "layout": "IPY_MODEL_aef8ba1155064f9b95096f5a242b4c8f"
          }
        },
        "909189964ee84d16a2d6abefbb3dd222": {
          "model_module": "@jupyter-widgets/controls",
          "model_name": "HTMLModel",
          "model_module_version": "1.5.0",
          "state": {
            "_dom_classes": [],
            "_model_module": "@jupyter-widgets/controls",
            "_model_module_version": "1.5.0",
            "_model_name": "HTMLModel",
            "_view_count": null,
            "_view_module": "@jupyter-widgets/controls",
            "_view_module_version": "1.5.0",
            "_view_name": "HTMLView",
            "description": "",
            "description_tooltip": null,
            "layout": "IPY_MODEL_ffbd6371e30f4d8b867b893a00c867bf",
            "placeholder": "​",
            "style": "IPY_MODEL_2025a918cae44dbdb7038f45136e8952",
            "value": "config.json: 100%"
          }
        },
        "b6871153538d4b829cec6cfe5a2d7ff2": {
          "model_module": "@jupyter-widgets/controls",
          "model_name": "FloatProgressModel",
          "model_module_version": "1.5.0",
          "state": {
            "_dom_classes": [],
            "_model_module": "@jupyter-widgets/controls",
            "_model_module_version": "1.5.0",
            "_model_name": "FloatProgressModel",
            "_view_count": null,
            "_view_module": "@jupyter-widgets/controls",
            "_view_module_version": "1.5.0",
            "_view_name": "ProgressView",
            "bar_style": "success",
            "description": "",
            "description_tooltip": null,
            "layout": "IPY_MODEL_e7a00be701cf403f84b6fcacebf58653",
            "max": 644,
            "min": 0,
            "orientation": "horizontal",
            "style": "IPY_MODEL_b1b77afec6e643ae99bacd3e6718222d",
            "value": 644
          }
        },
        "56d9dd8fcedc424a8f1be0bff5dc6674": {
          "model_module": "@jupyter-widgets/controls",
          "model_name": "HTMLModel",
          "model_module_version": "1.5.0",
          "state": {
            "_dom_classes": [],
            "_model_module": "@jupyter-widgets/controls",
            "_model_module_version": "1.5.0",
            "_model_name": "HTMLModel",
            "_view_count": null,
            "_view_module": "@jupyter-widgets/controls",
            "_view_module_version": "1.5.0",
            "_view_name": "HTMLView",
            "description": "",
            "description_tooltip": null,
            "layout": "IPY_MODEL_5780b0cab5cd4448b085dac2816b95c0",
            "placeholder": "​",
            "style": "IPY_MODEL_85b75452f2e14253ba573cb1876e9e37",
            "value": " 644/644 [00:00&lt;00:00, 34.8kB/s]"
          }
        },
        "aef8ba1155064f9b95096f5a242b4c8f": {
          "model_module": "@jupyter-widgets/base",
          "model_name": "LayoutModel",
          "model_module_version": "1.2.0",
          "state": {
            "_model_module": "@jupyter-widgets/base",
            "_model_module_version": "1.2.0",
            "_model_name": "LayoutModel",
            "_view_count": null,
            "_view_module": "@jupyter-widgets/base",
            "_view_module_version": "1.2.0",
            "_view_name": "LayoutView",
            "align_content": null,
            "align_items": null,
            "align_self": null,
            "border": null,
            "bottom": null,
            "display": null,
            "flex": null,
            "flex_flow": null,
            "grid_area": null,
            "grid_auto_columns": null,
            "grid_auto_flow": null,
            "grid_auto_rows": null,
            "grid_column": null,
            "grid_gap": null,
            "grid_row": null,
            "grid_template_areas": null,
            "grid_template_columns": null,
            "grid_template_rows": null,
            "height": null,
            "justify_content": null,
            "justify_items": null,
            "left": null,
            "margin": null,
            "max_height": null,
            "max_width": null,
            "min_height": null,
            "min_width": null,
            "object_fit": null,
            "object_position": null,
            "order": null,
            "overflow": null,
            "overflow_x": null,
            "overflow_y": null,
            "padding": null,
            "right": null,
            "top": null,
            "visibility": null,
            "width": null
          }
        },
        "ffbd6371e30f4d8b867b893a00c867bf": {
          "model_module": "@jupyter-widgets/base",
          "model_name": "LayoutModel",
          "model_module_version": "1.2.0",
          "state": {
            "_model_module": "@jupyter-widgets/base",
            "_model_module_version": "1.2.0",
            "_model_name": "LayoutModel",
            "_view_count": null,
            "_view_module": "@jupyter-widgets/base",
            "_view_module_version": "1.2.0",
            "_view_name": "LayoutView",
            "align_content": null,
            "align_items": null,
            "align_self": null,
            "border": null,
            "bottom": null,
            "display": null,
            "flex": null,
            "flex_flow": null,
            "grid_area": null,
            "grid_auto_columns": null,
            "grid_auto_flow": null,
            "grid_auto_rows": null,
            "grid_column": null,
            "grid_gap": null,
            "grid_row": null,
            "grid_template_areas": null,
            "grid_template_columns": null,
            "grid_template_rows": null,
            "height": null,
            "justify_content": null,
            "justify_items": null,
            "left": null,
            "margin": null,
            "max_height": null,
            "max_width": null,
            "min_height": null,
            "min_width": null,
            "object_fit": null,
            "object_position": null,
            "order": null,
            "overflow": null,
            "overflow_x": null,
            "overflow_y": null,
            "padding": null,
            "right": null,
            "top": null,
            "visibility": null,
            "width": null
          }
        },
        "2025a918cae44dbdb7038f45136e8952": {
          "model_module": "@jupyter-widgets/controls",
          "model_name": "DescriptionStyleModel",
          "model_module_version": "1.5.0",
          "state": {
            "_model_module": "@jupyter-widgets/controls",
            "_model_module_version": "1.5.0",
            "_model_name": "DescriptionStyleModel",
            "_view_count": null,
            "_view_module": "@jupyter-widgets/base",
            "_view_module_version": "1.2.0",
            "_view_name": "StyleView",
            "description_width": ""
          }
        },
        "e7a00be701cf403f84b6fcacebf58653": {
          "model_module": "@jupyter-widgets/base",
          "model_name": "LayoutModel",
          "model_module_version": "1.2.0",
          "state": {
            "_model_module": "@jupyter-widgets/base",
            "_model_module_version": "1.2.0",
            "_model_name": "LayoutModel",
            "_view_count": null,
            "_view_module": "@jupyter-widgets/base",
            "_view_module_version": "1.2.0",
            "_view_name": "LayoutView",
            "align_content": null,
            "align_items": null,
            "align_self": null,
            "border": null,
            "bottom": null,
            "display": null,
            "flex": null,
            "flex_flow": null,
            "grid_area": null,
            "grid_auto_columns": null,
            "grid_auto_flow": null,
            "grid_auto_rows": null,
            "grid_column": null,
            "grid_gap": null,
            "grid_row": null,
            "grid_template_areas": null,
            "grid_template_columns": null,
            "grid_template_rows": null,
            "height": null,
            "justify_content": null,
            "justify_items": null,
            "left": null,
            "margin": null,
            "max_height": null,
            "max_width": null,
            "min_height": null,
            "min_width": null,
            "object_fit": null,
            "object_position": null,
            "order": null,
            "overflow": null,
            "overflow_x": null,
            "overflow_y": null,
            "padding": null,
            "right": null,
            "top": null,
            "visibility": null,
            "width": null
          }
        },
        "b1b77afec6e643ae99bacd3e6718222d": {
          "model_module": "@jupyter-widgets/controls",
          "model_name": "ProgressStyleModel",
          "model_module_version": "1.5.0",
          "state": {
            "_model_module": "@jupyter-widgets/controls",
            "_model_module_version": "1.5.0",
            "_model_name": "ProgressStyleModel",
            "_view_count": null,
            "_view_module": "@jupyter-widgets/base",
            "_view_module_version": "1.2.0",
            "_view_name": "StyleView",
            "bar_color": null,
            "description_width": ""
          }
        },
        "5780b0cab5cd4448b085dac2816b95c0": {
          "model_module": "@jupyter-widgets/base",
          "model_name": "LayoutModel",
          "model_module_version": "1.2.0",
          "state": {
            "_model_module": "@jupyter-widgets/base",
            "_model_module_version": "1.2.0",
            "_model_name": "LayoutModel",
            "_view_count": null,
            "_view_module": "@jupyter-widgets/base",
            "_view_module_version": "1.2.0",
            "_view_name": "LayoutView",
            "align_content": null,
            "align_items": null,
            "align_self": null,
            "border": null,
            "bottom": null,
            "display": null,
            "flex": null,
            "flex_flow": null,
            "grid_area": null,
            "grid_auto_columns": null,
            "grid_auto_flow": null,
            "grid_auto_rows": null,
            "grid_column": null,
            "grid_gap": null,
            "grid_row": null,
            "grid_template_areas": null,
            "grid_template_columns": null,
            "grid_template_rows": null,
            "height": null,
            "justify_content": null,
            "justify_items": null,
            "left": null,
            "margin": null,
            "max_height": null,
            "max_width": null,
            "min_height": null,
            "min_width": null,
            "object_fit": null,
            "object_position": null,
            "order": null,
            "overflow": null,
            "overflow_x": null,
            "overflow_y": null,
            "padding": null,
            "right": null,
            "top": null,
            "visibility": null,
            "width": null
          }
        },
        "85b75452f2e14253ba573cb1876e9e37": {
          "model_module": "@jupyter-widgets/controls",
          "model_name": "DescriptionStyleModel",
          "model_module_version": "1.5.0",
          "state": {
            "_model_module": "@jupyter-widgets/controls",
            "_model_module_version": "1.5.0",
            "_model_name": "DescriptionStyleModel",
            "_view_count": null,
            "_view_module": "@jupyter-widgets/base",
            "_view_module_version": "1.2.0",
            "_view_name": "StyleView",
            "description_width": ""
          }
        },
        "196471f399b4412caa8ec17de8f9f5c3": {
          "model_module": "@jupyter-widgets/controls",
          "model_name": "HBoxModel",
          "model_module_version": "1.5.0",
          "state": {
            "_dom_classes": [],
            "_model_module": "@jupyter-widgets/controls",
            "_model_module_version": "1.5.0",
            "_model_name": "HBoxModel",
            "_view_count": null,
            "_view_module": "@jupyter-widgets/controls",
            "_view_module_version": "1.5.0",
            "_view_name": "HBoxView",
            "box_style": "",
            "children": [
              "IPY_MODEL_f2b87b4f9df74e2ea28644a73382f59e",
              "IPY_MODEL_48cb25ff5d0a43f8a28f69712d56d6dd",
              "IPY_MODEL_fd7210db3bbd49fbacda2d566082d4fd"
            ],
            "layout": "IPY_MODEL_f4cf5ea75645441c8c3e1c0b7224f990"
          }
        },
        "f2b87b4f9df74e2ea28644a73382f59e": {
          "model_module": "@jupyter-widgets/controls",
          "model_name": "HTMLModel",
          "model_module_version": "1.5.0",
          "state": {
            "_dom_classes": [],
            "_model_module": "@jupyter-widgets/controls",
            "_model_module_version": "1.5.0",
            "_model_name": "HTMLModel",
            "_view_count": null,
            "_view_module": "@jupyter-widgets/controls",
            "_view_module_version": "1.5.0",
            "_view_name": "HTMLView",
            "description": "",
            "description_tooltip": null,
            "layout": "IPY_MODEL_3388ea700bda4ebeb62cdad535767953",
            "placeholder": "​",
            "style": "IPY_MODEL_bb6bc51cbac149e6ab2652ab52ba178a",
            "value": "model.safetensors.index.json: 100%"
          }
        },
        "48cb25ff5d0a43f8a28f69712d56d6dd": {
          "model_module": "@jupyter-widgets/controls",
          "model_name": "FloatProgressModel",
          "model_module_version": "1.5.0",
          "state": {
            "_dom_classes": [],
            "_model_module": "@jupyter-widgets/controls",
            "_model_module_version": "1.5.0",
            "_model_name": "FloatProgressModel",
            "_view_count": null,
            "_view_module": "@jupyter-widgets/controls",
            "_view_module_version": "1.5.0",
            "_view_name": "ProgressView",
            "bar_style": "success",
            "description": "",
            "description_tooltip": null,
            "layout": "IPY_MODEL_f6dcc479e16a4e0e8f9c77a1a39bfa70",
            "max": 25125,
            "min": 0,
            "orientation": "horizontal",
            "style": "IPY_MODEL_a23ff75c807348a48aaf99ff620adefa",
            "value": 25125
          }
        },
        "fd7210db3bbd49fbacda2d566082d4fd": {
          "model_module": "@jupyter-widgets/controls",
          "model_name": "HTMLModel",
          "model_module_version": "1.5.0",
          "state": {
            "_dom_classes": [],
            "_model_module": "@jupyter-widgets/controls",
            "_model_module_version": "1.5.0",
            "_model_name": "HTMLModel",
            "_view_count": null,
            "_view_module": "@jupyter-widgets/controls",
            "_view_module_version": "1.5.0",
            "_view_name": "HTMLView",
            "description": "",
            "description_tooltip": null,
            "layout": "IPY_MODEL_59e6fd990a5f4ddca1f27f59f6267923",
            "placeholder": "​",
            "style": "IPY_MODEL_b26cdec595d44b629bedd0b43e327e53",
            "value": " 25.1k/25.1k [00:00&lt;00:00, 1.48MB/s]"
          }
        },
        "f4cf5ea75645441c8c3e1c0b7224f990": {
          "model_module": "@jupyter-widgets/base",
          "model_name": "LayoutModel",
          "model_module_version": "1.2.0",
          "state": {
            "_model_module": "@jupyter-widgets/base",
            "_model_module_version": "1.2.0",
            "_model_name": "LayoutModel",
            "_view_count": null,
            "_view_module": "@jupyter-widgets/base",
            "_view_module_version": "1.2.0",
            "_view_name": "LayoutView",
            "align_content": null,
            "align_items": null,
            "align_self": null,
            "border": null,
            "bottom": null,
            "display": null,
            "flex": null,
            "flex_flow": null,
            "grid_area": null,
            "grid_auto_columns": null,
            "grid_auto_flow": null,
            "grid_auto_rows": null,
            "grid_column": null,
            "grid_gap": null,
            "grid_row": null,
            "grid_template_areas": null,
            "grid_template_columns": null,
            "grid_template_rows": null,
            "height": null,
            "justify_content": null,
            "justify_items": null,
            "left": null,
            "margin": null,
            "max_height": null,
            "max_width": null,
            "min_height": null,
            "min_width": null,
            "object_fit": null,
            "object_position": null,
            "order": null,
            "overflow": null,
            "overflow_x": null,
            "overflow_y": null,
            "padding": null,
            "right": null,
            "top": null,
            "visibility": null,
            "width": null
          }
        },
        "3388ea700bda4ebeb62cdad535767953": {
          "model_module": "@jupyter-widgets/base",
          "model_name": "LayoutModel",
          "model_module_version": "1.2.0",
          "state": {
            "_model_module": "@jupyter-widgets/base",
            "_model_module_version": "1.2.0",
            "_model_name": "LayoutModel",
            "_view_count": null,
            "_view_module": "@jupyter-widgets/base",
            "_view_module_version": "1.2.0",
            "_view_name": "LayoutView",
            "align_content": null,
            "align_items": null,
            "align_self": null,
            "border": null,
            "bottom": null,
            "display": null,
            "flex": null,
            "flex_flow": null,
            "grid_area": null,
            "grid_auto_columns": null,
            "grid_auto_flow": null,
            "grid_auto_rows": null,
            "grid_column": null,
            "grid_gap": null,
            "grid_row": null,
            "grid_template_areas": null,
            "grid_template_columns": null,
            "grid_template_rows": null,
            "height": null,
            "justify_content": null,
            "justify_items": null,
            "left": null,
            "margin": null,
            "max_height": null,
            "max_width": null,
            "min_height": null,
            "min_width": null,
            "object_fit": null,
            "object_position": null,
            "order": null,
            "overflow": null,
            "overflow_x": null,
            "overflow_y": null,
            "padding": null,
            "right": null,
            "top": null,
            "visibility": null,
            "width": null
          }
        },
        "bb6bc51cbac149e6ab2652ab52ba178a": {
          "model_module": "@jupyter-widgets/controls",
          "model_name": "DescriptionStyleModel",
          "model_module_version": "1.5.0",
          "state": {
            "_model_module": "@jupyter-widgets/controls",
            "_model_module_version": "1.5.0",
            "_model_name": "DescriptionStyleModel",
            "_view_count": null,
            "_view_module": "@jupyter-widgets/base",
            "_view_module_version": "1.2.0",
            "_view_name": "StyleView",
            "description_width": ""
          }
        },
        "f6dcc479e16a4e0e8f9c77a1a39bfa70": {
          "model_module": "@jupyter-widgets/base",
          "model_name": "LayoutModel",
          "model_module_version": "1.2.0",
          "state": {
            "_model_module": "@jupyter-widgets/base",
            "_model_module_version": "1.2.0",
            "_model_name": "LayoutModel",
            "_view_count": null,
            "_view_module": "@jupyter-widgets/base",
            "_view_module_version": "1.2.0",
            "_view_name": "LayoutView",
            "align_content": null,
            "align_items": null,
            "align_self": null,
            "border": null,
            "bottom": null,
            "display": null,
            "flex": null,
            "flex_flow": null,
            "grid_area": null,
            "grid_auto_columns": null,
            "grid_auto_flow": null,
            "grid_auto_rows": null,
            "grid_column": null,
            "grid_gap": null,
            "grid_row": null,
            "grid_template_areas": null,
            "grid_template_columns": null,
            "grid_template_rows": null,
            "height": null,
            "justify_content": null,
            "justify_items": null,
            "left": null,
            "margin": null,
            "max_height": null,
            "max_width": null,
            "min_height": null,
            "min_width": null,
            "object_fit": null,
            "object_position": null,
            "order": null,
            "overflow": null,
            "overflow_x": null,
            "overflow_y": null,
            "padding": null,
            "right": null,
            "top": null,
            "visibility": null,
            "width": null
          }
        },
        "a23ff75c807348a48aaf99ff620adefa": {
          "model_module": "@jupyter-widgets/controls",
          "model_name": "ProgressStyleModel",
          "model_module_version": "1.5.0",
          "state": {
            "_model_module": "@jupyter-widgets/controls",
            "_model_module_version": "1.5.0",
            "_model_name": "ProgressStyleModel",
            "_view_count": null,
            "_view_module": "@jupyter-widgets/base",
            "_view_module_version": "1.2.0",
            "_view_name": "StyleView",
            "bar_color": null,
            "description_width": ""
          }
        },
        "59e6fd990a5f4ddca1f27f59f6267923": {
          "model_module": "@jupyter-widgets/base",
          "model_name": "LayoutModel",
          "model_module_version": "1.2.0",
          "state": {
            "_model_module": "@jupyter-widgets/base",
            "_model_module_version": "1.2.0",
            "_model_name": "LayoutModel",
            "_view_count": null,
            "_view_module": "@jupyter-widgets/base",
            "_view_module_version": "1.2.0",
            "_view_name": "LayoutView",
            "align_content": null,
            "align_items": null,
            "align_self": null,
            "border": null,
            "bottom": null,
            "display": null,
            "flex": null,
            "flex_flow": null,
            "grid_area": null,
            "grid_auto_columns": null,
            "grid_auto_flow": null,
            "grid_auto_rows": null,
            "grid_column": null,
            "grid_gap": null,
            "grid_row": null,
            "grid_template_areas": null,
            "grid_template_columns": null,
            "grid_template_rows": null,
            "height": null,
            "justify_content": null,
            "justify_items": null,
            "left": null,
            "margin": null,
            "max_height": null,
            "max_width": null,
            "min_height": null,
            "min_width": null,
            "object_fit": null,
            "object_position": null,
            "order": null,
            "overflow": null,
            "overflow_x": null,
            "overflow_y": null,
            "padding": null,
            "right": null,
            "top": null,
            "visibility": null,
            "width": null
          }
        },
        "b26cdec595d44b629bedd0b43e327e53": {
          "model_module": "@jupyter-widgets/controls",
          "model_name": "DescriptionStyleModel",
          "model_module_version": "1.5.0",
          "state": {
            "_model_module": "@jupyter-widgets/controls",
            "_model_module_version": "1.5.0",
            "_model_name": "DescriptionStyleModel",
            "_view_count": null,
            "_view_module": "@jupyter-widgets/base",
            "_view_module_version": "1.2.0",
            "_view_name": "StyleView",
            "description_width": ""
          }
        },
        "2621823dfb3a44bd935aba7d9e8cd1fb": {
          "model_module": "@jupyter-widgets/controls",
          "model_name": "HBoxModel",
          "model_module_version": "1.5.0",
          "state": {
            "_dom_classes": [],
            "_model_module": "@jupyter-widgets/controls",
            "_model_module_version": "1.5.0",
            "_model_name": "HBoxModel",
            "_view_count": null,
            "_view_module": "@jupyter-widgets/controls",
            "_view_module_version": "1.5.0",
            "_view_name": "HBoxView",
            "box_style": "",
            "children": [
              "IPY_MODEL_30c9f8d7ab5c40dd9fa9b9850df19b67",
              "IPY_MODEL_2c12347e39fd49d5b679d7d05af85788",
              "IPY_MODEL_fb721791bd964a4fad4b388d03c53b4c"
            ],
            "layout": "IPY_MODEL_7396d5abf0a64363b9af6d9aad1d2870"
          }
        },
        "30c9f8d7ab5c40dd9fa9b9850df19b67": {
          "model_module": "@jupyter-widgets/controls",
          "model_name": "HTMLModel",
          "model_module_version": "1.5.0",
          "state": {
            "_dom_classes": [],
            "_model_module": "@jupyter-widgets/controls",
            "_model_module_version": "1.5.0",
            "_model_name": "HTMLModel",
            "_view_count": null,
            "_view_module": "@jupyter-widgets/controls",
            "_view_module_version": "1.5.0",
            "_view_name": "HTMLView",
            "description": "",
            "description_tooltip": null,
            "layout": "IPY_MODEL_904fe5702dac4152ac6fcf09e4accff6",
            "placeholder": "​",
            "style": "IPY_MODEL_74eff175111d45d99935da66089826fc",
            "value": "Downloading shards: 100%"
          }
        },
        "2c12347e39fd49d5b679d7d05af85788": {
          "model_module": "@jupyter-widgets/controls",
          "model_name": "FloatProgressModel",
          "model_module_version": "1.5.0",
          "state": {
            "_dom_classes": [],
            "_model_module": "@jupyter-widgets/controls",
            "_model_module_version": "1.5.0",
            "_model_name": "FloatProgressModel",
            "_view_count": null,
            "_view_module": "@jupyter-widgets/controls",
            "_view_module_version": "1.5.0",
            "_view_name": "ProgressView",
            "bar_style": "success",
            "description": "",
            "description_tooltip": null,
            "layout": "IPY_MODEL_60c6f15c617d4d93b2af339748974053",
            "max": 2,
            "min": 0,
            "orientation": "horizontal",
            "style": "IPY_MODEL_5aa29bccfd164131a6e98be5abfe3fb9",
            "value": 2
          }
        },
        "fb721791bd964a4fad4b388d03c53b4c": {
          "model_module": "@jupyter-widgets/controls",
          "model_name": "HTMLModel",
          "model_module_version": "1.5.0",
          "state": {
            "_dom_classes": [],
            "_model_module": "@jupyter-widgets/controls",
            "_model_module_version": "1.5.0",
            "_model_name": "HTMLModel",
            "_view_count": null,
            "_view_module": "@jupyter-widgets/controls",
            "_view_module_version": "1.5.0",
            "_view_name": "HTMLView",
            "description": "",
            "description_tooltip": null,
            "layout": "IPY_MODEL_731fa26f8605477f9612122c6dcaaf61",
            "placeholder": "​",
            "style": "IPY_MODEL_d964a49fc63645f4a0b16dcfee3b9b87",
            "value": " 2/2 [03:40&lt;00:00, 98.40s/it]"
          }
        },
        "7396d5abf0a64363b9af6d9aad1d2870": {
          "model_module": "@jupyter-widgets/base",
          "model_name": "LayoutModel",
          "model_module_version": "1.2.0",
          "state": {
            "_model_module": "@jupyter-widgets/base",
            "_model_module_version": "1.2.0",
            "_model_name": "LayoutModel",
            "_view_count": null,
            "_view_module": "@jupyter-widgets/base",
            "_view_module_version": "1.2.0",
            "_view_name": "LayoutView",
            "align_content": null,
            "align_items": null,
            "align_self": null,
            "border": null,
            "bottom": null,
            "display": null,
            "flex": null,
            "flex_flow": null,
            "grid_area": null,
            "grid_auto_columns": null,
            "grid_auto_flow": null,
            "grid_auto_rows": null,
            "grid_column": null,
            "grid_gap": null,
            "grid_row": null,
            "grid_template_areas": null,
            "grid_template_columns": null,
            "grid_template_rows": null,
            "height": null,
            "justify_content": null,
            "justify_items": null,
            "left": null,
            "margin": null,
            "max_height": null,
            "max_width": null,
            "min_height": null,
            "min_width": null,
            "object_fit": null,
            "object_position": null,
            "order": null,
            "overflow": null,
            "overflow_x": null,
            "overflow_y": null,
            "padding": null,
            "right": null,
            "top": null,
            "visibility": null,
            "width": null
          }
        },
        "904fe5702dac4152ac6fcf09e4accff6": {
          "model_module": "@jupyter-widgets/base",
          "model_name": "LayoutModel",
          "model_module_version": "1.2.0",
          "state": {
            "_model_module": "@jupyter-widgets/base",
            "_model_module_version": "1.2.0",
            "_model_name": "LayoutModel",
            "_view_count": null,
            "_view_module": "@jupyter-widgets/base",
            "_view_module_version": "1.2.0",
            "_view_name": "LayoutView",
            "align_content": null,
            "align_items": null,
            "align_self": null,
            "border": null,
            "bottom": null,
            "display": null,
            "flex": null,
            "flex_flow": null,
            "grid_area": null,
            "grid_auto_columns": null,
            "grid_auto_flow": null,
            "grid_auto_rows": null,
            "grid_column": null,
            "grid_gap": null,
            "grid_row": null,
            "grid_template_areas": null,
            "grid_template_columns": null,
            "grid_template_rows": null,
            "height": null,
            "justify_content": null,
            "justify_items": null,
            "left": null,
            "margin": null,
            "max_height": null,
            "max_width": null,
            "min_height": null,
            "min_width": null,
            "object_fit": null,
            "object_position": null,
            "order": null,
            "overflow": null,
            "overflow_x": null,
            "overflow_y": null,
            "padding": null,
            "right": null,
            "top": null,
            "visibility": null,
            "width": null
          }
        },
        "74eff175111d45d99935da66089826fc": {
          "model_module": "@jupyter-widgets/controls",
          "model_name": "DescriptionStyleModel",
          "model_module_version": "1.5.0",
          "state": {
            "_model_module": "@jupyter-widgets/controls",
            "_model_module_version": "1.5.0",
            "_model_name": "DescriptionStyleModel",
            "_view_count": null,
            "_view_module": "@jupyter-widgets/base",
            "_view_module_version": "1.2.0",
            "_view_name": "StyleView",
            "description_width": ""
          }
        },
        "60c6f15c617d4d93b2af339748974053": {
          "model_module": "@jupyter-widgets/base",
          "model_name": "LayoutModel",
          "model_module_version": "1.2.0",
          "state": {
            "_model_module": "@jupyter-widgets/base",
            "_model_module_version": "1.2.0",
            "_model_name": "LayoutModel",
            "_view_count": null,
            "_view_module": "@jupyter-widgets/base",
            "_view_module_version": "1.2.0",
            "_view_name": "LayoutView",
            "align_content": null,
            "align_items": null,
            "align_self": null,
            "border": null,
            "bottom": null,
            "display": null,
            "flex": null,
            "flex_flow": null,
            "grid_area": null,
            "grid_auto_columns": null,
            "grid_auto_flow": null,
            "grid_auto_rows": null,
            "grid_column": null,
            "grid_gap": null,
            "grid_row": null,
            "grid_template_areas": null,
            "grid_template_columns": null,
            "grid_template_rows": null,
            "height": null,
            "justify_content": null,
            "justify_items": null,
            "left": null,
            "margin": null,
            "max_height": null,
            "max_width": null,
            "min_height": null,
            "min_width": null,
            "object_fit": null,
            "object_position": null,
            "order": null,
            "overflow": null,
            "overflow_x": null,
            "overflow_y": null,
            "padding": null,
            "right": null,
            "top": null,
            "visibility": null,
            "width": null
          }
        },
        "5aa29bccfd164131a6e98be5abfe3fb9": {
          "model_module": "@jupyter-widgets/controls",
          "model_name": "ProgressStyleModel",
          "model_module_version": "1.5.0",
          "state": {
            "_model_module": "@jupyter-widgets/controls",
            "_model_module_version": "1.5.0",
            "_model_name": "ProgressStyleModel",
            "_view_count": null,
            "_view_module": "@jupyter-widgets/base",
            "_view_module_version": "1.2.0",
            "_view_name": "StyleView",
            "bar_color": null,
            "description_width": ""
          }
        },
        "731fa26f8605477f9612122c6dcaaf61": {
          "model_module": "@jupyter-widgets/base",
          "model_name": "LayoutModel",
          "model_module_version": "1.2.0",
          "state": {
            "_model_module": "@jupyter-widgets/base",
            "_model_module_version": "1.2.0",
            "_model_name": "LayoutModel",
            "_view_count": null,
            "_view_module": "@jupyter-widgets/base",
            "_view_module_version": "1.2.0",
            "_view_name": "LayoutView",
            "align_content": null,
            "align_items": null,
            "align_self": null,
            "border": null,
            "bottom": null,
            "display": null,
            "flex": null,
            "flex_flow": null,
            "grid_area": null,
            "grid_auto_columns": null,
            "grid_auto_flow": null,
            "grid_auto_rows": null,
            "grid_column": null,
            "grid_gap": null,
            "grid_row": null,
            "grid_template_areas": null,
            "grid_template_columns": null,
            "grid_template_rows": null,
            "height": null,
            "justify_content": null,
            "justify_items": null,
            "left": null,
            "margin": null,
            "max_height": null,
            "max_width": null,
            "min_height": null,
            "min_width": null,
            "object_fit": null,
            "object_position": null,
            "order": null,
            "overflow": null,
            "overflow_x": null,
            "overflow_y": null,
            "padding": null,
            "right": null,
            "top": null,
            "visibility": null,
            "width": null
          }
        },
        "d964a49fc63645f4a0b16dcfee3b9b87": {
          "model_module": "@jupyter-widgets/controls",
          "model_name": "DescriptionStyleModel",
          "model_module_version": "1.5.0",
          "state": {
            "_model_module": "@jupyter-widgets/controls",
            "_model_module_version": "1.5.0",
            "_model_name": "DescriptionStyleModel",
            "_view_count": null,
            "_view_module": "@jupyter-widgets/base",
            "_view_module_version": "1.2.0",
            "_view_name": "StyleView",
            "description_width": ""
          }
        },
        "b87eb70831d743af9dd17788733d8453": {
          "model_module": "@jupyter-widgets/controls",
          "model_name": "HBoxModel",
          "model_module_version": "1.5.0",
          "state": {
            "_dom_classes": [],
            "_model_module": "@jupyter-widgets/controls",
            "_model_module_version": "1.5.0",
            "_model_name": "HBoxModel",
            "_view_count": null,
            "_view_module": "@jupyter-widgets/controls",
            "_view_module_version": "1.5.0",
            "_view_name": "HBoxView",
            "box_style": "",
            "children": [
              "IPY_MODEL_d1bbc51dace140bfa9f9bbce4d357ff2",
              "IPY_MODEL_b756e7b228e5462a83bc460c99a311a2",
              "IPY_MODEL_7b717e0acf4545cc96dc2c20326c610d"
            ],
            "layout": "IPY_MODEL_5144c894268e4541803697ef02efccb3"
          }
        },
        "d1bbc51dace140bfa9f9bbce4d357ff2": {
          "model_module": "@jupyter-widgets/controls",
          "model_name": "HTMLModel",
          "model_module_version": "1.5.0",
          "state": {
            "_dom_classes": [],
            "_model_module": "@jupyter-widgets/controls",
            "_model_module_version": "1.5.0",
            "_model_name": "HTMLModel",
            "_view_count": null,
            "_view_module": "@jupyter-widgets/controls",
            "_view_module_version": "1.5.0",
            "_view_name": "HTMLView",
            "description": "",
            "description_tooltip": null,
            "layout": "IPY_MODEL_1a285b9e977e4eb99d3eca81f36590e6",
            "placeholder": "​",
            "style": "IPY_MODEL_0aff395d733b4effbcdc44fac8361a60",
            "value": "model-00001-of-00002.safetensors: 100%"
          }
        },
        "b756e7b228e5462a83bc460c99a311a2": {
          "model_module": "@jupyter-widgets/controls",
          "model_name": "FloatProgressModel",
          "model_module_version": "1.5.0",
          "state": {
            "_dom_classes": [],
            "_model_module": "@jupyter-widgets/controls",
            "_model_module_version": "1.5.0",
            "_model_name": "FloatProgressModel",
            "_view_count": null,
            "_view_module": "@jupyter-widgets/controls",
            "_view_module_version": "1.5.0",
            "_view_name": "ProgressView",
            "bar_style": "success",
            "description": "",
            "description_tooltip": null,
            "layout": "IPY_MODEL_f460dbcffa3e4690989492df85bca6de",
            "max": 9976570520,
            "min": 0,
            "orientation": "horizontal",
            "style": "IPY_MODEL_8e65399b68d845e2ad5dde70d69bc824",
            "value": 9976570520
          }
        },
        "7b717e0acf4545cc96dc2c20326c610d": {
          "model_module": "@jupyter-widgets/controls",
          "model_name": "HTMLModel",
          "model_module_version": "1.5.0",
          "state": {
            "_dom_classes": [],
            "_model_module": "@jupyter-widgets/controls",
            "_model_module_version": "1.5.0",
            "_model_name": "HTMLModel",
            "_view_count": null,
            "_view_module": "@jupyter-widgets/controls",
            "_view_module_version": "1.5.0",
            "_view_name": "HTMLView",
            "description": "",
            "description_tooltip": null,
            "layout": "IPY_MODEL_e092ce65d2b543099cc012b266a0e5b0",
            "placeholder": "​",
            "style": "IPY_MODEL_448ae66935b84be3ba39ef17b602753d",
            "value": " 9.98G/9.98G [02:56&lt;00:00, 85.9MB/s]"
          }
        },
        "5144c894268e4541803697ef02efccb3": {
          "model_module": "@jupyter-widgets/base",
          "model_name": "LayoutModel",
          "model_module_version": "1.2.0",
          "state": {
            "_model_module": "@jupyter-widgets/base",
            "_model_module_version": "1.2.0",
            "_model_name": "LayoutModel",
            "_view_count": null,
            "_view_module": "@jupyter-widgets/base",
            "_view_module_version": "1.2.0",
            "_view_name": "LayoutView",
            "align_content": null,
            "align_items": null,
            "align_self": null,
            "border": null,
            "bottom": null,
            "display": null,
            "flex": null,
            "flex_flow": null,
            "grid_area": null,
            "grid_auto_columns": null,
            "grid_auto_flow": null,
            "grid_auto_rows": null,
            "grid_column": null,
            "grid_gap": null,
            "grid_row": null,
            "grid_template_areas": null,
            "grid_template_columns": null,
            "grid_template_rows": null,
            "height": null,
            "justify_content": null,
            "justify_items": null,
            "left": null,
            "margin": null,
            "max_height": null,
            "max_width": null,
            "min_height": null,
            "min_width": null,
            "object_fit": null,
            "object_position": null,
            "order": null,
            "overflow": null,
            "overflow_x": null,
            "overflow_y": null,
            "padding": null,
            "right": null,
            "top": null,
            "visibility": null,
            "width": null
          }
        },
        "1a285b9e977e4eb99d3eca81f36590e6": {
          "model_module": "@jupyter-widgets/base",
          "model_name": "LayoutModel",
          "model_module_version": "1.2.0",
          "state": {
            "_model_module": "@jupyter-widgets/base",
            "_model_module_version": "1.2.0",
            "_model_name": "LayoutModel",
            "_view_count": null,
            "_view_module": "@jupyter-widgets/base",
            "_view_module_version": "1.2.0",
            "_view_name": "LayoutView",
            "align_content": null,
            "align_items": null,
            "align_self": null,
            "border": null,
            "bottom": null,
            "display": null,
            "flex": null,
            "flex_flow": null,
            "grid_area": null,
            "grid_auto_columns": null,
            "grid_auto_flow": null,
            "grid_auto_rows": null,
            "grid_column": null,
            "grid_gap": null,
            "grid_row": null,
            "grid_template_areas": null,
            "grid_template_columns": null,
            "grid_template_rows": null,
            "height": null,
            "justify_content": null,
            "justify_items": null,
            "left": null,
            "margin": null,
            "max_height": null,
            "max_width": null,
            "min_height": null,
            "min_width": null,
            "object_fit": null,
            "object_position": null,
            "order": null,
            "overflow": null,
            "overflow_x": null,
            "overflow_y": null,
            "padding": null,
            "right": null,
            "top": null,
            "visibility": null,
            "width": null
          }
        },
        "0aff395d733b4effbcdc44fac8361a60": {
          "model_module": "@jupyter-widgets/controls",
          "model_name": "DescriptionStyleModel",
          "model_module_version": "1.5.0",
          "state": {
            "_model_module": "@jupyter-widgets/controls",
            "_model_module_version": "1.5.0",
            "_model_name": "DescriptionStyleModel",
            "_view_count": null,
            "_view_module": "@jupyter-widgets/base",
            "_view_module_version": "1.2.0",
            "_view_name": "StyleView",
            "description_width": ""
          }
        },
        "f460dbcffa3e4690989492df85bca6de": {
          "model_module": "@jupyter-widgets/base",
          "model_name": "LayoutModel",
          "model_module_version": "1.2.0",
          "state": {
            "_model_module": "@jupyter-widgets/base",
            "_model_module_version": "1.2.0",
            "_model_name": "LayoutModel",
            "_view_count": null,
            "_view_module": "@jupyter-widgets/base",
            "_view_module_version": "1.2.0",
            "_view_name": "LayoutView",
            "align_content": null,
            "align_items": null,
            "align_self": null,
            "border": null,
            "bottom": null,
            "display": null,
            "flex": null,
            "flex_flow": null,
            "grid_area": null,
            "grid_auto_columns": null,
            "grid_auto_flow": null,
            "grid_auto_rows": null,
            "grid_column": null,
            "grid_gap": null,
            "grid_row": null,
            "grid_template_areas": null,
            "grid_template_columns": null,
            "grid_template_rows": null,
            "height": null,
            "justify_content": null,
            "justify_items": null,
            "left": null,
            "margin": null,
            "max_height": null,
            "max_width": null,
            "min_height": null,
            "min_width": null,
            "object_fit": null,
            "object_position": null,
            "order": null,
            "overflow": null,
            "overflow_x": null,
            "overflow_y": null,
            "padding": null,
            "right": null,
            "top": null,
            "visibility": null,
            "width": null
          }
        },
        "8e65399b68d845e2ad5dde70d69bc824": {
          "model_module": "@jupyter-widgets/controls",
          "model_name": "ProgressStyleModel",
          "model_module_version": "1.5.0",
          "state": {
            "_model_module": "@jupyter-widgets/controls",
            "_model_module_version": "1.5.0",
            "_model_name": "ProgressStyleModel",
            "_view_count": null,
            "_view_module": "@jupyter-widgets/base",
            "_view_module_version": "1.2.0",
            "_view_name": "StyleView",
            "bar_color": null,
            "description_width": ""
          }
        },
        "e092ce65d2b543099cc012b266a0e5b0": {
          "model_module": "@jupyter-widgets/base",
          "model_name": "LayoutModel",
          "model_module_version": "1.2.0",
          "state": {
            "_model_module": "@jupyter-widgets/base",
            "_model_module_version": "1.2.0",
            "_model_name": "LayoutModel",
            "_view_count": null,
            "_view_module": "@jupyter-widgets/base",
            "_view_module_version": "1.2.0",
            "_view_name": "LayoutView",
            "align_content": null,
            "align_items": null,
            "align_self": null,
            "border": null,
            "bottom": null,
            "display": null,
            "flex": null,
            "flex_flow": null,
            "grid_area": null,
            "grid_auto_columns": null,
            "grid_auto_flow": null,
            "grid_auto_rows": null,
            "grid_column": null,
            "grid_gap": null,
            "grid_row": null,
            "grid_template_areas": null,
            "grid_template_columns": null,
            "grid_template_rows": null,
            "height": null,
            "justify_content": null,
            "justify_items": null,
            "left": null,
            "margin": null,
            "max_height": null,
            "max_width": null,
            "min_height": null,
            "min_width": null,
            "object_fit": null,
            "object_position": null,
            "order": null,
            "overflow": null,
            "overflow_x": null,
            "overflow_y": null,
            "padding": null,
            "right": null,
            "top": null,
            "visibility": null,
            "width": null
          }
        },
        "448ae66935b84be3ba39ef17b602753d": {
          "model_module": "@jupyter-widgets/controls",
          "model_name": "DescriptionStyleModel",
          "model_module_version": "1.5.0",
          "state": {
            "_model_module": "@jupyter-widgets/controls",
            "_model_module_version": "1.5.0",
            "_model_name": "DescriptionStyleModel",
            "_view_count": null,
            "_view_module": "@jupyter-widgets/base",
            "_view_module_version": "1.2.0",
            "_view_name": "StyleView",
            "description_width": ""
          }
        },
        "beef983f82ff4df6bfe9ae923198e7fa": {
          "model_module": "@jupyter-widgets/controls",
          "model_name": "HBoxModel",
          "model_module_version": "1.5.0",
          "state": {
            "_dom_classes": [],
            "_model_module": "@jupyter-widgets/controls",
            "_model_module_version": "1.5.0",
            "_model_name": "HBoxModel",
            "_view_count": null,
            "_view_module": "@jupyter-widgets/controls",
            "_view_module_version": "1.5.0",
            "_view_name": "HBoxView",
            "box_style": "",
            "children": [
              "IPY_MODEL_56dac6b7076f44fbaeda308d707d582e",
              "IPY_MODEL_cbd3162ff108414e873d6dabdd7c2ab9",
              "IPY_MODEL_785a7e4164f0448dbddee6192cfc7e28"
            ],
            "layout": "IPY_MODEL_169aa61cd4a14480978e15eb4cac9ac7"
          }
        },
        "56dac6b7076f44fbaeda308d707d582e": {
          "model_module": "@jupyter-widgets/controls",
          "model_name": "HTMLModel",
          "model_module_version": "1.5.0",
          "state": {
            "_dom_classes": [],
            "_model_module": "@jupyter-widgets/controls",
            "_model_module_version": "1.5.0",
            "_model_name": "HTMLModel",
            "_view_count": null,
            "_view_module": "@jupyter-widgets/controls",
            "_view_module_version": "1.5.0",
            "_view_name": "HTMLView",
            "description": "",
            "description_tooltip": null,
            "layout": "IPY_MODEL_a1506cd06043412a8be878b774af99f1",
            "placeholder": "​",
            "style": "IPY_MODEL_96aab806aeee41abbaa5cc806c3006ba",
            "value": "model-00002-of-00002.safetensors: 100%"
          }
        },
        "cbd3162ff108414e873d6dabdd7c2ab9": {
          "model_module": "@jupyter-widgets/controls",
          "model_name": "FloatProgressModel",
          "model_module_version": "1.5.0",
          "state": {
            "_dom_classes": [],
            "_model_module": "@jupyter-widgets/controls",
            "_model_module_version": "1.5.0",
            "_model_name": "FloatProgressModel",
            "_view_count": null,
            "_view_module": "@jupyter-widgets/controls",
            "_view_module_version": "1.5.0",
            "_view_name": "ProgressView",
            "bar_style": "success",
            "description": "",
            "description_tooltip": null,
            "layout": "IPY_MODEL_9f36ad2da80e4b8d97ccb316a464bc71",
            "max": 3500294544,
            "min": 0,
            "orientation": "horizontal",
            "style": "IPY_MODEL_ff5a774671f341b2ab6b276d9f478810",
            "value": 3500294544
          }
        },
        "785a7e4164f0448dbddee6192cfc7e28": {
          "model_module": "@jupyter-widgets/controls",
          "model_name": "HTMLModel",
          "model_module_version": "1.5.0",
          "state": {
            "_dom_classes": [],
            "_model_module": "@jupyter-widgets/controls",
            "_model_module_version": "1.5.0",
            "_model_name": "HTMLModel",
            "_view_count": null,
            "_view_module": "@jupyter-widgets/controls",
            "_view_module_version": "1.5.0",
            "_view_name": "HTMLView",
            "description": "",
            "description_tooltip": null,
            "layout": "IPY_MODEL_ad8c9f22ed24453380a09095b80aa410",
            "placeholder": "​",
            "style": "IPY_MODEL_6a5aeea70773425e952134aac3b250b9",
            "value": " 3.50G/3.50G [00:43&lt;00:00, 85.7MB/s]"
          }
        },
        "169aa61cd4a14480978e15eb4cac9ac7": {
          "model_module": "@jupyter-widgets/base",
          "model_name": "LayoutModel",
          "model_module_version": "1.2.0",
          "state": {
            "_model_module": "@jupyter-widgets/base",
            "_model_module_version": "1.2.0",
            "_model_name": "LayoutModel",
            "_view_count": null,
            "_view_module": "@jupyter-widgets/base",
            "_view_module_version": "1.2.0",
            "_view_name": "LayoutView",
            "align_content": null,
            "align_items": null,
            "align_self": null,
            "border": null,
            "bottom": null,
            "display": null,
            "flex": null,
            "flex_flow": null,
            "grid_area": null,
            "grid_auto_columns": null,
            "grid_auto_flow": null,
            "grid_auto_rows": null,
            "grid_column": null,
            "grid_gap": null,
            "grid_row": null,
            "grid_template_areas": null,
            "grid_template_columns": null,
            "grid_template_rows": null,
            "height": null,
            "justify_content": null,
            "justify_items": null,
            "left": null,
            "margin": null,
            "max_height": null,
            "max_width": null,
            "min_height": null,
            "min_width": null,
            "object_fit": null,
            "object_position": null,
            "order": null,
            "overflow": null,
            "overflow_x": null,
            "overflow_y": null,
            "padding": null,
            "right": null,
            "top": null,
            "visibility": null,
            "width": null
          }
        },
        "a1506cd06043412a8be878b774af99f1": {
          "model_module": "@jupyter-widgets/base",
          "model_name": "LayoutModel",
          "model_module_version": "1.2.0",
          "state": {
            "_model_module": "@jupyter-widgets/base",
            "_model_module_version": "1.2.0",
            "_model_name": "LayoutModel",
            "_view_count": null,
            "_view_module": "@jupyter-widgets/base",
            "_view_module_version": "1.2.0",
            "_view_name": "LayoutView",
            "align_content": null,
            "align_items": null,
            "align_self": null,
            "border": null,
            "bottom": null,
            "display": null,
            "flex": null,
            "flex_flow": null,
            "grid_area": null,
            "grid_auto_columns": null,
            "grid_auto_flow": null,
            "grid_auto_rows": null,
            "grid_column": null,
            "grid_gap": null,
            "grid_row": null,
            "grid_template_areas": null,
            "grid_template_columns": null,
            "grid_template_rows": null,
            "height": null,
            "justify_content": null,
            "justify_items": null,
            "left": null,
            "margin": null,
            "max_height": null,
            "max_width": null,
            "min_height": null,
            "min_width": null,
            "object_fit": null,
            "object_position": null,
            "order": null,
            "overflow": null,
            "overflow_x": null,
            "overflow_y": null,
            "padding": null,
            "right": null,
            "top": null,
            "visibility": null,
            "width": null
          }
        },
        "96aab806aeee41abbaa5cc806c3006ba": {
          "model_module": "@jupyter-widgets/controls",
          "model_name": "DescriptionStyleModel",
          "model_module_version": "1.5.0",
          "state": {
            "_model_module": "@jupyter-widgets/controls",
            "_model_module_version": "1.5.0",
            "_model_name": "DescriptionStyleModel",
            "_view_count": null,
            "_view_module": "@jupyter-widgets/base",
            "_view_module_version": "1.2.0",
            "_view_name": "StyleView",
            "description_width": ""
          }
        },
        "9f36ad2da80e4b8d97ccb316a464bc71": {
          "model_module": "@jupyter-widgets/base",
          "model_name": "LayoutModel",
          "model_module_version": "1.2.0",
          "state": {
            "_model_module": "@jupyter-widgets/base",
            "_model_module_version": "1.2.0",
            "_model_name": "LayoutModel",
            "_view_count": null,
            "_view_module": "@jupyter-widgets/base",
            "_view_module_version": "1.2.0",
            "_view_name": "LayoutView",
            "align_content": null,
            "align_items": null,
            "align_self": null,
            "border": null,
            "bottom": null,
            "display": null,
            "flex": null,
            "flex_flow": null,
            "grid_area": null,
            "grid_auto_columns": null,
            "grid_auto_flow": null,
            "grid_auto_rows": null,
            "grid_column": null,
            "grid_gap": null,
            "grid_row": null,
            "grid_template_areas": null,
            "grid_template_columns": null,
            "grid_template_rows": null,
            "height": null,
            "justify_content": null,
            "justify_items": null,
            "left": null,
            "margin": null,
            "max_height": null,
            "max_width": null,
            "min_height": null,
            "min_width": null,
            "object_fit": null,
            "object_position": null,
            "order": null,
            "overflow": null,
            "overflow_x": null,
            "overflow_y": null,
            "padding": null,
            "right": null,
            "top": null,
            "visibility": null,
            "width": null
          }
        },
        "ff5a774671f341b2ab6b276d9f478810": {
          "model_module": "@jupyter-widgets/controls",
          "model_name": "ProgressStyleModel",
          "model_module_version": "1.5.0",
          "state": {
            "_model_module": "@jupyter-widgets/controls",
            "_model_module_version": "1.5.0",
            "_model_name": "ProgressStyleModel",
            "_view_count": null,
            "_view_module": "@jupyter-widgets/base",
            "_view_module_version": "1.2.0",
            "_view_name": "StyleView",
            "bar_color": null,
            "description_width": ""
          }
        },
        "ad8c9f22ed24453380a09095b80aa410": {
          "model_module": "@jupyter-widgets/base",
          "model_name": "LayoutModel",
          "model_module_version": "1.2.0",
          "state": {
            "_model_module": "@jupyter-widgets/base",
            "_model_module_version": "1.2.0",
            "_model_name": "LayoutModel",
            "_view_count": null,
            "_view_module": "@jupyter-widgets/base",
            "_view_module_version": "1.2.0",
            "_view_name": "LayoutView",
            "align_content": null,
            "align_items": null,
            "align_self": null,
            "border": null,
            "bottom": null,
            "display": null,
            "flex": null,
            "flex_flow": null,
            "grid_area": null,
            "grid_auto_columns": null,
            "grid_auto_flow": null,
            "grid_auto_rows": null,
            "grid_column": null,
            "grid_gap": null,
            "grid_row": null,
            "grid_template_areas": null,
            "grid_template_columns": null,
            "grid_template_rows": null,
            "height": null,
            "justify_content": null,
            "justify_items": null,
            "left": null,
            "margin": null,
            "max_height": null,
            "max_width": null,
            "min_height": null,
            "min_width": null,
            "object_fit": null,
            "object_position": null,
            "order": null,
            "overflow": null,
            "overflow_x": null,
            "overflow_y": null,
            "padding": null,
            "right": null,
            "top": null,
            "visibility": null,
            "width": null
          }
        },
        "6a5aeea70773425e952134aac3b250b9": {
          "model_module": "@jupyter-widgets/controls",
          "model_name": "DescriptionStyleModel",
          "model_module_version": "1.5.0",
          "state": {
            "_model_module": "@jupyter-widgets/controls",
            "_model_module_version": "1.5.0",
            "_model_name": "DescriptionStyleModel",
            "_view_count": null,
            "_view_module": "@jupyter-widgets/base",
            "_view_module_version": "1.2.0",
            "_view_name": "StyleView",
            "description_width": ""
          }
        },
        "1716e7069f1c4b8f9f8b1aef711f1b2c": {
          "model_module": "@jupyter-widgets/controls",
          "model_name": "HBoxModel",
          "model_module_version": "1.5.0",
          "state": {
            "_dom_classes": [],
            "_model_module": "@jupyter-widgets/controls",
            "_model_module_version": "1.5.0",
            "_model_name": "HBoxModel",
            "_view_count": null,
            "_view_module": "@jupyter-widgets/controls",
            "_view_module_version": "1.5.0",
            "_view_name": "HBoxView",
            "box_style": "",
            "children": [
              "IPY_MODEL_3ca16926d30e4cae94ad2d7efd16e7ee",
              "IPY_MODEL_cc76ed925274474fa6b810c1d6452f90",
              "IPY_MODEL_b4847bb51b844bd3827d4cf2c486457e"
            ],
            "layout": "IPY_MODEL_7e7f0b1225fc4ae3b285dbe8c9240d2e"
          }
        },
        "3ca16926d30e4cae94ad2d7efd16e7ee": {
          "model_module": "@jupyter-widgets/controls",
          "model_name": "HTMLModel",
          "model_module_version": "1.5.0",
          "state": {
            "_dom_classes": [],
            "_model_module": "@jupyter-widgets/controls",
            "_model_module_version": "1.5.0",
            "_model_name": "HTMLModel",
            "_view_count": null,
            "_view_module": "@jupyter-widgets/controls",
            "_view_module_version": "1.5.0",
            "_view_name": "HTMLView",
            "description": "",
            "description_tooltip": null,
            "layout": "IPY_MODEL_13b793e5a776420097f8999196a5c962",
            "placeholder": "​",
            "style": "IPY_MODEL_9a7e48ae757d4815a8298675052f287a",
            "value": "Loading checkpoint shards: 100%"
          }
        },
        "cc76ed925274474fa6b810c1d6452f90": {
          "model_module": "@jupyter-widgets/controls",
          "model_name": "FloatProgressModel",
          "model_module_version": "1.5.0",
          "state": {
            "_dom_classes": [],
            "_model_module": "@jupyter-widgets/controls",
            "_model_module_version": "1.5.0",
            "_model_name": "FloatProgressModel",
            "_view_count": null,
            "_view_module": "@jupyter-widgets/controls",
            "_view_module_version": "1.5.0",
            "_view_name": "ProgressView",
            "bar_style": "success",
            "description": "",
            "description_tooltip": null,
            "layout": "IPY_MODEL_b76f3154b5f243fe8fa6047b7af157f8",
            "max": 2,
            "min": 0,
            "orientation": "horizontal",
            "style": "IPY_MODEL_2ca9d67825c146688ad650feae38f212",
            "value": 2
          }
        },
        "b4847bb51b844bd3827d4cf2c486457e": {
          "model_module": "@jupyter-widgets/controls",
          "model_name": "HTMLModel",
          "model_module_version": "1.5.0",
          "state": {
            "_dom_classes": [],
            "_model_module": "@jupyter-widgets/controls",
            "_model_module_version": "1.5.0",
            "_model_name": "HTMLModel",
            "_view_count": null,
            "_view_module": "@jupyter-widgets/controls",
            "_view_module_version": "1.5.0",
            "_view_name": "HTMLView",
            "description": "",
            "description_tooltip": null,
            "layout": "IPY_MODEL_3422cfab34904c399b5327794d2f4f38",
            "placeholder": "​",
            "style": "IPY_MODEL_a72781ec2cad421eac8697b85766f1bb",
            "value": " 2/2 [01:05&lt;00:00, 30.18s/it]"
          }
        },
        "7e7f0b1225fc4ae3b285dbe8c9240d2e": {
          "model_module": "@jupyter-widgets/base",
          "model_name": "LayoutModel",
          "model_module_version": "1.2.0",
          "state": {
            "_model_module": "@jupyter-widgets/base",
            "_model_module_version": "1.2.0",
            "_model_name": "LayoutModel",
            "_view_count": null,
            "_view_module": "@jupyter-widgets/base",
            "_view_module_version": "1.2.0",
            "_view_name": "LayoutView",
            "align_content": null,
            "align_items": null,
            "align_self": null,
            "border": null,
            "bottom": null,
            "display": null,
            "flex": null,
            "flex_flow": null,
            "grid_area": null,
            "grid_auto_columns": null,
            "grid_auto_flow": null,
            "grid_auto_rows": null,
            "grid_column": null,
            "grid_gap": null,
            "grid_row": null,
            "grid_template_areas": null,
            "grid_template_columns": null,
            "grid_template_rows": null,
            "height": null,
            "justify_content": null,
            "justify_items": null,
            "left": null,
            "margin": null,
            "max_height": null,
            "max_width": null,
            "min_height": null,
            "min_width": null,
            "object_fit": null,
            "object_position": null,
            "order": null,
            "overflow": null,
            "overflow_x": null,
            "overflow_y": null,
            "padding": null,
            "right": null,
            "top": null,
            "visibility": null,
            "width": null
          }
        },
        "13b793e5a776420097f8999196a5c962": {
          "model_module": "@jupyter-widgets/base",
          "model_name": "LayoutModel",
          "model_module_version": "1.2.0",
          "state": {
            "_model_module": "@jupyter-widgets/base",
            "_model_module_version": "1.2.0",
            "_model_name": "LayoutModel",
            "_view_count": null,
            "_view_module": "@jupyter-widgets/base",
            "_view_module_version": "1.2.0",
            "_view_name": "LayoutView",
            "align_content": null,
            "align_items": null,
            "align_self": null,
            "border": null,
            "bottom": null,
            "display": null,
            "flex": null,
            "flex_flow": null,
            "grid_area": null,
            "grid_auto_columns": null,
            "grid_auto_flow": null,
            "grid_auto_rows": null,
            "grid_column": null,
            "grid_gap": null,
            "grid_row": null,
            "grid_template_areas": null,
            "grid_template_columns": null,
            "grid_template_rows": null,
            "height": null,
            "justify_content": null,
            "justify_items": null,
            "left": null,
            "margin": null,
            "max_height": null,
            "max_width": null,
            "min_height": null,
            "min_width": null,
            "object_fit": null,
            "object_position": null,
            "order": null,
            "overflow": null,
            "overflow_x": null,
            "overflow_y": null,
            "padding": null,
            "right": null,
            "top": null,
            "visibility": null,
            "width": null
          }
        },
        "9a7e48ae757d4815a8298675052f287a": {
          "model_module": "@jupyter-widgets/controls",
          "model_name": "DescriptionStyleModel",
          "model_module_version": "1.5.0",
          "state": {
            "_model_module": "@jupyter-widgets/controls",
            "_model_module_version": "1.5.0",
            "_model_name": "DescriptionStyleModel",
            "_view_count": null,
            "_view_module": "@jupyter-widgets/base",
            "_view_module_version": "1.2.0",
            "_view_name": "StyleView",
            "description_width": ""
          }
        },
        "b76f3154b5f243fe8fa6047b7af157f8": {
          "model_module": "@jupyter-widgets/base",
          "model_name": "LayoutModel",
          "model_module_version": "1.2.0",
          "state": {
            "_model_module": "@jupyter-widgets/base",
            "_model_module_version": "1.2.0",
            "_model_name": "LayoutModel",
            "_view_count": null,
            "_view_module": "@jupyter-widgets/base",
            "_view_module_version": "1.2.0",
            "_view_name": "LayoutView",
            "align_content": null,
            "align_items": null,
            "align_self": null,
            "border": null,
            "bottom": null,
            "display": null,
            "flex": null,
            "flex_flow": null,
            "grid_area": null,
            "grid_auto_columns": null,
            "grid_auto_flow": null,
            "grid_auto_rows": null,
            "grid_column": null,
            "grid_gap": null,
            "grid_row": null,
            "grid_template_areas": null,
            "grid_template_columns": null,
            "grid_template_rows": null,
            "height": null,
            "justify_content": null,
            "justify_items": null,
            "left": null,
            "margin": null,
            "max_height": null,
            "max_width": null,
            "min_height": null,
            "min_width": null,
            "object_fit": null,
            "object_position": null,
            "order": null,
            "overflow": null,
            "overflow_x": null,
            "overflow_y": null,
            "padding": null,
            "right": null,
            "top": null,
            "visibility": null,
            "width": null
          }
        },
        "2ca9d67825c146688ad650feae38f212": {
          "model_module": "@jupyter-widgets/controls",
          "model_name": "ProgressStyleModel",
          "model_module_version": "1.5.0",
          "state": {
            "_model_module": "@jupyter-widgets/controls",
            "_model_module_version": "1.5.0",
            "_model_name": "ProgressStyleModel",
            "_view_count": null,
            "_view_module": "@jupyter-widgets/base",
            "_view_module_version": "1.2.0",
            "_view_name": "StyleView",
            "bar_color": null,
            "description_width": ""
          }
        },
        "3422cfab34904c399b5327794d2f4f38": {
          "model_module": "@jupyter-widgets/base",
          "model_name": "LayoutModel",
          "model_module_version": "1.2.0",
          "state": {
            "_model_module": "@jupyter-widgets/base",
            "_model_module_version": "1.2.0",
            "_model_name": "LayoutModel",
            "_view_count": null,
            "_view_module": "@jupyter-widgets/base",
            "_view_module_version": "1.2.0",
            "_view_name": "LayoutView",
            "align_content": null,
            "align_items": null,
            "align_self": null,
            "border": null,
            "bottom": null,
            "display": null,
            "flex": null,
            "flex_flow": null,
            "grid_area": null,
            "grid_auto_columns": null,
            "grid_auto_flow": null,
            "grid_auto_rows": null,
            "grid_column": null,
            "grid_gap": null,
            "grid_row": null,
            "grid_template_areas": null,
            "grid_template_columns": null,
            "grid_template_rows": null,
            "height": null,
            "justify_content": null,
            "justify_items": null,
            "left": null,
            "margin": null,
            "max_height": null,
            "max_width": null,
            "min_height": null,
            "min_width": null,
            "object_fit": null,
            "object_position": null,
            "order": null,
            "overflow": null,
            "overflow_x": null,
            "overflow_y": null,
            "padding": null,
            "right": null,
            "top": null,
            "visibility": null,
            "width": null
          }
        },
        "a72781ec2cad421eac8697b85766f1bb": {
          "model_module": "@jupyter-widgets/controls",
          "model_name": "DescriptionStyleModel",
          "model_module_version": "1.5.0",
          "state": {
            "_model_module": "@jupyter-widgets/controls",
            "_model_module_version": "1.5.0",
            "_model_name": "DescriptionStyleModel",
            "_view_count": null,
            "_view_module": "@jupyter-widgets/base",
            "_view_module_version": "1.2.0",
            "_view_name": "StyleView",
            "description_width": ""
          }
        },
        "01fe3ed1f07d49799bc3fcd70ac6fdf3": {
          "model_module": "@jupyter-widgets/controls",
          "model_name": "HBoxModel",
          "model_module_version": "1.5.0",
          "state": {
            "_dom_classes": [],
            "_model_module": "@jupyter-widgets/controls",
            "_model_module_version": "1.5.0",
            "_model_name": "HBoxModel",
            "_view_count": null,
            "_view_module": "@jupyter-widgets/controls",
            "_view_module_version": "1.5.0",
            "_view_name": "HBoxView",
            "box_style": "",
            "children": [
              "IPY_MODEL_bbd98e27509e469f94411c34ede228ee",
              "IPY_MODEL_67d150d8840f4cce9b0a27e409cdbc12",
              "IPY_MODEL_3d1e5f60d2b043669fa8ed8759573f78"
            ],
            "layout": "IPY_MODEL_ec94f5bb4b1a4ecdad5b9a8442f0a803"
          }
        },
        "bbd98e27509e469f94411c34ede228ee": {
          "model_module": "@jupyter-widgets/controls",
          "model_name": "HTMLModel",
          "model_module_version": "1.5.0",
          "state": {
            "_dom_classes": [],
            "_model_module": "@jupyter-widgets/controls",
            "_model_module_version": "1.5.0",
            "_model_name": "HTMLModel",
            "_view_count": null,
            "_view_module": "@jupyter-widgets/controls",
            "_view_module_version": "1.5.0",
            "_view_name": "HTMLView",
            "description": "",
            "description_tooltip": null,
            "layout": "IPY_MODEL_ca8ea80309c54348adfa7745ae62092a",
            "placeholder": "​",
            "style": "IPY_MODEL_2156aa2cf54e40948af7961f9f0a0c17",
            "value": "generation_config.json: 100%"
          }
        },
        "67d150d8840f4cce9b0a27e409cdbc12": {
          "model_module": "@jupyter-widgets/controls",
          "model_name": "FloatProgressModel",
          "model_module_version": "1.5.0",
          "state": {
            "_dom_classes": [],
            "_model_module": "@jupyter-widgets/controls",
            "_model_module_version": "1.5.0",
            "_model_name": "FloatProgressModel",
            "_view_count": null,
            "_view_module": "@jupyter-widgets/controls",
            "_view_module_version": "1.5.0",
            "_view_name": "ProgressView",
            "bar_style": "success",
            "description": "",
            "description_tooltip": null,
            "layout": "IPY_MODEL_389da40c496a4935bdadea90904a5501",
            "max": 116,
            "min": 0,
            "orientation": "horizontal",
            "style": "IPY_MODEL_5d5c97ebf8ca40b1884cb99d2cb33bd9",
            "value": 116
          }
        },
        "3d1e5f60d2b043669fa8ed8759573f78": {
          "model_module": "@jupyter-widgets/controls",
          "model_name": "HTMLModel",
          "model_module_version": "1.5.0",
          "state": {
            "_dom_classes": [],
            "_model_module": "@jupyter-widgets/controls",
            "_model_module_version": "1.5.0",
            "_model_name": "HTMLModel",
            "_view_count": null,
            "_view_module": "@jupyter-widgets/controls",
            "_view_module_version": "1.5.0",
            "_view_name": "HTMLView",
            "description": "",
            "description_tooltip": null,
            "layout": "IPY_MODEL_c0a192f98ab44660ad9c5130f5094d26",
            "placeholder": "​",
            "style": "IPY_MODEL_12d578720a154517b6a7c8b1109fea9a",
            "value": " 116/116 [00:00&lt;00:00, 7.58kB/s]"
          }
        },
        "ec94f5bb4b1a4ecdad5b9a8442f0a803": {
          "model_module": "@jupyter-widgets/base",
          "model_name": "LayoutModel",
          "model_module_version": "1.2.0",
          "state": {
            "_model_module": "@jupyter-widgets/base",
            "_model_module_version": "1.2.0",
            "_model_name": "LayoutModel",
            "_view_count": null,
            "_view_module": "@jupyter-widgets/base",
            "_view_module_version": "1.2.0",
            "_view_name": "LayoutView",
            "align_content": null,
            "align_items": null,
            "align_self": null,
            "border": null,
            "bottom": null,
            "display": null,
            "flex": null,
            "flex_flow": null,
            "grid_area": null,
            "grid_auto_columns": null,
            "grid_auto_flow": null,
            "grid_auto_rows": null,
            "grid_column": null,
            "grid_gap": null,
            "grid_row": null,
            "grid_template_areas": null,
            "grid_template_columns": null,
            "grid_template_rows": null,
            "height": null,
            "justify_content": null,
            "justify_items": null,
            "left": null,
            "margin": null,
            "max_height": null,
            "max_width": null,
            "min_height": null,
            "min_width": null,
            "object_fit": null,
            "object_position": null,
            "order": null,
            "overflow": null,
            "overflow_x": null,
            "overflow_y": null,
            "padding": null,
            "right": null,
            "top": null,
            "visibility": null,
            "width": null
          }
        },
        "ca8ea80309c54348adfa7745ae62092a": {
          "model_module": "@jupyter-widgets/base",
          "model_name": "LayoutModel",
          "model_module_version": "1.2.0",
          "state": {
            "_model_module": "@jupyter-widgets/base",
            "_model_module_version": "1.2.0",
            "_model_name": "LayoutModel",
            "_view_count": null,
            "_view_module": "@jupyter-widgets/base",
            "_view_module_version": "1.2.0",
            "_view_name": "LayoutView",
            "align_content": null,
            "align_items": null,
            "align_self": null,
            "border": null,
            "bottom": null,
            "display": null,
            "flex": null,
            "flex_flow": null,
            "grid_area": null,
            "grid_auto_columns": null,
            "grid_auto_flow": null,
            "grid_auto_rows": null,
            "grid_column": null,
            "grid_gap": null,
            "grid_row": null,
            "grid_template_areas": null,
            "grid_template_columns": null,
            "grid_template_rows": null,
            "height": null,
            "justify_content": null,
            "justify_items": null,
            "left": null,
            "margin": null,
            "max_height": null,
            "max_width": null,
            "min_height": null,
            "min_width": null,
            "object_fit": null,
            "object_position": null,
            "order": null,
            "overflow": null,
            "overflow_x": null,
            "overflow_y": null,
            "padding": null,
            "right": null,
            "top": null,
            "visibility": null,
            "width": null
          }
        },
        "2156aa2cf54e40948af7961f9f0a0c17": {
          "model_module": "@jupyter-widgets/controls",
          "model_name": "DescriptionStyleModel",
          "model_module_version": "1.5.0",
          "state": {
            "_model_module": "@jupyter-widgets/controls",
            "_model_module_version": "1.5.0",
            "_model_name": "DescriptionStyleModel",
            "_view_count": null,
            "_view_module": "@jupyter-widgets/base",
            "_view_module_version": "1.2.0",
            "_view_name": "StyleView",
            "description_width": ""
          }
        },
        "389da40c496a4935bdadea90904a5501": {
          "model_module": "@jupyter-widgets/base",
          "model_name": "LayoutModel",
          "model_module_version": "1.2.0",
          "state": {
            "_model_module": "@jupyter-widgets/base",
            "_model_module_version": "1.2.0",
            "_model_name": "LayoutModel",
            "_view_count": null,
            "_view_module": "@jupyter-widgets/base",
            "_view_module_version": "1.2.0",
            "_view_name": "LayoutView",
            "align_content": null,
            "align_items": null,
            "align_self": null,
            "border": null,
            "bottom": null,
            "display": null,
            "flex": null,
            "flex_flow": null,
            "grid_area": null,
            "grid_auto_columns": null,
            "grid_auto_flow": null,
            "grid_auto_rows": null,
            "grid_column": null,
            "grid_gap": null,
            "grid_row": null,
            "grid_template_areas": null,
            "grid_template_columns": null,
            "grid_template_rows": null,
            "height": null,
            "justify_content": null,
            "justify_items": null,
            "left": null,
            "margin": null,
            "max_height": null,
            "max_width": null,
            "min_height": null,
            "min_width": null,
            "object_fit": null,
            "object_position": null,
            "order": null,
            "overflow": null,
            "overflow_x": null,
            "overflow_y": null,
            "padding": null,
            "right": null,
            "top": null,
            "visibility": null,
            "width": null
          }
        },
        "5d5c97ebf8ca40b1884cb99d2cb33bd9": {
          "model_module": "@jupyter-widgets/controls",
          "model_name": "ProgressStyleModel",
          "model_module_version": "1.5.0",
          "state": {
            "_model_module": "@jupyter-widgets/controls",
            "_model_module_version": "1.5.0",
            "_model_name": "ProgressStyleModel",
            "_view_count": null,
            "_view_module": "@jupyter-widgets/base",
            "_view_module_version": "1.2.0",
            "_view_name": "StyleView",
            "bar_color": null,
            "description_width": ""
          }
        },
        "c0a192f98ab44660ad9c5130f5094d26": {
          "model_module": "@jupyter-widgets/base",
          "model_name": "LayoutModel",
          "model_module_version": "1.2.0",
          "state": {
            "_model_module": "@jupyter-widgets/base",
            "_model_module_version": "1.2.0",
            "_model_name": "LayoutModel",
            "_view_count": null,
            "_view_module": "@jupyter-widgets/base",
            "_view_module_version": "1.2.0",
            "_view_name": "LayoutView",
            "align_content": null,
            "align_items": null,
            "align_self": null,
            "border": null,
            "bottom": null,
            "display": null,
            "flex": null,
            "flex_flow": null,
            "grid_area": null,
            "grid_auto_columns": null,
            "grid_auto_flow": null,
            "grid_auto_rows": null,
            "grid_column": null,
            "grid_gap": null,
            "grid_row": null,
            "grid_template_areas": null,
            "grid_template_columns": null,
            "grid_template_rows": null,
            "height": null,
            "justify_content": null,
            "justify_items": null,
            "left": null,
            "margin": null,
            "max_height": null,
            "max_width": null,
            "min_height": null,
            "min_width": null,
            "object_fit": null,
            "object_position": null,
            "order": null,
            "overflow": null,
            "overflow_x": null,
            "overflow_y": null,
            "padding": null,
            "right": null,
            "top": null,
            "visibility": null,
            "width": null
          }
        },
        "12d578720a154517b6a7c8b1109fea9a": {
          "model_module": "@jupyter-widgets/controls",
          "model_name": "DescriptionStyleModel",
          "model_module_version": "1.5.0",
          "state": {
            "_model_module": "@jupyter-widgets/controls",
            "_model_module_version": "1.5.0",
            "_model_name": "DescriptionStyleModel",
            "_view_count": null,
            "_view_module": "@jupyter-widgets/base",
            "_view_module_version": "1.2.0",
            "_view_name": "StyleView",
            "description_width": ""
          }
        },
        "e187891f22dd4541950ef5820cccec77": {
          "model_module": "@jupyter-widgets/controls",
          "model_name": "HBoxModel",
          "model_module_version": "1.5.0",
          "state": {
            "_dom_classes": [],
            "_model_module": "@jupyter-widgets/controls",
            "_model_module_version": "1.5.0",
            "_model_name": "HBoxModel",
            "_view_count": null,
            "_view_module": "@jupyter-widgets/controls",
            "_view_module_version": "1.5.0",
            "_view_name": "HBoxView",
            "box_style": "",
            "children": [
              "IPY_MODEL_0665f4f1d44744a9adfaab4520f9dfd3",
              "IPY_MODEL_ae7f2a17ec7b409f9fb066463c5932b5",
              "IPY_MODEL_bbcd427d01b549369a8a6a4bb51d5f2e"
            ],
            "layout": "IPY_MODEL_c08dcc33d27442f7be645af351b7fe56"
          }
        },
        "0665f4f1d44744a9adfaab4520f9dfd3": {
          "model_module": "@jupyter-widgets/controls",
          "model_name": "HTMLModel",
          "model_module_version": "1.5.0",
          "state": {
            "_dom_classes": [],
            "_model_module": "@jupyter-widgets/controls",
            "_model_module_version": "1.5.0",
            "_model_name": "HTMLModel",
            "_view_count": null,
            "_view_module": "@jupyter-widgets/controls",
            "_view_module_version": "1.5.0",
            "_view_name": "HTMLView",
            "description": "",
            "description_tooltip": null,
            "layout": "IPY_MODEL_ac4ac0bf8b634493a5e86e563ecc4488",
            "placeholder": "​",
            "style": "IPY_MODEL_7ab10f09f3c54592908e7121373b4616",
            "value": "tokenizer_config.json: 100%"
          }
        },
        "ae7f2a17ec7b409f9fb066463c5932b5": {
          "model_module": "@jupyter-widgets/controls",
          "model_name": "FloatProgressModel",
          "model_module_version": "1.5.0",
          "state": {
            "_dom_classes": [],
            "_model_module": "@jupyter-widgets/controls",
            "_model_module_version": "1.5.0",
            "_model_name": "FloatProgressModel",
            "_view_count": null,
            "_view_module": "@jupyter-widgets/controls",
            "_view_module_version": "1.5.0",
            "_view_name": "ProgressView",
            "bar_style": "success",
            "description": "",
            "description_tooltip": null,
            "layout": "IPY_MODEL_04be0c2e115b4418a49b6ca58f77dc60",
            "max": 749,
            "min": 0,
            "orientation": "horizontal",
            "style": "IPY_MODEL_78f89d1287aa494d95dbd2d0553007ae",
            "value": 749
          }
        },
        "bbcd427d01b549369a8a6a4bb51d5f2e": {
          "model_module": "@jupyter-widgets/controls",
          "model_name": "HTMLModel",
          "model_module_version": "1.5.0",
          "state": {
            "_dom_classes": [],
            "_model_module": "@jupyter-widgets/controls",
            "_model_module_version": "1.5.0",
            "_model_name": "HTMLModel",
            "_view_count": null,
            "_view_module": "@jupyter-widgets/controls",
            "_view_module_version": "1.5.0",
            "_view_name": "HTMLView",
            "description": "",
            "description_tooltip": null,
            "layout": "IPY_MODEL_f3a8578346f64a05a6e867e1c819fd66",
            "placeholder": "​",
            "style": "IPY_MODEL_879e28ce265e4fbb8e3e06c3ccf422d3",
            "value": " 749/749 [00:00&lt;00:00, 37.7kB/s]"
          }
        },
        "c08dcc33d27442f7be645af351b7fe56": {
          "model_module": "@jupyter-widgets/base",
          "model_name": "LayoutModel",
          "model_module_version": "1.2.0",
          "state": {
            "_model_module": "@jupyter-widgets/base",
            "_model_module_version": "1.2.0",
            "_model_name": "LayoutModel",
            "_view_count": null,
            "_view_module": "@jupyter-widgets/base",
            "_view_module_version": "1.2.0",
            "_view_name": "LayoutView",
            "align_content": null,
            "align_items": null,
            "align_self": null,
            "border": null,
            "bottom": null,
            "display": null,
            "flex": null,
            "flex_flow": null,
            "grid_area": null,
            "grid_auto_columns": null,
            "grid_auto_flow": null,
            "grid_auto_rows": null,
            "grid_column": null,
            "grid_gap": null,
            "grid_row": null,
            "grid_template_areas": null,
            "grid_template_columns": null,
            "grid_template_rows": null,
            "height": null,
            "justify_content": null,
            "justify_items": null,
            "left": null,
            "margin": null,
            "max_height": null,
            "max_width": null,
            "min_height": null,
            "min_width": null,
            "object_fit": null,
            "object_position": null,
            "order": null,
            "overflow": null,
            "overflow_x": null,
            "overflow_y": null,
            "padding": null,
            "right": null,
            "top": null,
            "visibility": null,
            "width": null
          }
        },
        "ac4ac0bf8b634493a5e86e563ecc4488": {
          "model_module": "@jupyter-widgets/base",
          "model_name": "LayoutModel",
          "model_module_version": "1.2.0",
          "state": {
            "_model_module": "@jupyter-widgets/base",
            "_model_module_version": "1.2.0",
            "_model_name": "LayoutModel",
            "_view_count": null,
            "_view_module": "@jupyter-widgets/base",
            "_view_module_version": "1.2.0",
            "_view_name": "LayoutView",
            "align_content": null,
            "align_items": null,
            "align_self": null,
            "border": null,
            "bottom": null,
            "display": null,
            "flex": null,
            "flex_flow": null,
            "grid_area": null,
            "grid_auto_columns": null,
            "grid_auto_flow": null,
            "grid_auto_rows": null,
            "grid_column": null,
            "grid_gap": null,
            "grid_row": null,
            "grid_template_areas": null,
            "grid_template_columns": null,
            "grid_template_rows": null,
            "height": null,
            "justify_content": null,
            "justify_items": null,
            "left": null,
            "margin": null,
            "max_height": null,
            "max_width": null,
            "min_height": null,
            "min_width": null,
            "object_fit": null,
            "object_position": null,
            "order": null,
            "overflow": null,
            "overflow_x": null,
            "overflow_y": null,
            "padding": null,
            "right": null,
            "top": null,
            "visibility": null,
            "width": null
          }
        },
        "7ab10f09f3c54592908e7121373b4616": {
          "model_module": "@jupyter-widgets/controls",
          "model_name": "DescriptionStyleModel",
          "model_module_version": "1.5.0",
          "state": {
            "_model_module": "@jupyter-widgets/controls",
            "_model_module_version": "1.5.0",
            "_model_name": "DescriptionStyleModel",
            "_view_count": null,
            "_view_module": "@jupyter-widgets/base",
            "_view_module_version": "1.2.0",
            "_view_name": "StyleView",
            "description_width": ""
          }
        },
        "04be0c2e115b4418a49b6ca58f77dc60": {
          "model_module": "@jupyter-widgets/base",
          "model_name": "LayoutModel",
          "model_module_version": "1.2.0",
          "state": {
            "_model_module": "@jupyter-widgets/base",
            "_model_module_version": "1.2.0",
            "_model_name": "LayoutModel",
            "_view_count": null,
            "_view_module": "@jupyter-widgets/base",
            "_view_module_version": "1.2.0",
            "_view_name": "LayoutView",
            "align_content": null,
            "align_items": null,
            "align_self": null,
            "border": null,
            "bottom": null,
            "display": null,
            "flex": null,
            "flex_flow": null,
            "grid_area": null,
            "grid_auto_columns": null,
            "grid_auto_flow": null,
            "grid_auto_rows": null,
            "grid_column": null,
            "grid_gap": null,
            "grid_row": null,
            "grid_template_areas": null,
            "grid_template_columns": null,
            "grid_template_rows": null,
            "height": null,
            "justify_content": null,
            "justify_items": null,
            "left": null,
            "margin": null,
            "max_height": null,
            "max_width": null,
            "min_height": null,
            "min_width": null,
            "object_fit": null,
            "object_position": null,
            "order": null,
            "overflow": null,
            "overflow_x": null,
            "overflow_y": null,
            "padding": null,
            "right": null,
            "top": null,
            "visibility": null,
            "width": null
          }
        },
        "78f89d1287aa494d95dbd2d0553007ae": {
          "model_module": "@jupyter-widgets/controls",
          "model_name": "ProgressStyleModel",
          "model_module_version": "1.5.0",
          "state": {
            "_model_module": "@jupyter-widgets/controls",
            "_model_module_version": "1.5.0",
            "_model_name": "ProgressStyleModel",
            "_view_count": null,
            "_view_module": "@jupyter-widgets/base",
            "_view_module_version": "1.2.0",
            "_view_name": "StyleView",
            "bar_color": null,
            "description_width": ""
          }
        },
        "f3a8578346f64a05a6e867e1c819fd66": {
          "model_module": "@jupyter-widgets/base",
          "model_name": "LayoutModel",
          "model_module_version": "1.2.0",
          "state": {
            "_model_module": "@jupyter-widgets/base",
            "_model_module_version": "1.2.0",
            "_model_name": "LayoutModel",
            "_view_count": null,
            "_view_module": "@jupyter-widgets/base",
            "_view_module_version": "1.2.0",
            "_view_name": "LayoutView",
            "align_content": null,
            "align_items": null,
            "align_self": null,
            "border": null,
            "bottom": null,
            "display": null,
            "flex": null,
            "flex_flow": null,
            "grid_area": null,
            "grid_auto_columns": null,
            "grid_auto_flow": null,
            "grid_auto_rows": null,
            "grid_column": null,
            "grid_gap": null,
            "grid_row": null,
            "grid_template_areas": null,
            "grid_template_columns": null,
            "grid_template_rows": null,
            "height": null,
            "justify_content": null,
            "justify_items": null,
            "left": null,
            "margin": null,
            "max_height": null,
            "max_width": null,
            "min_height": null,
            "min_width": null,
            "object_fit": null,
            "object_position": null,
            "order": null,
            "overflow": null,
            "overflow_x": null,
            "overflow_y": null,
            "padding": null,
            "right": null,
            "top": null,
            "visibility": null,
            "width": null
          }
        },
        "879e28ce265e4fbb8e3e06c3ccf422d3": {
          "model_module": "@jupyter-widgets/controls",
          "model_name": "DescriptionStyleModel",
          "model_module_version": "1.5.0",
          "state": {
            "_model_module": "@jupyter-widgets/controls",
            "_model_module_version": "1.5.0",
            "_model_name": "DescriptionStyleModel",
            "_view_count": null,
            "_view_module": "@jupyter-widgets/base",
            "_view_module_version": "1.2.0",
            "_view_name": "StyleView",
            "description_width": ""
          }
        },
        "d60d6bfb62a6447baa1584f21a49fafa": {
          "model_module": "@jupyter-widgets/controls",
          "model_name": "HBoxModel",
          "model_module_version": "1.5.0",
          "state": {
            "_dom_classes": [],
            "_model_module": "@jupyter-widgets/controls",
            "_model_module_version": "1.5.0",
            "_model_name": "HBoxModel",
            "_view_count": null,
            "_view_module": "@jupyter-widgets/controls",
            "_view_module_version": "1.5.0",
            "_view_name": "HBoxView",
            "box_style": "",
            "children": [
              "IPY_MODEL_e5e6ed9a6192489a89ae26dfaf5f66b3",
              "IPY_MODEL_b180b15e9b9b4edebf1c693a98cb1627",
              "IPY_MODEL_18f62d9ae6a943958382f6927b2e974d"
            ],
            "layout": "IPY_MODEL_7789367cdac54f348f8d5af6d1ac12c2"
          }
        },
        "e5e6ed9a6192489a89ae26dfaf5f66b3": {
          "model_module": "@jupyter-widgets/controls",
          "model_name": "HTMLModel",
          "model_module_version": "1.5.0",
          "state": {
            "_dom_classes": [],
            "_model_module": "@jupyter-widgets/controls",
            "_model_module_version": "1.5.0",
            "_model_name": "HTMLModel",
            "_view_count": null,
            "_view_module": "@jupyter-widgets/controls",
            "_view_module_version": "1.5.0",
            "_view_name": "HTMLView",
            "description": "",
            "description_tooltip": null,
            "layout": "IPY_MODEL_9e75c86a1abd41e78d9cc59b93b1c140",
            "placeholder": "​",
            "style": "IPY_MODEL_8c3501c4010347f5abb61407e287c3c1",
            "value": "tokenizer.model: 100%"
          }
        },
        "b180b15e9b9b4edebf1c693a98cb1627": {
          "model_module": "@jupyter-widgets/controls",
          "model_name": "FloatProgressModel",
          "model_module_version": "1.5.0",
          "state": {
            "_dom_classes": [],
            "_model_module": "@jupyter-widgets/controls",
            "_model_module_version": "1.5.0",
            "_model_name": "FloatProgressModel",
            "_view_count": null,
            "_view_module": "@jupyter-widgets/controls",
            "_view_module_version": "1.5.0",
            "_view_name": "ProgressView",
            "bar_style": "success",
            "description": "",
            "description_tooltip": null,
            "layout": "IPY_MODEL_61bcfaf26b2c40ce9d651883189e99f1",
            "max": 499723,
            "min": 0,
            "orientation": "horizontal",
            "style": "IPY_MODEL_25fedcb493464da0a03c43bde404223c",
            "value": 499723
          }
        },
        "18f62d9ae6a943958382f6927b2e974d": {
          "model_module": "@jupyter-widgets/controls",
          "model_name": "HTMLModel",
          "model_module_version": "1.5.0",
          "state": {
            "_dom_classes": [],
            "_model_module": "@jupyter-widgets/controls",
            "_model_module_version": "1.5.0",
            "_model_name": "HTMLModel",
            "_view_count": null,
            "_view_module": "@jupyter-widgets/controls",
            "_view_module_version": "1.5.0",
            "_view_name": "HTMLView",
            "description": "",
            "description_tooltip": null,
            "layout": "IPY_MODEL_6f22c4d3407d4a2382d7d9ae34dc8df2",
            "placeholder": "​",
            "style": "IPY_MODEL_42b6ced67d4f4e1c8a0ca2bb8e63f9cd",
            "value": " 500k/500k [00:00&lt;00:00, 2.39MB/s]"
          }
        },
        "7789367cdac54f348f8d5af6d1ac12c2": {
          "model_module": "@jupyter-widgets/base",
          "model_name": "LayoutModel",
          "model_module_version": "1.2.0",
          "state": {
            "_model_module": "@jupyter-widgets/base",
            "_model_module_version": "1.2.0",
            "_model_name": "LayoutModel",
            "_view_count": null,
            "_view_module": "@jupyter-widgets/base",
            "_view_module_version": "1.2.0",
            "_view_name": "LayoutView",
            "align_content": null,
            "align_items": null,
            "align_self": null,
            "border": null,
            "bottom": null,
            "display": null,
            "flex": null,
            "flex_flow": null,
            "grid_area": null,
            "grid_auto_columns": null,
            "grid_auto_flow": null,
            "grid_auto_rows": null,
            "grid_column": null,
            "grid_gap": null,
            "grid_row": null,
            "grid_template_areas": null,
            "grid_template_columns": null,
            "grid_template_rows": null,
            "height": null,
            "justify_content": null,
            "justify_items": null,
            "left": null,
            "margin": null,
            "max_height": null,
            "max_width": null,
            "min_height": null,
            "min_width": null,
            "object_fit": null,
            "object_position": null,
            "order": null,
            "overflow": null,
            "overflow_x": null,
            "overflow_y": null,
            "padding": null,
            "right": null,
            "top": null,
            "visibility": null,
            "width": null
          }
        },
        "9e75c86a1abd41e78d9cc59b93b1c140": {
          "model_module": "@jupyter-widgets/base",
          "model_name": "LayoutModel",
          "model_module_version": "1.2.0",
          "state": {
            "_model_module": "@jupyter-widgets/base",
            "_model_module_version": "1.2.0",
            "_model_name": "LayoutModel",
            "_view_count": null,
            "_view_module": "@jupyter-widgets/base",
            "_view_module_version": "1.2.0",
            "_view_name": "LayoutView",
            "align_content": null,
            "align_items": null,
            "align_self": null,
            "border": null,
            "bottom": null,
            "display": null,
            "flex": null,
            "flex_flow": null,
            "grid_area": null,
            "grid_auto_columns": null,
            "grid_auto_flow": null,
            "grid_auto_rows": null,
            "grid_column": null,
            "grid_gap": null,
            "grid_row": null,
            "grid_template_areas": null,
            "grid_template_columns": null,
            "grid_template_rows": null,
            "height": null,
            "justify_content": null,
            "justify_items": null,
            "left": null,
            "margin": null,
            "max_height": null,
            "max_width": null,
            "min_height": null,
            "min_width": null,
            "object_fit": null,
            "object_position": null,
            "order": null,
            "overflow": null,
            "overflow_x": null,
            "overflow_y": null,
            "padding": null,
            "right": null,
            "top": null,
            "visibility": null,
            "width": null
          }
        },
        "8c3501c4010347f5abb61407e287c3c1": {
          "model_module": "@jupyter-widgets/controls",
          "model_name": "DescriptionStyleModel",
          "model_module_version": "1.5.0",
          "state": {
            "_model_module": "@jupyter-widgets/controls",
            "_model_module_version": "1.5.0",
            "_model_name": "DescriptionStyleModel",
            "_view_count": null,
            "_view_module": "@jupyter-widgets/base",
            "_view_module_version": "1.2.0",
            "_view_name": "StyleView",
            "description_width": ""
          }
        },
        "61bcfaf26b2c40ce9d651883189e99f1": {
          "model_module": "@jupyter-widgets/base",
          "model_name": "LayoutModel",
          "model_module_version": "1.2.0",
          "state": {
            "_model_module": "@jupyter-widgets/base",
            "_model_module_version": "1.2.0",
            "_model_name": "LayoutModel",
            "_view_count": null,
            "_view_module": "@jupyter-widgets/base",
            "_view_module_version": "1.2.0",
            "_view_name": "LayoutView",
            "align_content": null,
            "align_items": null,
            "align_self": null,
            "border": null,
            "bottom": null,
            "display": null,
            "flex": null,
            "flex_flow": null,
            "grid_area": null,
            "grid_auto_columns": null,
            "grid_auto_flow": null,
            "grid_auto_rows": null,
            "grid_column": null,
            "grid_gap": null,
            "grid_row": null,
            "grid_template_areas": null,
            "grid_template_columns": null,
            "grid_template_rows": null,
            "height": null,
            "justify_content": null,
            "justify_items": null,
            "left": null,
            "margin": null,
            "max_height": null,
            "max_width": null,
            "min_height": null,
            "min_width": null,
            "object_fit": null,
            "object_position": null,
            "order": null,
            "overflow": null,
            "overflow_x": null,
            "overflow_y": null,
            "padding": null,
            "right": null,
            "top": null,
            "visibility": null,
            "width": null
          }
        },
        "25fedcb493464da0a03c43bde404223c": {
          "model_module": "@jupyter-widgets/controls",
          "model_name": "ProgressStyleModel",
          "model_module_version": "1.5.0",
          "state": {
            "_model_module": "@jupyter-widgets/controls",
            "_model_module_version": "1.5.0",
            "_model_name": "ProgressStyleModel",
            "_view_count": null,
            "_view_module": "@jupyter-widgets/base",
            "_view_module_version": "1.2.0",
            "_view_name": "StyleView",
            "bar_color": null,
            "description_width": ""
          }
        },
        "6f22c4d3407d4a2382d7d9ae34dc8df2": {
          "model_module": "@jupyter-widgets/base",
          "model_name": "LayoutModel",
          "model_module_version": "1.2.0",
          "state": {
            "_model_module": "@jupyter-widgets/base",
            "_model_module_version": "1.2.0",
            "_model_name": "LayoutModel",
            "_view_count": null,
            "_view_module": "@jupyter-widgets/base",
            "_view_module_version": "1.2.0",
            "_view_name": "LayoutView",
            "align_content": null,
            "align_items": null,
            "align_self": null,
            "border": null,
            "bottom": null,
            "display": null,
            "flex": null,
            "flex_flow": null,
            "grid_area": null,
            "grid_auto_columns": null,
            "grid_auto_flow": null,
            "grid_auto_rows": null,
            "grid_column": null,
            "grid_gap": null,
            "grid_row": null,
            "grid_template_areas": null,
            "grid_template_columns": null,
            "grid_template_rows": null,
            "height": null,
            "justify_content": null,
            "justify_items": null,
            "left": null,
            "margin": null,
            "max_height": null,
            "max_width": null,
            "min_height": null,
            "min_width": null,
            "object_fit": null,
            "object_position": null,
            "order": null,
            "overflow": null,
            "overflow_x": null,
            "overflow_y": null,
            "padding": null,
            "right": null,
            "top": null,
            "visibility": null,
            "width": null
          }
        },
        "42b6ced67d4f4e1c8a0ca2bb8e63f9cd": {
          "model_module": "@jupyter-widgets/controls",
          "model_name": "DescriptionStyleModel",
          "model_module_version": "1.5.0",
          "state": {
            "_model_module": "@jupyter-widgets/controls",
            "_model_module_version": "1.5.0",
            "_model_name": "DescriptionStyleModel",
            "_view_count": null,
            "_view_module": "@jupyter-widgets/base",
            "_view_module_version": "1.2.0",
            "_view_name": "StyleView",
            "description_width": ""
          }
        },
        "3ee6aedeeae84fd787c1ec3c0cbb43ef": {
          "model_module": "@jupyter-widgets/controls",
          "model_name": "HBoxModel",
          "model_module_version": "1.5.0",
          "state": {
            "_dom_classes": [],
            "_model_module": "@jupyter-widgets/controls",
            "_model_module_version": "1.5.0",
            "_model_name": "HBoxModel",
            "_view_count": null,
            "_view_module": "@jupyter-widgets/controls",
            "_view_module_version": "1.5.0",
            "_view_name": "HBoxView",
            "box_style": "",
            "children": [
              "IPY_MODEL_9efac859fda54838b2e2e7f33736b13d",
              "IPY_MODEL_f4bcf4d035024a7cad621538fd21dc7d",
              "IPY_MODEL_905098cd3ce84b6a97d2464e70a629d6"
            ],
            "layout": "IPY_MODEL_15e0e1f832e045a6a441e972d4f16e8d"
          }
        },
        "9efac859fda54838b2e2e7f33736b13d": {
          "model_module": "@jupyter-widgets/controls",
          "model_name": "HTMLModel",
          "model_module_version": "1.5.0",
          "state": {
            "_dom_classes": [],
            "_model_module": "@jupyter-widgets/controls",
            "_model_module_version": "1.5.0",
            "_model_name": "HTMLModel",
            "_view_count": null,
            "_view_module": "@jupyter-widgets/controls",
            "_view_module_version": "1.5.0",
            "_view_name": "HTMLView",
            "description": "",
            "description_tooltip": null,
            "layout": "IPY_MODEL_61c2b1e98afb41ea92374fd0575fa470",
            "placeholder": "​",
            "style": "IPY_MODEL_56c0918e2ffe4bd9b790005d3ee6972e",
            "value": "special_tokens_map.json: 100%"
          }
        },
        "f4bcf4d035024a7cad621538fd21dc7d": {
          "model_module": "@jupyter-widgets/controls",
          "model_name": "FloatProgressModel",
          "model_module_version": "1.5.0",
          "state": {
            "_dom_classes": [],
            "_model_module": "@jupyter-widgets/controls",
            "_model_module_version": "1.5.0",
            "_model_name": "FloatProgressModel",
            "_view_count": null,
            "_view_module": "@jupyter-widgets/controls",
            "_view_module_version": "1.5.0",
            "_view_name": "ProgressView",
            "bar_style": "success",
            "description": "",
            "description_tooltip": null,
            "layout": "IPY_MODEL_ec2219c6b2b74808a706e0dc4b564c0e",
            "max": 411,
            "min": 0,
            "orientation": "horizontal",
            "style": "IPY_MODEL_2d568e14856c45cfa14fde0b3701bc1a",
            "value": 411
          }
        },
        "905098cd3ce84b6a97d2464e70a629d6": {
          "model_module": "@jupyter-widgets/controls",
          "model_name": "HTMLModel",
          "model_module_version": "1.5.0",
          "state": {
            "_dom_classes": [],
            "_model_module": "@jupyter-widgets/controls",
            "_model_module_version": "1.5.0",
            "_model_name": "HTMLModel",
            "_view_count": null,
            "_view_module": "@jupyter-widgets/controls",
            "_view_module_version": "1.5.0",
            "_view_name": "HTMLView",
            "description": "",
            "description_tooltip": null,
            "layout": "IPY_MODEL_ce5fe4a1316546e89d82ba329952025c",
            "placeholder": "​",
            "style": "IPY_MODEL_536d3ea2e5c6417ab67bd15b325e8f14",
            "value": " 411/411 [00:00&lt;00:00, 34.2kB/s]"
          }
        },
        "15e0e1f832e045a6a441e972d4f16e8d": {
          "model_module": "@jupyter-widgets/base",
          "model_name": "LayoutModel",
          "model_module_version": "1.2.0",
          "state": {
            "_model_module": "@jupyter-widgets/base",
            "_model_module_version": "1.2.0",
            "_model_name": "LayoutModel",
            "_view_count": null,
            "_view_module": "@jupyter-widgets/base",
            "_view_module_version": "1.2.0",
            "_view_name": "LayoutView",
            "align_content": null,
            "align_items": null,
            "align_self": null,
            "border": null,
            "bottom": null,
            "display": null,
            "flex": null,
            "flex_flow": null,
            "grid_area": null,
            "grid_auto_columns": null,
            "grid_auto_flow": null,
            "grid_auto_rows": null,
            "grid_column": null,
            "grid_gap": null,
            "grid_row": null,
            "grid_template_areas": null,
            "grid_template_columns": null,
            "grid_template_rows": null,
            "height": null,
            "justify_content": null,
            "justify_items": null,
            "left": null,
            "margin": null,
            "max_height": null,
            "max_width": null,
            "min_height": null,
            "min_width": null,
            "object_fit": null,
            "object_position": null,
            "order": null,
            "overflow": null,
            "overflow_x": null,
            "overflow_y": null,
            "padding": null,
            "right": null,
            "top": null,
            "visibility": null,
            "width": null
          }
        },
        "61c2b1e98afb41ea92374fd0575fa470": {
          "model_module": "@jupyter-widgets/base",
          "model_name": "LayoutModel",
          "model_module_version": "1.2.0",
          "state": {
            "_model_module": "@jupyter-widgets/base",
            "_model_module_version": "1.2.0",
            "_model_name": "LayoutModel",
            "_view_count": null,
            "_view_module": "@jupyter-widgets/base",
            "_view_module_version": "1.2.0",
            "_view_name": "LayoutView",
            "align_content": null,
            "align_items": null,
            "align_self": null,
            "border": null,
            "bottom": null,
            "display": null,
            "flex": null,
            "flex_flow": null,
            "grid_area": null,
            "grid_auto_columns": null,
            "grid_auto_flow": null,
            "grid_auto_rows": null,
            "grid_column": null,
            "grid_gap": null,
            "grid_row": null,
            "grid_template_areas": null,
            "grid_template_columns": null,
            "grid_template_rows": null,
            "height": null,
            "justify_content": null,
            "justify_items": null,
            "left": null,
            "margin": null,
            "max_height": null,
            "max_width": null,
            "min_height": null,
            "min_width": null,
            "object_fit": null,
            "object_position": null,
            "order": null,
            "overflow": null,
            "overflow_x": null,
            "overflow_y": null,
            "padding": null,
            "right": null,
            "top": null,
            "visibility": null,
            "width": null
          }
        },
        "56c0918e2ffe4bd9b790005d3ee6972e": {
          "model_module": "@jupyter-widgets/controls",
          "model_name": "DescriptionStyleModel",
          "model_module_version": "1.5.0",
          "state": {
            "_model_module": "@jupyter-widgets/controls",
            "_model_module_version": "1.5.0",
            "_model_name": "DescriptionStyleModel",
            "_view_count": null,
            "_view_module": "@jupyter-widgets/base",
            "_view_module_version": "1.2.0",
            "_view_name": "StyleView",
            "description_width": ""
          }
        },
        "ec2219c6b2b74808a706e0dc4b564c0e": {
          "model_module": "@jupyter-widgets/base",
          "model_name": "LayoutModel",
          "model_module_version": "1.2.0",
          "state": {
            "_model_module": "@jupyter-widgets/base",
            "_model_module_version": "1.2.0",
            "_model_name": "LayoutModel",
            "_view_count": null,
            "_view_module": "@jupyter-widgets/base",
            "_view_module_version": "1.2.0",
            "_view_name": "LayoutView",
            "align_content": null,
            "align_items": null,
            "align_self": null,
            "border": null,
            "bottom": null,
            "display": null,
            "flex": null,
            "flex_flow": null,
            "grid_area": null,
            "grid_auto_columns": null,
            "grid_auto_flow": null,
            "grid_auto_rows": null,
            "grid_column": null,
            "grid_gap": null,
            "grid_row": null,
            "grid_template_areas": null,
            "grid_template_columns": null,
            "grid_template_rows": null,
            "height": null,
            "justify_content": null,
            "justify_items": null,
            "left": null,
            "margin": null,
            "max_height": null,
            "max_width": null,
            "min_height": null,
            "min_width": null,
            "object_fit": null,
            "object_position": null,
            "order": null,
            "overflow": null,
            "overflow_x": null,
            "overflow_y": null,
            "padding": null,
            "right": null,
            "top": null,
            "visibility": null,
            "width": null
          }
        },
        "2d568e14856c45cfa14fde0b3701bc1a": {
          "model_module": "@jupyter-widgets/controls",
          "model_name": "ProgressStyleModel",
          "model_module_version": "1.5.0",
          "state": {
            "_model_module": "@jupyter-widgets/controls",
            "_model_module_version": "1.5.0",
            "_model_name": "ProgressStyleModel",
            "_view_count": null,
            "_view_module": "@jupyter-widgets/base",
            "_view_module_version": "1.2.0",
            "_view_name": "StyleView",
            "bar_color": null,
            "description_width": ""
          }
        },
        "ce5fe4a1316546e89d82ba329952025c": {
          "model_module": "@jupyter-widgets/base",
          "model_name": "LayoutModel",
          "model_module_version": "1.2.0",
          "state": {
            "_model_module": "@jupyter-widgets/base",
            "_model_module_version": "1.2.0",
            "_model_name": "LayoutModel",
            "_view_count": null,
            "_view_module": "@jupyter-widgets/base",
            "_view_module_version": "1.2.0",
            "_view_name": "LayoutView",
            "align_content": null,
            "align_items": null,
            "align_self": null,
            "border": null,
            "bottom": null,
            "display": null,
            "flex": null,
            "flex_flow": null,
            "grid_area": null,
            "grid_auto_columns": null,
            "grid_auto_flow": null,
            "grid_auto_rows": null,
            "grid_column": null,
            "grid_gap": null,
            "grid_row": null,
            "grid_template_areas": null,
            "grid_template_columns": null,
            "grid_template_rows": null,
            "height": null,
            "justify_content": null,
            "justify_items": null,
            "left": null,
            "margin": null,
            "max_height": null,
            "max_width": null,
            "min_height": null,
            "min_width": null,
            "object_fit": null,
            "object_position": null,
            "order": null,
            "overflow": null,
            "overflow_x": null,
            "overflow_y": null,
            "padding": null,
            "right": null,
            "top": null,
            "visibility": null,
            "width": null
          }
        },
        "536d3ea2e5c6417ab67bd15b325e8f14": {
          "model_module": "@jupyter-widgets/controls",
          "model_name": "DescriptionStyleModel",
          "model_module_version": "1.5.0",
          "state": {
            "_model_module": "@jupyter-widgets/controls",
            "_model_module_version": "1.5.0",
            "_model_name": "DescriptionStyleModel",
            "_view_count": null,
            "_view_module": "@jupyter-widgets/base",
            "_view_module_version": "1.2.0",
            "_view_name": "StyleView",
            "description_width": ""
          }
        },
        "ecaa4d11423f43e7bc96c871ec82ffee": {
          "model_module": "@jupyter-widgets/controls",
          "model_name": "HBoxModel",
          "model_module_version": "1.5.0",
          "state": {
            "_dom_classes": [],
            "_model_module": "@jupyter-widgets/controls",
            "_model_module_version": "1.5.0",
            "_model_name": "HBoxModel",
            "_view_count": null,
            "_view_module": "@jupyter-widgets/controls",
            "_view_module_version": "1.5.0",
            "_view_name": "HBoxView",
            "box_style": "",
            "children": [
              "IPY_MODEL_41f6aa4d60f6416f99eefe5744680c02",
              "IPY_MODEL_8108d1b3ba9b4c5eb7795455555876f7",
              "IPY_MODEL_76b6fac37b864587bcf3e04f3368e2d1"
            ],
            "layout": "IPY_MODEL_e5ba582c77d546deb21fedcdd54252bc"
          }
        },
        "41f6aa4d60f6416f99eefe5744680c02": {
          "model_module": "@jupyter-widgets/controls",
          "model_name": "HTMLModel",
          "model_module_version": "1.5.0",
          "state": {
            "_dom_classes": [],
            "_model_module": "@jupyter-widgets/controls",
            "_model_module_version": "1.5.0",
            "_model_name": "HTMLModel",
            "_view_count": null,
            "_view_module": "@jupyter-widgets/controls",
            "_view_module_version": "1.5.0",
            "_view_name": "HTMLView",
            "description": "",
            "description_tooltip": null,
            "layout": "IPY_MODEL_34deb0917c2e40a5bbc68e55bd9804f2",
            "placeholder": "​",
            "style": "IPY_MODEL_045832443f934cf38a71f945d99a423f",
            "value": "tokenizer.json: 100%"
          }
        },
        "8108d1b3ba9b4c5eb7795455555876f7": {
          "model_module": "@jupyter-widgets/controls",
          "model_name": "FloatProgressModel",
          "model_module_version": "1.5.0",
          "state": {
            "_dom_classes": [],
            "_model_module": "@jupyter-widgets/controls",
            "_model_module_version": "1.5.0",
            "_model_name": "FloatProgressModel",
            "_view_count": null,
            "_view_module": "@jupyter-widgets/controls",
            "_view_module_version": "1.5.0",
            "_view_name": "ProgressView",
            "bar_style": "success",
            "description": "",
            "description_tooltip": null,
            "layout": "IPY_MODEL_1d5866faaa2a43fe95d5f154515dfa40",
            "max": 1842767,
            "min": 0,
            "orientation": "horizontal",
            "style": "IPY_MODEL_522eea9649de4d879fc247ce36d8eca6",
            "value": 1842767
          }
        },
        "76b6fac37b864587bcf3e04f3368e2d1": {
          "model_module": "@jupyter-widgets/controls",
          "model_name": "HTMLModel",
          "model_module_version": "1.5.0",
          "state": {
            "_dom_classes": [],
            "_model_module": "@jupyter-widgets/controls",
            "_model_module_version": "1.5.0",
            "_model_name": "HTMLModel",
            "_view_count": null,
            "_view_module": "@jupyter-widgets/controls",
            "_view_module_version": "1.5.0",
            "_view_name": "HTMLView",
            "description": "",
            "description_tooltip": null,
            "layout": "IPY_MODEL_9fcfac5e3a5d45eeafc55ea025a19d3e",
            "placeholder": "​",
            "style": "IPY_MODEL_35fde997fb914476893ded610b38b5ff",
            "value": " 1.84M/1.84M [00:00&lt;00:00, 5.91MB/s]"
          }
        },
        "e5ba582c77d546deb21fedcdd54252bc": {
          "model_module": "@jupyter-widgets/base",
          "model_name": "LayoutModel",
          "model_module_version": "1.2.0",
          "state": {
            "_model_module": "@jupyter-widgets/base",
            "_model_module_version": "1.2.0",
            "_model_name": "LayoutModel",
            "_view_count": null,
            "_view_module": "@jupyter-widgets/base",
            "_view_module_version": "1.2.0",
            "_view_name": "LayoutView",
            "align_content": null,
            "align_items": null,
            "align_self": null,
            "border": null,
            "bottom": null,
            "display": null,
            "flex": null,
            "flex_flow": null,
            "grid_area": null,
            "grid_auto_columns": null,
            "grid_auto_flow": null,
            "grid_auto_rows": null,
            "grid_column": null,
            "grid_gap": null,
            "grid_row": null,
            "grid_template_areas": null,
            "grid_template_columns": null,
            "grid_template_rows": null,
            "height": null,
            "justify_content": null,
            "justify_items": null,
            "left": null,
            "margin": null,
            "max_height": null,
            "max_width": null,
            "min_height": null,
            "min_width": null,
            "object_fit": null,
            "object_position": null,
            "order": null,
            "overflow": null,
            "overflow_x": null,
            "overflow_y": null,
            "padding": null,
            "right": null,
            "top": null,
            "visibility": null,
            "width": null
          }
        },
        "34deb0917c2e40a5bbc68e55bd9804f2": {
          "model_module": "@jupyter-widgets/base",
          "model_name": "LayoutModel",
          "model_module_version": "1.2.0",
          "state": {
            "_model_module": "@jupyter-widgets/base",
            "_model_module_version": "1.2.0",
            "_model_name": "LayoutModel",
            "_view_count": null,
            "_view_module": "@jupyter-widgets/base",
            "_view_module_version": "1.2.0",
            "_view_name": "LayoutView",
            "align_content": null,
            "align_items": null,
            "align_self": null,
            "border": null,
            "bottom": null,
            "display": null,
            "flex": null,
            "flex_flow": null,
            "grid_area": null,
            "grid_auto_columns": null,
            "grid_auto_flow": null,
            "grid_auto_rows": null,
            "grid_column": null,
            "grid_gap": null,
            "grid_row": null,
            "grid_template_areas": null,
            "grid_template_columns": null,
            "grid_template_rows": null,
            "height": null,
            "justify_content": null,
            "justify_items": null,
            "left": null,
            "margin": null,
            "max_height": null,
            "max_width": null,
            "min_height": null,
            "min_width": null,
            "object_fit": null,
            "object_position": null,
            "order": null,
            "overflow": null,
            "overflow_x": null,
            "overflow_y": null,
            "padding": null,
            "right": null,
            "top": null,
            "visibility": null,
            "width": null
          }
        },
        "045832443f934cf38a71f945d99a423f": {
          "model_module": "@jupyter-widgets/controls",
          "model_name": "DescriptionStyleModel",
          "model_module_version": "1.5.0",
          "state": {
            "_model_module": "@jupyter-widgets/controls",
            "_model_module_version": "1.5.0",
            "_model_name": "DescriptionStyleModel",
            "_view_count": null,
            "_view_module": "@jupyter-widgets/base",
            "_view_module_version": "1.2.0",
            "_view_name": "StyleView",
            "description_width": ""
          }
        },
        "1d5866faaa2a43fe95d5f154515dfa40": {
          "model_module": "@jupyter-widgets/base",
          "model_name": "LayoutModel",
          "model_module_version": "1.2.0",
          "state": {
            "_model_module": "@jupyter-widgets/base",
            "_model_module_version": "1.2.0",
            "_model_name": "LayoutModel",
            "_view_count": null,
            "_view_module": "@jupyter-widgets/base",
            "_view_module_version": "1.2.0",
            "_view_name": "LayoutView",
            "align_content": null,
            "align_items": null,
            "align_self": null,
            "border": null,
            "bottom": null,
            "display": null,
            "flex": null,
            "flex_flow": null,
            "grid_area": null,
            "grid_auto_columns": null,
            "grid_auto_flow": null,
            "grid_auto_rows": null,
            "grid_column": null,
            "grid_gap": null,
            "grid_row": null,
            "grid_template_areas": null,
            "grid_template_columns": null,
            "grid_template_rows": null,
            "height": null,
            "justify_content": null,
            "justify_items": null,
            "left": null,
            "margin": null,
            "max_height": null,
            "max_width": null,
            "min_height": null,
            "min_width": null,
            "object_fit": null,
            "object_position": null,
            "order": null,
            "overflow": null,
            "overflow_x": null,
            "overflow_y": null,
            "padding": null,
            "right": null,
            "top": null,
            "visibility": null,
            "width": null
          }
        },
        "522eea9649de4d879fc247ce36d8eca6": {
          "model_module": "@jupyter-widgets/controls",
          "model_name": "ProgressStyleModel",
          "model_module_version": "1.5.0",
          "state": {
            "_model_module": "@jupyter-widgets/controls",
            "_model_module_version": "1.5.0",
            "_model_name": "ProgressStyleModel",
            "_view_count": null,
            "_view_module": "@jupyter-widgets/base",
            "_view_module_version": "1.2.0",
            "_view_name": "StyleView",
            "bar_color": null,
            "description_width": ""
          }
        },
        "9fcfac5e3a5d45eeafc55ea025a19d3e": {
          "model_module": "@jupyter-widgets/base",
          "model_name": "LayoutModel",
          "model_module_version": "1.2.0",
          "state": {
            "_model_module": "@jupyter-widgets/base",
            "_model_module_version": "1.2.0",
            "_model_name": "LayoutModel",
            "_view_count": null,
            "_view_module": "@jupyter-widgets/base",
            "_view_module_version": "1.2.0",
            "_view_name": "LayoutView",
            "align_content": null,
            "align_items": null,
            "align_self": null,
            "border": null,
            "bottom": null,
            "display": null,
            "flex": null,
            "flex_flow": null,
            "grid_area": null,
            "grid_auto_columns": null,
            "grid_auto_flow": null,
            "grid_auto_rows": null,
            "grid_column": null,
            "grid_gap": null,
            "grid_row": null,
            "grid_template_areas": null,
            "grid_template_columns": null,
            "grid_template_rows": null,
            "height": null,
            "justify_content": null,
            "justify_items": null,
            "left": null,
            "margin": null,
            "max_height": null,
            "max_width": null,
            "min_height": null,
            "min_width": null,
            "object_fit": null,
            "object_position": null,
            "order": null,
            "overflow": null,
            "overflow_x": null,
            "overflow_y": null,
            "padding": null,
            "right": null,
            "top": null,
            "visibility": null,
            "width": null
          }
        },
        "35fde997fb914476893ded610b38b5ff": {
          "model_module": "@jupyter-widgets/controls",
          "model_name": "DescriptionStyleModel",
          "model_module_version": "1.5.0",
          "state": {
            "_model_module": "@jupyter-widgets/controls",
            "_model_module_version": "1.5.0",
            "_model_name": "DescriptionStyleModel",
            "_view_count": null,
            "_view_module": "@jupyter-widgets/base",
            "_view_module_version": "1.2.0",
            "_view_name": "StyleView",
            "description_width": ""
          }
        },
        "30ae90ad4cb84c4eab612b0e0c6957e2": {
          "model_module": "@jupyter-widgets/controls",
          "model_name": "HBoxModel",
          "model_module_version": "1.5.0",
          "state": {
            "_dom_classes": [],
            "_model_module": "@jupyter-widgets/controls",
            "_model_module_version": "1.5.0",
            "_model_name": "HBoxModel",
            "_view_count": null,
            "_view_module": "@jupyter-widgets/controls",
            "_view_module_version": "1.5.0",
            "_view_name": "HBoxView",
            "box_style": "",
            "children": [
              "IPY_MODEL_11d0838619804d2db0cf7f45719c3715",
              "IPY_MODEL_ad0a0bfd19284f4fad14c48aa539ed41",
              "IPY_MODEL_d5ef6c0d5a184cbd8562481734ffb75e"
            ],
            "layout": "IPY_MODEL_afcc32b8a2964f88bf9f46fd98e897b0"
          }
        },
        "11d0838619804d2db0cf7f45719c3715": {
          "model_module": "@jupyter-widgets/controls",
          "model_name": "HTMLModel",
          "model_module_version": "1.5.0",
          "state": {
            "_dom_classes": [],
            "_model_module": "@jupyter-widgets/controls",
            "_model_module_version": "1.5.0",
            "_model_name": "HTMLModel",
            "_view_count": null,
            "_view_module": "@jupyter-widgets/controls",
            "_view_module_version": "1.5.0",
            "_view_name": "HTMLView",
            "description": "",
            "description_tooltip": null,
            "layout": "IPY_MODEL_5ef57b8d54e6488b9e8605ed07a62ce7",
            "placeholder": "​",
            "style": "IPY_MODEL_309e5311ca124ce69d07ae10cbfadf25",
            "value": "Loading checkpoint shards:  50%"
          }
        },
        "ad0a0bfd19284f4fad14c48aa539ed41": {
          "model_module": "@jupyter-widgets/controls",
          "model_name": "FloatProgressModel",
          "model_module_version": "1.5.0",
          "state": {
            "_dom_classes": [],
            "_model_module": "@jupyter-widgets/controls",
            "_model_module_version": "1.5.0",
            "_model_name": "FloatProgressModel",
            "_view_count": null,
            "_view_module": "@jupyter-widgets/controls",
            "_view_module_version": "1.5.0",
            "_view_name": "ProgressView",
            "bar_style": "",
            "description": "",
            "description_tooltip": null,
            "layout": "IPY_MODEL_2756b2cf866d49d5be117298a91b222a",
            "max": 2,
            "min": 0,
            "orientation": "horizontal",
            "style": "IPY_MODEL_a747096bb9064278a951a9e90905779d",
            "value": 1
          }
        },
        "d5ef6c0d5a184cbd8562481734ffb75e": {
          "model_module": "@jupyter-widgets/controls",
          "model_name": "HTMLModel",
          "model_module_version": "1.5.0",
          "state": {
            "_dom_classes": [],
            "_model_module": "@jupyter-widgets/controls",
            "_model_module_version": "1.5.0",
            "_model_name": "HTMLModel",
            "_view_count": null,
            "_view_module": "@jupyter-widgets/controls",
            "_view_module_version": "1.5.0",
            "_view_name": "HTMLView",
            "description": "",
            "description_tooltip": null,
            "layout": "IPY_MODEL_280308f9043943838f0cafae2adb22a3",
            "placeholder": "​",
            "style": "IPY_MODEL_1e9aa593eb4b4275b27dd6c8f6df05d8",
            "value": " 1/2 [00:57&lt;00:57, 57.76s/it]"
          }
        },
        "afcc32b8a2964f88bf9f46fd98e897b0": {
          "model_module": "@jupyter-widgets/base",
          "model_name": "LayoutModel",
          "model_module_version": "1.2.0",
          "state": {
            "_model_module": "@jupyter-widgets/base",
            "_model_module_version": "1.2.0",
            "_model_name": "LayoutModel",
            "_view_count": null,
            "_view_module": "@jupyter-widgets/base",
            "_view_module_version": "1.2.0",
            "_view_name": "LayoutView",
            "align_content": null,
            "align_items": null,
            "align_self": null,
            "border": null,
            "bottom": null,
            "display": null,
            "flex": null,
            "flex_flow": null,
            "grid_area": null,
            "grid_auto_columns": null,
            "grid_auto_flow": null,
            "grid_auto_rows": null,
            "grid_column": null,
            "grid_gap": null,
            "grid_row": null,
            "grid_template_areas": null,
            "grid_template_columns": null,
            "grid_template_rows": null,
            "height": null,
            "justify_content": null,
            "justify_items": null,
            "left": null,
            "margin": null,
            "max_height": null,
            "max_width": null,
            "min_height": null,
            "min_width": null,
            "object_fit": null,
            "object_position": null,
            "order": null,
            "overflow": null,
            "overflow_x": null,
            "overflow_y": null,
            "padding": null,
            "right": null,
            "top": null,
            "visibility": null,
            "width": null
          }
        },
        "5ef57b8d54e6488b9e8605ed07a62ce7": {
          "model_module": "@jupyter-widgets/base",
          "model_name": "LayoutModel",
          "model_module_version": "1.2.0",
          "state": {
            "_model_module": "@jupyter-widgets/base",
            "_model_module_version": "1.2.0",
            "_model_name": "LayoutModel",
            "_view_count": null,
            "_view_module": "@jupyter-widgets/base",
            "_view_module_version": "1.2.0",
            "_view_name": "LayoutView",
            "align_content": null,
            "align_items": null,
            "align_self": null,
            "border": null,
            "bottom": null,
            "display": null,
            "flex": null,
            "flex_flow": null,
            "grid_area": null,
            "grid_auto_columns": null,
            "grid_auto_flow": null,
            "grid_auto_rows": null,
            "grid_column": null,
            "grid_gap": null,
            "grid_row": null,
            "grid_template_areas": null,
            "grid_template_columns": null,
            "grid_template_rows": null,
            "height": null,
            "justify_content": null,
            "justify_items": null,
            "left": null,
            "margin": null,
            "max_height": null,
            "max_width": null,
            "min_height": null,
            "min_width": null,
            "object_fit": null,
            "object_position": null,
            "order": null,
            "overflow": null,
            "overflow_x": null,
            "overflow_y": null,
            "padding": null,
            "right": null,
            "top": null,
            "visibility": null,
            "width": null
          }
        },
        "309e5311ca124ce69d07ae10cbfadf25": {
          "model_module": "@jupyter-widgets/controls",
          "model_name": "DescriptionStyleModel",
          "model_module_version": "1.5.0",
          "state": {
            "_model_module": "@jupyter-widgets/controls",
            "_model_module_version": "1.5.0",
            "_model_name": "DescriptionStyleModel",
            "_view_count": null,
            "_view_module": "@jupyter-widgets/base",
            "_view_module_version": "1.2.0",
            "_view_name": "StyleView",
            "description_width": ""
          }
        },
        "2756b2cf866d49d5be117298a91b222a": {
          "model_module": "@jupyter-widgets/base",
          "model_name": "LayoutModel",
          "model_module_version": "1.2.0",
          "state": {
            "_model_module": "@jupyter-widgets/base",
            "_model_module_version": "1.2.0",
            "_model_name": "LayoutModel",
            "_view_count": null,
            "_view_module": "@jupyter-widgets/base",
            "_view_module_version": "1.2.0",
            "_view_name": "LayoutView",
            "align_content": null,
            "align_items": null,
            "align_self": null,
            "border": null,
            "bottom": null,
            "display": null,
            "flex": null,
            "flex_flow": null,
            "grid_area": null,
            "grid_auto_columns": null,
            "grid_auto_flow": null,
            "grid_auto_rows": null,
            "grid_column": null,
            "grid_gap": null,
            "grid_row": null,
            "grid_template_areas": null,
            "grid_template_columns": null,
            "grid_template_rows": null,
            "height": null,
            "justify_content": null,
            "justify_items": null,
            "left": null,
            "margin": null,
            "max_height": null,
            "max_width": null,
            "min_height": null,
            "min_width": null,
            "object_fit": null,
            "object_position": null,
            "order": null,
            "overflow": null,
            "overflow_x": null,
            "overflow_y": null,
            "padding": null,
            "right": null,
            "top": null,
            "visibility": null,
            "width": null
          }
        },
        "a747096bb9064278a951a9e90905779d": {
          "model_module": "@jupyter-widgets/controls",
          "model_name": "ProgressStyleModel",
          "model_module_version": "1.5.0",
          "state": {
            "_model_module": "@jupyter-widgets/controls",
            "_model_module_version": "1.5.0",
            "_model_name": "ProgressStyleModel",
            "_view_count": null,
            "_view_module": "@jupyter-widgets/base",
            "_view_module_version": "1.2.0",
            "_view_name": "StyleView",
            "bar_color": null,
            "description_width": ""
          }
        },
        "280308f9043943838f0cafae2adb22a3": {
          "model_module": "@jupyter-widgets/base",
          "model_name": "LayoutModel",
          "model_module_version": "1.2.0",
          "state": {
            "_model_module": "@jupyter-widgets/base",
            "_model_module_version": "1.2.0",
            "_model_name": "LayoutModel",
            "_view_count": null,
            "_view_module": "@jupyter-widgets/base",
            "_view_module_version": "1.2.0",
            "_view_name": "LayoutView",
            "align_content": null,
            "align_items": null,
            "align_self": null,
            "border": null,
            "bottom": null,
            "display": null,
            "flex": null,
            "flex_flow": null,
            "grid_area": null,
            "grid_auto_columns": null,
            "grid_auto_flow": null,
            "grid_auto_rows": null,
            "grid_column": null,
            "grid_gap": null,
            "grid_row": null,
            "grid_template_areas": null,
            "grid_template_columns": null,
            "grid_template_rows": null,
            "height": null,
            "justify_content": null,
            "justify_items": null,
            "left": null,
            "margin": null,
            "max_height": null,
            "max_width": null,
            "min_height": null,
            "min_width": null,
            "object_fit": null,
            "object_position": null,
            "order": null,
            "overflow": null,
            "overflow_x": null,
            "overflow_y": null,
            "padding": null,
            "right": null,
            "top": null,
            "visibility": null,
            "width": null
          }
        },
        "1e9aa593eb4b4275b27dd6c8f6df05d8": {
          "model_module": "@jupyter-widgets/controls",
          "model_name": "DescriptionStyleModel",
          "model_module_version": "1.5.0",
          "state": {
            "_model_module": "@jupyter-widgets/controls",
            "_model_module_version": "1.5.0",
            "_model_name": "DescriptionStyleModel",
            "_view_count": null,
            "_view_module": "@jupyter-widgets/base",
            "_view_module_version": "1.2.0",
            "_view_name": "StyleView",
            "description_width": ""
          }
        }
      }
    }
  },
  "cells": [
    {
      "cell_type": "markdown",
      "metadata": {
        "id": "view-in-github",
        "colab_type": "text"
      },
      "source": [
        "<a href=\"https://colab.research.google.com/github/claudiarichardxx/Finetuning-CodeLlama/blob/main/Finetuning_Codellama.ipynb\" target=\"_parent\"><img src=\"https://colab.research.google.com/assets/colab-badge.svg\" alt=\"Open In Colab\"/></a>"
      ]
    },
    {
      "cell_type": "markdown",
      "source": [
        "# Introduction\n",
        "\n",
        "**Code Llama** is a family of large language models for code based on Llama 2 providing state-of-the-art performance among open models, infilling capabilities, support for large input contexts, and zero-shot instruction following ability for programming tasks. We provide multiple flavors to cover a wide range of applications: foundation models (Code Llama), Python specializations (Code Llama - Python), and instruction-following models (Code Llama - Instruct) with 7B, 13B and 34B parameters each. All models are trained on sequences of 16k tokens and show improvements on inputs with up to 100k tokens. 7B and 13B Code Llama and Code Llama - Instruct variants support infilling based on surrounding content. (Taken from the abstract of the paper : [Code Llama: Open Foundation Models for Code](https://ai.meta.com/research/publications/code-llama-open-foundation-models-for-code/))\n",
        "\n",
        "This colab demos how to\n",
        "\n",
        "* Load Code Llama\n",
        "* Evaluate Code Llama\n",
        "* FineTune Code Llama"
      ],
      "metadata": {
        "id": "EgkTSbc-FdNb"
      }
    },
    {
      "cell_type": "markdown",
      "source": [
        "Cloning the GitHub repository 'claudiarichardxx/Finetuning-CodeLlama' to download the data"
      ],
      "metadata": {
        "id": "HUGBxQlP4nPy"
      }
    },
    {
      "cell_type": "code",
      "source": [
        "!git clone https://github.com/claudiarichardxx/Finetuning-CodeLlama.git"
      ],
      "metadata": {
        "colab": {
          "base_uri": "https://localhost:8080/"
        },
        "id": "iPwpvGsyQpU1",
        "outputId": "b7b02af7-23d2-47b2-d01b-fed29398e8db"
      },
      "execution_count": null,
      "outputs": [
        {
          "output_type": "stream",
          "name": "stdout",
          "text": [
            "fatal: destination path 'Finetuning-CodeLlama' already exists and is not an empty directory.\n"
          ]
        }
      ]
    },
    {
      "cell_type": "code",
      "source": [
        "cd Finetuning-CodeLlama/"
      ],
      "metadata": {
        "colab": {
          "base_uri": "https://localhost:8080/"
        },
        "id": "xx6HQy9Wa-B9",
        "outputId": "71aa11a8-61e9-4071-bf42-3a0c2d18174b"
      },
      "execution_count": null,
      "outputs": [
        {
          "output_type": "stream",
          "name": "stdout",
          "text": [
            "/content/Finetuning-CodeLlama\n"
          ]
        }
      ]
    },
    {
      "cell_type": "markdown",
      "source": [
        "# Finetuning Setup"
      ],
      "metadata": {
        "id": "VvDmJBdGXTO3"
      }
    },
    {
      "cell_type": "markdown",
      "source": [
        "## Installations\n",
        "\n",
        "We first install the libraries:\n",
        "\n",
        "* `accelerate`: The accelerate library is designed to make it easier to run models on GPUs and distributed environments, helping with performance optimization and scaling.\n",
        "\n",
        "* `peft`: The peft library stands for \"parameter-efficient fine-tuning,\" which is useful for adapting pre-trained models with fewer parameters, making the fine-tuning process more efficient.\n",
        "\n",
        "* `bitsandbytes`: The bitsandbytes library provides 4 and 8-bit optimizers and matrix multiplication routines, allowing for more memory-efficient training of LLMs.\n",
        "\n",
        "* `transformers`: The transformers library by Hugging Face provides state-of-the-art implementations of transformer models (like BERT, GPT, T5, etc.), allowing easy model loading, training, and deployment.\n",
        "\n",
        "* `trl`: The trl library (Transformers Reinforcement Learning) integrates reinforcement learning algorithms with transformer models, allowing for fine-tuning of language models using RL techniques.\n",
        "\n",
        "* `tqdm` and `fire` are required to run the evaluation on HumanEval as mentioned in the GitHub repository.\n"
      ],
      "metadata": {
        "id": "Lruis8yBHCuZ"
      }
    },
    {
      "cell_type": "code",
      "source": [
        "! pip install -q accelerate==0.27.2 peft==0.5.0 bitsandbytes==0.41.3 transformers==4.38.2 trl==0.4.7\n",
        "! pip install -q protobuf sentencepiece scipy\n",
        "! pip install tqdm fire"
      ],
      "metadata": {
        "colab": {
          "base_uri": "https://localhost:8080/"
        },
        "id": "nwa7lxyRQ7bi",
        "outputId": "14e9bb43-86ad-4cd8-b2ad-91ff88858b36"
      },
      "execution_count": null,
      "outputs": [
        {
          "output_type": "stream",
          "name": "stdout",
          "text": [
            "Requirement already satisfied: tqdm in /usr/local/lib/python3.10/dist-packages (4.66.5)\n",
            "Requirement already satisfied: fire in /usr/local/lib/python3.10/dist-packages (0.7.0)\n",
            "Requirement already satisfied: termcolor in /usr/local/lib/python3.10/dist-packages (from fire) (2.5.0)\n"
          ]
        }
      ]
    },
    {
      "cell_type": "markdown",
      "source": [
        "## Some helper functions"
      ],
      "metadata": {
        "id": "4Rz5HusUrXZv"
      }
    },
    {
      "cell_type": "markdown",
      "source": [
        "`json`: Used to parse JSON data into Python objects and write Python objects back to JSON format.\n",
        "\n",
        "`os`: Provides functions to interact with the operating system, like handling file paths and checking if files exist.\n",
        "\n",
        "`io`: Provides tools to work with file-like objects (both in-memory and actual files). It helps handle file streams more flexibly."
      ],
      "metadata": {
        "id": "HXakjAZkSEt-"
      }
    },
    {
      "cell_type": "code",
      "source": [
        "import json\n",
        "import os\n",
        "import io"
      ],
      "metadata": {
        "id": "KBerDsQmlw0h"
      },
      "execution_count": null,
      "outputs": []
    },
    {
      "cell_type": "markdown",
      "source": [
        "This function loads a .json file and converts it into a Python dictionary. It takes the file path f and a file access mode (default is \"r\" for read mode)"
      ],
      "metadata": {
        "id": "IWGuwSc7RdwA"
      }
    },
    {
      "cell_type": "code",
      "source": [
        "def jload(f, mode=\"r\"):\n",
        "\n",
        "    \"\"\"Load a .json file into a dictionary.\"\"\"\n",
        "\n",
        "    f = _make_r_io_base(f, mode)\n",
        "    jdict = json.load(f)\n",
        "    f.close()\n",
        "\n",
        "    return jdict"
      ],
      "metadata": {
        "id": "tqtEVRnllmsl"
      },
      "execution_count": null,
      "outputs": []
    },
    {
      "cell_type": "markdown",
      "source": [
        "This helper function ensures that the input f is a file object. If f is not already a file object (i.e., if it’s a string representing a file path), the function opens the file with the given mode."
      ],
      "metadata": {
        "id": "ogtiDQ1CRme4"
      }
    },
    {
      "cell_type": "code",
      "source": [
        "def _make_r_io_base(f, mode: str):\n",
        "\n",
        "    if not isinstance(f, io.IOBase):\n",
        "        f = open(f, mode=mode)\n",
        "\n",
        "    return f"
      ],
      "metadata": {
        "id": "UHUgEnO-lsdV"
      },
      "execution_count": null,
      "outputs": []
    },
    {
      "cell_type": "markdown",
      "source": [
        "# Instruction Tuning"
      ],
      "metadata": {
        "id": "sufvqz2Lrbqc"
      }
    },
    {
      "cell_type": "markdown",
      "source": [
        "Reference: [CodeAlpaca](https://github.com/sahil280114/codealpaca.git)"
      ],
      "metadata": {
        "id": "HrXZyG5Oh1pl"
      }
    },
    {
      "cell_type": "markdown",
      "source": [
        "## Step 1: Load the model and tokenizer"
      ],
      "metadata": {
        "id": "85V-vRRDXGJr"
      }
    },
    {
      "cell_type": "markdown",
      "source": [
        "`CodeLlamaTokenizer, LlamaForCausalLM, BitsAndBytesConfig`: Necessary classes from Hugging Face’s transformers library. This helps in loading the tokenizer and model (Llama) and configuring model quantization with BitsAndBytes for efficient loading.\n",
        "\n",
        "`torch`: PyTorch, the core library used for tensor operations and model handling."
      ],
      "metadata": {
        "id": "NaX7QFqoS8EM"
      }
    },
    {
      "cell_type": "code",
      "source": [
        "from transformers import CodeLlamaTokenizer, LlamaForCausalLM, BitsAndBytesConfig\n",
        "import torch"
      ],
      "metadata": {
        "id": "m4Zp4ADf3noC"
      },
      "execution_count": null,
      "outputs": []
    },
    {
      "cell_type": "markdown",
      "source": [
        "This line sets the name of the model to be loaded. It will be used later to initialize both the model and tokenizer from Hugging Face's model hub."
      ],
      "metadata": {
        "id": "mN2dHdFhTS8C"
      }
    },
    {
      "cell_type": "code",
      "source": [
        "model_name = 'codellama/CodeLlama-7b-Python-hf'"
      ],
      "metadata": {
        "id": "MG5M1z4HWI4q"
      },
      "execution_count": null,
      "outputs": []
    },
    {
      "cell_type": "markdown",
      "source": [
        "In this step, we set up the configuration for loading our model efficiently:\n",
        "\n",
        "`use_4bit = True`: We're opting to use 4-bit quantization to reduce memory usage and speed up inference. It's a trade-off between precision and resource efficiency.\n",
        "\n",
        "`bnb_4bit_compute_dtype = \"float16\"`: We specify that calculations will be done in 16-bit floating point format, which helps in saving GPU memory while still providing decent accuracy.\n",
        "\n",
        "`bnb_4bit_quant_type = \"nf4\"`: This sets the quantization type to \"nf4\", which is a specific way to represent our model weights that helps further optimize performance.\n",
        "\n",
        "`use_nested_quant = False`: We're not using nested quantization here.\n",
        "\n",
        "`compute_dtype = getattr(torch, bnb_4bit_compute_dtype)`: This line retrieves the float16 type from the PyTorch library so we can use it in our configuration.\n",
        "\n",
        "`bnb_config = BitsAndBytesConfig(...)`: Finally, we create a configuration object for the BitsAndBytes setup, passing in all the parameters we've defined. This will guide how our model is loaded and optimized."
      ],
      "metadata": {
        "id": "d3mhQzciT-qs"
      }
    },
    {
      "cell_type": "code",
      "source": [
        "use_4bit = True\n",
        "bnb_4bit_compute_dtype = \"float16\"\n",
        "bnb_4bit_quant_type = \"nf4\"\n",
        "use_nested_quant = False\n",
        "compute_dtype = getattr(torch, bnb_4bit_compute_dtype)\n",
        "\n",
        "bnb_config = BitsAndBytesConfig(\n",
        "                load_in_4bit = use_4bit,\n",
        "                bnb_4bit_quant_type = bnb_4bit_quant_type,\n",
        "                bnb_4bit_compute_dtype = compute_dtype,\n",
        "                bnb_4bit_use_double_quant=use_nested_quant,\n",
        "            )"
      ],
      "metadata": {
        "id": "L1yM2NUBWMKF"
      },
      "execution_count": null,
      "outputs": []
    },
    {
      "cell_type": "markdown",
      "source": [
        "In this part, we're loading the model and tokenizer based on our earlier setup:\n",
        "\n",
        "**Loading the Model:**\n",
        "\n",
        "- If `use_4bit` is `True`, we load the model with 4-bit quantization by passing the `bnb_config`.\n",
        "- If `use_4bit` is `False`, we simply load the model without quantization, still ensuring it runs efficiently on the available hardware by setting `device_map='auto'`.\n",
        "\n",
        "**Loading the Tokenizer:**\n",
        "\n",
        "- We then load the tokenizer using `CodeLlamaTokenizer.from_pretrained(model_name)`. The `padding_side=\"right\"` option specifies how to handle padding when processing sequences, while `use_fast=False` means we're opting for a standard implementation instead of a faster version that requires additional dependencies."
      ],
      "metadata": {
        "id": "DL9XuEfVVDDp"
      }
    },
    {
      "cell_type": "code",
      "source": [
        "if (use_4bit):\n",
        "            model = LlamaForCausalLM.from_pretrained(\n",
        "                    model_name,\n",
        "                    quantization_config=bnb_config,\n",
        "                    device_map='auto')\n",
        "\n",
        "else:\n",
        "            model = LlamaForCausalLM.from_pretrained(\n",
        "                    model_name,\n",
        "                    device_map='auto')\n",
        "\n",
        "\n",
        "tokenizer = CodeLlamaTokenizer.from_pretrained(\n",
        "                model_name,\n",
        "                padding_side = \"right\",\n",
        "                use_fast=False,)"
      ],
      "metadata": {
        "colab": {
          "base_uri": "https://localhost:8080/",
          "height": 563,
          "referenced_widgets": [
            "b64b81f3e43545f389e0da8e6b137934",
            "909189964ee84d16a2d6abefbb3dd222",
            "b6871153538d4b829cec6cfe5a2d7ff2",
            "56d9dd8fcedc424a8f1be0bff5dc6674",
            "aef8ba1155064f9b95096f5a242b4c8f",
            "ffbd6371e30f4d8b867b893a00c867bf",
            "2025a918cae44dbdb7038f45136e8952",
            "e7a00be701cf403f84b6fcacebf58653",
            "b1b77afec6e643ae99bacd3e6718222d",
            "5780b0cab5cd4448b085dac2816b95c0",
            "85b75452f2e14253ba573cb1876e9e37",
            "196471f399b4412caa8ec17de8f9f5c3",
            "f2b87b4f9df74e2ea28644a73382f59e",
            "48cb25ff5d0a43f8a28f69712d56d6dd",
            "fd7210db3bbd49fbacda2d566082d4fd",
            "f4cf5ea75645441c8c3e1c0b7224f990",
            "3388ea700bda4ebeb62cdad535767953",
            "bb6bc51cbac149e6ab2652ab52ba178a",
            "f6dcc479e16a4e0e8f9c77a1a39bfa70",
            "a23ff75c807348a48aaf99ff620adefa",
            "59e6fd990a5f4ddca1f27f59f6267923",
            "b26cdec595d44b629bedd0b43e327e53",
            "2621823dfb3a44bd935aba7d9e8cd1fb",
            "30c9f8d7ab5c40dd9fa9b9850df19b67",
            "2c12347e39fd49d5b679d7d05af85788",
            "fb721791bd964a4fad4b388d03c53b4c",
            "7396d5abf0a64363b9af6d9aad1d2870",
            "904fe5702dac4152ac6fcf09e4accff6",
            "74eff175111d45d99935da66089826fc",
            "60c6f15c617d4d93b2af339748974053",
            "5aa29bccfd164131a6e98be5abfe3fb9",
            "731fa26f8605477f9612122c6dcaaf61",
            "d964a49fc63645f4a0b16dcfee3b9b87",
            "b87eb70831d743af9dd17788733d8453",
            "d1bbc51dace140bfa9f9bbce4d357ff2",
            "b756e7b228e5462a83bc460c99a311a2",
            "7b717e0acf4545cc96dc2c20326c610d",
            "5144c894268e4541803697ef02efccb3",
            "1a285b9e977e4eb99d3eca81f36590e6",
            "0aff395d733b4effbcdc44fac8361a60",
            "f460dbcffa3e4690989492df85bca6de",
            "8e65399b68d845e2ad5dde70d69bc824",
            "e092ce65d2b543099cc012b266a0e5b0",
            "448ae66935b84be3ba39ef17b602753d",
            "beef983f82ff4df6bfe9ae923198e7fa",
            "56dac6b7076f44fbaeda308d707d582e",
            "cbd3162ff108414e873d6dabdd7c2ab9",
            "785a7e4164f0448dbddee6192cfc7e28",
            "169aa61cd4a14480978e15eb4cac9ac7",
            "a1506cd06043412a8be878b774af99f1",
            "96aab806aeee41abbaa5cc806c3006ba",
            "9f36ad2da80e4b8d97ccb316a464bc71",
            "ff5a774671f341b2ab6b276d9f478810",
            "ad8c9f22ed24453380a09095b80aa410",
            "6a5aeea70773425e952134aac3b250b9",
            "1716e7069f1c4b8f9f8b1aef711f1b2c",
            "3ca16926d30e4cae94ad2d7efd16e7ee",
            "cc76ed925274474fa6b810c1d6452f90",
            "b4847bb51b844bd3827d4cf2c486457e",
            "7e7f0b1225fc4ae3b285dbe8c9240d2e",
            "13b793e5a776420097f8999196a5c962",
            "9a7e48ae757d4815a8298675052f287a",
            "b76f3154b5f243fe8fa6047b7af157f8",
            "2ca9d67825c146688ad650feae38f212",
            "3422cfab34904c399b5327794d2f4f38",
            "a72781ec2cad421eac8697b85766f1bb",
            "01fe3ed1f07d49799bc3fcd70ac6fdf3",
            "bbd98e27509e469f94411c34ede228ee",
            "67d150d8840f4cce9b0a27e409cdbc12",
            "3d1e5f60d2b043669fa8ed8759573f78",
            "ec94f5bb4b1a4ecdad5b9a8442f0a803",
            "ca8ea80309c54348adfa7745ae62092a",
            "2156aa2cf54e40948af7961f9f0a0c17",
            "389da40c496a4935bdadea90904a5501",
            "5d5c97ebf8ca40b1884cb99d2cb33bd9",
            "c0a192f98ab44660ad9c5130f5094d26",
            "12d578720a154517b6a7c8b1109fea9a",
            "e187891f22dd4541950ef5820cccec77",
            "0665f4f1d44744a9adfaab4520f9dfd3",
            "ae7f2a17ec7b409f9fb066463c5932b5",
            "bbcd427d01b549369a8a6a4bb51d5f2e",
            "c08dcc33d27442f7be645af351b7fe56",
            "ac4ac0bf8b634493a5e86e563ecc4488",
            "7ab10f09f3c54592908e7121373b4616",
            "04be0c2e115b4418a49b6ca58f77dc60",
            "78f89d1287aa494d95dbd2d0553007ae",
            "f3a8578346f64a05a6e867e1c819fd66",
            "879e28ce265e4fbb8e3e06c3ccf422d3",
            "d60d6bfb62a6447baa1584f21a49fafa",
            "e5e6ed9a6192489a89ae26dfaf5f66b3",
            "b180b15e9b9b4edebf1c693a98cb1627",
            "18f62d9ae6a943958382f6927b2e974d",
            "7789367cdac54f348f8d5af6d1ac12c2",
            "9e75c86a1abd41e78d9cc59b93b1c140",
            "8c3501c4010347f5abb61407e287c3c1",
            "61bcfaf26b2c40ce9d651883189e99f1",
            "25fedcb493464da0a03c43bde404223c",
            "6f22c4d3407d4a2382d7d9ae34dc8df2",
            "42b6ced67d4f4e1c8a0ca2bb8e63f9cd",
            "3ee6aedeeae84fd787c1ec3c0cbb43ef",
            "9efac859fda54838b2e2e7f33736b13d",
            "f4bcf4d035024a7cad621538fd21dc7d",
            "905098cd3ce84b6a97d2464e70a629d6",
            "15e0e1f832e045a6a441e972d4f16e8d",
            "61c2b1e98afb41ea92374fd0575fa470",
            "56c0918e2ffe4bd9b790005d3ee6972e",
            "ec2219c6b2b74808a706e0dc4b564c0e",
            "2d568e14856c45cfa14fde0b3701bc1a",
            "ce5fe4a1316546e89d82ba329952025c",
            "536d3ea2e5c6417ab67bd15b325e8f14",
            "ecaa4d11423f43e7bc96c871ec82ffee",
            "41f6aa4d60f6416f99eefe5744680c02",
            "8108d1b3ba9b4c5eb7795455555876f7",
            "76b6fac37b864587bcf3e04f3368e2d1",
            "e5ba582c77d546deb21fedcdd54252bc",
            "34deb0917c2e40a5bbc68e55bd9804f2",
            "045832443f934cf38a71f945d99a423f",
            "1d5866faaa2a43fe95d5f154515dfa40",
            "522eea9649de4d879fc247ce36d8eca6",
            "9fcfac5e3a5d45eeafc55ea025a19d3e",
            "35fde997fb914476893ded610b38b5ff"
          ]
        },
        "id": "V0r4fZ9F2iQ3",
        "outputId": "a3bbbae4-3717-4832-c333-84acbc7c3c39"
      },
      "execution_count": null,
      "outputs": [
        {
          "output_type": "stream",
          "name": "stderr",
          "text": [
            "/usr/local/lib/python3.10/dist-packages/huggingface_hub/file_download.py:1150: FutureWarning: `resume_download` is deprecated and will be removed in version 1.0.0. Downloads always resume when possible. If you want to force a new download, use `force_download=True`.\n",
            "  warnings.warn(\n",
            "/usr/local/lib/python3.10/dist-packages/huggingface_hub/utils/_token.py:89: UserWarning: \n",
            "The secret `HF_TOKEN` does not exist in your Colab secrets.\n",
            "To authenticate with the Hugging Face Hub, create a token in your settings tab (https://huggingface.co/settings/tokens), set it as secret in your Google Colab and restart your session.\n",
            "You will be able to reuse this secret in all of your notebooks.\n",
            "Please note that authentication is recommended but still optional to access public models or datasets.\n",
            "  warnings.warn(\n"
          ]
        },
        {
          "output_type": "display_data",
          "data": {
            "text/plain": [
              "config.json:   0%|          | 0.00/644 [00:00<?, ?B/s]"
            ],
            "application/vnd.jupyter.widget-view+json": {
              "version_major": 2,
              "version_minor": 0,
              "model_id": "b64b81f3e43545f389e0da8e6b137934"
            }
          },
          "metadata": {}
        },
        {
          "output_type": "display_data",
          "data": {
            "text/plain": [
              "model.safetensors.index.json:   0%|          | 0.00/25.1k [00:00<?, ?B/s]"
            ],
            "application/vnd.jupyter.widget-view+json": {
              "version_major": 2,
              "version_minor": 0,
              "model_id": "196471f399b4412caa8ec17de8f9f5c3"
            }
          },
          "metadata": {}
        },
        {
          "output_type": "display_data",
          "data": {
            "text/plain": [
              "Downloading shards:   0%|          | 0/2 [00:00<?, ?it/s]"
            ],
            "application/vnd.jupyter.widget-view+json": {
              "version_major": 2,
              "version_minor": 0,
              "model_id": "2621823dfb3a44bd935aba7d9e8cd1fb"
            }
          },
          "metadata": {}
        },
        {
          "output_type": "display_data",
          "data": {
            "text/plain": [
              "model-00001-of-00002.safetensors:   0%|          | 0.00/9.98G [00:00<?, ?B/s]"
            ],
            "application/vnd.jupyter.widget-view+json": {
              "version_major": 2,
              "version_minor": 0,
              "model_id": "b87eb70831d743af9dd17788733d8453"
            }
          },
          "metadata": {}
        },
        {
          "output_type": "display_data",
          "data": {
            "text/plain": [
              "model-00002-of-00002.safetensors:   0%|          | 0.00/3.50G [00:00<?, ?B/s]"
            ],
            "application/vnd.jupyter.widget-view+json": {
              "version_major": 2,
              "version_minor": 0,
              "model_id": "beef983f82ff4df6bfe9ae923198e7fa"
            }
          },
          "metadata": {}
        },
        {
          "output_type": "display_data",
          "data": {
            "text/plain": [
              "Loading checkpoint shards:   0%|          | 0/2 [00:00<?, ?it/s]"
            ],
            "application/vnd.jupyter.widget-view+json": {
              "version_major": 2,
              "version_minor": 0,
              "model_id": "1716e7069f1c4b8f9f8b1aef711f1b2c"
            }
          },
          "metadata": {}
        },
        {
          "output_type": "stream",
          "name": "stderr",
          "text": [
            "/usr/local/lib/python3.10/dist-packages/huggingface_hub/file_download.py:1150: FutureWarning: `resume_download` is deprecated and will be removed in version 1.0.0. Downloads always resume when possible. If you want to force a new download, use `force_download=True`.\n",
            "  warnings.warn(\n"
          ]
        },
        {
          "output_type": "display_data",
          "data": {
            "text/plain": [
              "generation_config.json:   0%|          | 0.00/116 [00:00<?, ?B/s]"
            ],
            "application/vnd.jupyter.widget-view+json": {
              "version_major": 2,
              "version_minor": 0,
              "model_id": "01fe3ed1f07d49799bc3fcd70ac6fdf3"
            }
          },
          "metadata": {}
        },
        {
          "output_type": "display_data",
          "data": {
            "text/plain": [
              "tokenizer_config.json:   0%|          | 0.00/749 [00:00<?, ?B/s]"
            ],
            "application/vnd.jupyter.widget-view+json": {
              "version_major": 2,
              "version_minor": 0,
              "model_id": "e187891f22dd4541950ef5820cccec77"
            }
          },
          "metadata": {}
        },
        {
          "output_type": "display_data",
          "data": {
            "text/plain": [
              "tokenizer.model:   0%|          | 0.00/500k [00:00<?, ?B/s]"
            ],
            "application/vnd.jupyter.widget-view+json": {
              "version_major": 2,
              "version_minor": 0,
              "model_id": "d60d6bfb62a6447baa1584f21a49fafa"
            }
          },
          "metadata": {}
        },
        {
          "output_type": "display_data",
          "data": {
            "text/plain": [
              "special_tokens_map.json:   0%|          | 0.00/411 [00:00<?, ?B/s]"
            ],
            "application/vnd.jupyter.widget-view+json": {
              "version_major": 2,
              "version_minor": 0,
              "model_id": "3ee6aedeeae84fd787c1ec3c0cbb43ef"
            }
          },
          "metadata": {}
        },
        {
          "output_type": "display_data",
          "data": {
            "text/plain": [
              "tokenizer.json:   0%|          | 0.00/1.84M [00:00<?, ?B/s]"
            ],
            "application/vnd.jupyter.widget-view+json": {
              "version_major": 2,
              "version_minor": 0,
              "model_id": "ecaa4d11423f43e7bc96c871ec82ffee"
            }
          },
          "metadata": {}
        }
      ]
    },
    {
      "cell_type": "markdown",
      "source": [
        "In this section, we define some default tokens used in our model:\n",
        "\n",
        "- `DEFAULT_PAD_TOKEN`: This is set to `\"[PAD]\"`, which is used to pad sequences to ensure they have the same length during training or inference.\n",
        "  \n",
        "- `DEFAULT_EOS_TOKEN`: The end-of-sequence token is set to `\"</s>\"`. This token indicates the end of a sequence, helping the model understand when to stop generating text.\n",
        "\n",
        "- `DEFAULT_BOS_TOKEN`: The beginning-of-sequence token is also set to `\"</s>\"`. This token is used to signal the start of a sequence, allowing the model to recognize when it should begin processing input.\n",
        "\n",
        "- `DEFAULT_UNK_TOKEN`: The unknown token is set to `\"</s>\"`. This token represents any word that is not in the model's vocabulary, helping the model handle unseen words during text processing.\n",
        "\n",
        "These tokens are essential for managing input and output sequences effectively in natural language processing tasks."
      ],
      "metadata": {
        "id": "rft6EVRBVfA3"
      }
    },
    {
      "cell_type": "code",
      "source": [
        "DEFAULT_PAD_TOKEN = \"[PAD]\"\n",
        "DEFAULT_EOS_TOKEN = \"</s>\"\n",
        "DEFAULT_BOS_TOKEN = \"</s>\"\n",
        "DEFAULT_UNK_TOKEN = \"</s>\""
      ],
      "metadata": {
        "id": "qXauuOUa3lDL"
      },
      "execution_count": null,
      "outputs": []
    },
    {
      "cell_type": "markdown",
      "source": [
        "This function helps integrate new special tokens into a tokenizer and adjusts the model's embeddings accordingly.\n",
        "\n",
        "The function starts by adding the new special tokens to the tokenizer. It keeps track of how many new tokens are added.\n",
        "Then, it resizes the model's token embeddings to match the total number of tokens in the updated tokenizer.\n",
        "If any new tokens were added, it **averages the existing input and output embeddings** (excluding the new tokens) to initialize the embeddings for the new tokens. This helps maintain consistency in how the model handles the input and output data."
      ],
      "metadata": {
        "id": "yJ00E8a3V4KS"
      }
    },
    {
      "cell_type": "code",
      "source": [
        "def smart_tokenizer_and_embedding_resize(\n",
        "            special_tokens_dict,\n",
        "            tokenizer,\n",
        "            model,\n",
        "        ):\n",
        "            \"\"\"\n",
        "            Resize the tokenizer and adjust model embeddings to include new special tokens.\n",
        "\n",
        "            Input arguments:\n",
        "                special_tokens_dict (dict):\n",
        "                    A dictionary containing the special tokens (e.g., `pad_token`, `bos_token`, `eos_token`) to add to the tokenizer.\n",
        "\n",
        "                tokenizer (PreTrainedTokenizer):\n",
        "                    The tokenizer whose vocabulary will be resized to include new special tokens.\n",
        "\n",
        "                model (PreTrainedModel):\n",
        "                    The model whose input and output embeddings will be resized to match the new tokenizer size.\n",
        "\n",
        "            Returns:\n",
        "                None:\n",
        "                    This function modifies the `tokenizer` and `model` in-place and does not return any value.\n",
        "\n",
        "            Note: This is the unoptimized version that may make your embedding size not be divisible by 64.\n",
        "            \"\"\"\n",
        "\n",
        "            num_new_tokens = tokenizer.add_special_tokens(special_tokens_dict)\n",
        "            model.resize_token_embeddings(len(tokenizer))\n",
        "\n",
        "            if num_new_tokens > 0:\n",
        "\n",
        "                input_embeddings = model.get_input_embeddings().weight.data\n",
        "                output_embeddings = model.get_output_embeddings().weight.data\n",
        "\n",
        "                input_embeddings_avg = input_embeddings[:-num_new_tokens].mean(dim=0, keepdim=True)\n",
        "                output_embeddings_avg = output_embeddings[:-num_new_tokens].mean(dim=0, keepdim=True)\n",
        "\n",
        "                input_embeddings[-num_new_tokens:] = input_embeddings_avg\n",
        "                output_embeddings[-num_new_tokens:] = output_embeddings_avg"
      ],
      "metadata": {
        "id": "ENavntzj3z4d"
      },
      "execution_count": null,
      "outputs": []
    },
    {
      "cell_type": "markdown",
      "source": [
        "This code checks if the tokenizer's padding token is set; if not, it calls the `smart_tokenizer_and_embedding_resize` function to add a default padding token (`DEFAULT_PAD_TOKEN`) and resize the model's embeddings accordingly. After ensuring the padding token is in place, it adds additional special tokens, such as the end-of-sequence, beginning-of-sequence, and unknown tokens, using `tokenizer.add_special_tokens(...)`. This process ensures the tokenizer is fully equipped with the necessary special tokens, allowing the model to handle various tasks effectively."
      ],
      "metadata": {
        "id": "bn2a5J0WWk26"
      }
    },
    {
      "cell_type": "code",
      "source": [
        "if tokenizer.pad_token is None:\n",
        "                    smart_tokenizer_and_embedding_resize(\n",
        "                    special_tokens_dict = dict(pad_token=DEFAULT_PAD_TOKEN),\n",
        "                    tokenizer = tokenizer,\n",
        "                    model = model\n",
        "                )\n",
        "\n",
        "tokenizer.add_special_tokens(\n",
        "            {\n",
        "                \"eos_token\": DEFAULT_EOS_TOKEN,\n",
        "                \"bos_token\": DEFAULT_BOS_TOKEN,\n",
        "                \"unk_token\": DEFAULT_UNK_TOKEN,\n",
        "            })"
      ],
      "metadata": {
        "colab": {
          "base_uri": "https://localhost:8080/"
        },
        "id": "3jbslAAH3WnU",
        "outputId": "681e81b3-e2e2-4435-d48a-faba04efaed3"
      },
      "execution_count": null,
      "outputs": [
        {
          "output_type": "execute_result",
          "data": {
            "text/plain": [
              "0"
            ]
          },
          "metadata": {},
          "execution_count": 11
        }
      ]
    },
    {
      "cell_type": "markdown",
      "source": [
        "## Step 2: Define the prompt and process the training dataset\n",
        "\n",
        "Here is a short and simple explanation of each import:\n",
        "\n",
        "- `import torch`: Imports the PyTorch library, which is used for tensor operations and building machine learning models.\n",
        "  \n",
        "- `from torch.utils.data import Dataset`: Imports `Dataset`, a class in PyTorch for creating custom datasets to be used in data loading and training.\n",
        "\n",
        "- `from dataclasses import dataclass, field`: Imports `dataclass` and `field` from the `dataclasses` module, which are used to create simple classes for storing data with minimal boilerplate code.\n",
        "\n",
        "- `import copy`: Imports the `copy` module, which provides functions to create shallow or deep copies of objects, useful when you need to duplicate an object without affecting the original."
      ],
      "metadata": {
        "id": "Zn6kWWlKvufy"
      }
    },
    {
      "cell_type": "code",
      "source": [
        "import torch\n",
        "from torch.utils.data import Dataset\n",
        "from dataclasses import dataclass, field\n",
        "import copy"
      ],
      "metadata": {
        "id": "wqaJZKZpSj6E"
      },
      "execution_count": null,
      "outputs": []
    },
    {
      "cell_type": "markdown",
      "source": [
        "In this setup, we determine which prompt template to use based on the presence of an input field in the training set. If the training data includes an input field, the `prompt_input` template is utilized, which combines the instruction with the input context to generate a more comprehensive response. If the training set lacks an input field, the simpler `prompt_no_input` template is applied, focusing solely on the instruction. This approach ensures that the model receives appropriately structured prompts tailored to the available data, facilitating more effective training and response generation.\n",
        "\n",
        "The IGNORE_INDEX is set to -100, which is used to specify tokens that should be ignored during loss calculations in model training."
      ],
      "metadata": {
        "id": "4FvDmiMIXUMd"
      }
    },
    {
      "cell_type": "code",
      "source": [
        "IGNORE_INDEX = -100\n",
        "\n",
        "PROMPT_DICT = {\n",
        "    \"prompt_input\": (\n",
        "        \"Below is an instruction that describes a task, paired with an input that provides further context. \"\n",
        "        \"Write a response that appropriately completes the request.\\n\\n\"\n",
        "        \"### Instruction:\\n{instruction}\\n\\n### Input:\\n{input}\\n\\n### Response:\"\n",
        "    ),\n",
        "\n",
        "    \"prompt_no_input\": (\n",
        "        \"Below is an instruction that describes a task. \"\n",
        "        \"Write a response that appropriately completes the request.\\n\\n\"\n",
        "        \"### Instruction:\\n{instruction}\\n\\n### Response:\"\n",
        "    ),\n",
        "}"
      ],
      "metadata": {
        "id": "AhFSOvVQ_dwl"
      },
      "execution_count": null,
      "outputs": []
    },
    {
      "cell_type": "markdown",
      "source": [
        "The `DataCollatorForSupervisedDataset` class is a data collator for preparing batches of data during supervised fine-tuning. It's defined using `@dataclass` and takes a tokenizer as an input. The `__call__` method processes a batch of instances, where each instance is a dictionary containing `input_ids` and `labels`. It extracts these values from the instances and pads them to the same length, using the tokenizer's padding token for `input_ids` and `IGNORE_INDEX` (set to `-100`) for the labels. Additionally, an attention mask is created to distinguish between real tokens (marked with 1) and padding tokens (marked with 0). The method returns a dictionary containing the padded `input_ids`, `labels`, and the `attention_mask`."
      ],
      "metadata": {
        "id": "O-3rgoevPh5l"
      }
    },
    {
      "cell_type": "code",
      "source": [
        "@dataclass\n",
        "class DataCollatorForSupervisedDataset(object):\n",
        "\n",
        "    \"\"\"Collate examples for supervised fine-tuning.\"\"\"\n",
        "    tokenizer: object\n",
        "\n",
        "    def __call__(self, instances):\n",
        "\n",
        "            \"\"\"\n",
        "            Processes a batch of instances for supervised fine-tuning.\n",
        "\n",
        "            Input arguments:\n",
        "                instances (list of dict):\n",
        "                    A list of dictionaries where each dictionary contains the following keys:\n",
        "                    - 'input_ids': Tensor of input IDs.\n",
        "                    - 'labels': Tensor of corresponding labels.\n",
        "\n",
        "            What it does:\n",
        "                    - Extracts input IDs and labels from the provided instances.\n",
        "                    - Pads the input IDs and labels to the same length using the tokenizer's padding token for input IDs and a predefined constant for labels.\n",
        "                    - Constructs  an attention mask to identify real tokens (not padding) in the input IDs.\n",
        "\n",
        "            Returns:\n",
        "                dict:\n",
        "                    A dictionary containing:\n",
        "                    - 'input_ids': A tensor of padded input IDs.\n",
        "                    - 'labels': A tensor of padded labels.\n",
        "                    - 'attention_mask': A tensor indicating the presence of real tokens (1) and padding (0).\n",
        "            \"\"\"\n",
        "\n",
        "            input_ids, labels = tuple([instance[key] for instance in instances] for key in (\"input_ids\", \"labels\"))\n",
        "            input_ids = torch.nn.utils.rnn.pad_sequence(\n",
        "                input_ids, batch_first=True, padding_value = tokenizer.pad_token_id\n",
        "            )\n",
        "            labels = torch.nn.utils.rnn.pad_sequence(labels, batch_first = True, padding_value = IGNORE_INDEX)\n",
        "            return dict(\n",
        "                input_ids = input_ids,\n",
        "                labels = labels,\n",
        "                attention_mask = input_ids.ne(tokenizer.pad_token_id),\n",
        "            )"
      ],
      "metadata": {
        "id": "c6E1OUJIPfNU"
      },
      "execution_count": null,
      "outputs": []
    },
    {
      "cell_type": "markdown",
      "source": [
        "## Step 3: Change the source and target according to the mode"
      ],
      "metadata": {
        "id": "c7gugL0jqduf"
      }
    },
    {
      "cell_type": "markdown",
      "source": [
        "The `SupervisedDataset` class is a custom dataset class for supervised fine-tuning. It loads data from a JSON file, formats input-output pairs using the predefined `PROMPT_DICT`, and tokenizes them with a provided tokenizer.\n",
        "\n",
        "The `preprocess` method tokenizes both the sources and targets, adjusting the labels based on the mode ('IT' for Instruction Tuning or 'IM' for Instruction Modelling). In 'IT' mode, parts of the labels corresponding to the input text are replaced with `IGNORE_INDEX`, which is set to `-100`, so they are ignored during loss calculation. Tokenized data is stored as `input_ids` and `labels`.\n",
        "\n",
        "The `__len__` method returns the number of examples, and `__getitem__` retrieves the input IDs and labels for a given index."
      ],
      "metadata": {
        "id": "6pBathv9hg95"
      }
    },
    {
      "cell_type": "code",
      "source": [
        "class SupervisedDataset(Dataset):\n",
        "\n",
        "        \"\"\"Dataset for supervised fine-tuning.\"\"\"\n",
        "\n",
        "        def preprocess(\n",
        "            self, sources, targets, tokenizer, mode = 'IT'\n",
        "        ):\n",
        "\n",
        "            \"\"\"\n",
        "            Preprocess the data by tokenizing.\n",
        "\n",
        "            Input arguments:\n",
        "                sources (list of str):\n",
        "                    The source texts to be tokenized.\n",
        "                targets (list of str):\n",
        "                    The target texts corresponding to the sources.\n",
        "                tokenizer (Tokenizer):\n",
        "                    The tokenizer used for converting text to input IDs.\n",
        "                mode (str, optional):\n",
        "                    The mode of operation for the preprocessing (default is 'IT' for Instruction Tuning). Options are IT or IM (Instruction Modelling).\n",
        "\n",
        "            What it does:\n",
        "                - Combines the source and target texts into a single list of examples.\n",
        "                - Tokenizes the combined examples and the source texts using the provided tokenizer.\n",
        "                - Creates input IDs from the tokenized examples and initializes labels based on the input IDs.\n",
        "                - In 'IT' mode, replaces the parts of labels that correspond to source lengths with the `IGNORE_INDEX` token.\n",
        "                - Returns a dictionary containing the input IDs and labels.\n",
        "\n",
        "            Returns:\n",
        "                dict: A dictionary containing:\n",
        "                    - input_ids: The tokenized input IDs.\n",
        "                    - labels: The tokenized labels (targets), modified for 'IT' or 'IM' mode.\n",
        "            \"\"\"\n",
        "\n",
        "            examples = [s + t for s, t in zip(sources, targets)]\n",
        "\n",
        "            examples_tokenized, sources_tokenized = [_tokenize_fn(strings, tokenizer) for strings in (examples, sources)]\n",
        "            input_ids = examples_tokenized[\"input_ids\"]\n",
        "            labels = copy.deepcopy(input_ids)\n",
        "\n",
        "            if(mode == 'IT'):\n",
        "\n",
        "                for label, source_len in zip(labels, sources_tokenized[\"input_ids_lens\"]):\n",
        "                    label[:source_len] = IGNORE_INDEX\n",
        "\n",
        "                return dict(input_ids=input_ids, labels=labels)\n",
        "\n",
        "            else:\n",
        "\n",
        "                return dict(input_ids=input_ids, labels=labels)\n",
        "\n",
        "\n",
        "        def __init__(self, data_path, tokenizer, mode = 'IT'):\n",
        "\n",
        "            \"\"\"\n",
        "            Initializes the SupervisedDataset instance by loading and processing the data.\n",
        "\n",
        "            Input arguments:\n",
        "                data_path (str):\n",
        "                    The path to the JSON file containing the dataset.\n",
        "                tokenizer (Tokenizer):\n",
        "                    The tokenizer used for converting text to input IDs.\n",
        "                mode (str, optional):\n",
        "                    The mode of operation for the dataset (default is 'IT' for Instruction Tuning). Options are IT or IM (Instruction Modelling).\n",
        "\n",
        "            What it does:\n",
        "                - Loads the data from the specified JSON file.\n",
        "                - Formats the input prompts based on the contents of the data.\n",
        "                - Constructs source texts by applying appropriate formatting from PROMPT_DICT.\n",
        "                - Constructs target texts by appending the tokenizer's end-of-sequence token to the outputs.\n",
        "                - Calls the preprocess method to tokenize the sources and targets.\n",
        "                - Initializes input_ids and labels attributes with the processed data.\n",
        "\n",
        "            Returns:\n",
        "                None\n",
        "            \"\"\"\n",
        "\n",
        "            super(SupervisedDataset, self).__init__()\n",
        "            print(\"Loading data...\")\n",
        "            list_data_dict = jload(data_path)\n",
        "\n",
        "            print(\"Formatting inputs...\")\n",
        "            prompt_input, prompt_no_input = PROMPT_DICT[\"prompt_input\"], PROMPT_DICT[\"prompt_no_input\"]\n",
        "            sources = [\n",
        "                prompt_input.format_map(example) if example.get(\"input\", \"\") != \"\" else prompt_no_input.format_map(example)\n",
        "                for example in list_data_dict\n",
        "            ]\n",
        "            targets = [f\"{example['output']}{tokenizer.eos_token}\" for example in list_data_dict]\n",
        "\n",
        "            print(\"Tokenizing inputs... This may take some time...\")\n",
        "            data_dict = self.preprocess(sources, targets, tokenizer, mode = mode)\n",
        "\n",
        "            self.input_ids = data_dict[\"input_ids\"]\n",
        "            self.labels = data_dict[\"labels\"]\n",
        "\n",
        "        def __len__(self):\n",
        "\n",
        "            \"\"\"\n",
        "            Returns the number of examples in the dataset.\n",
        "\n",
        "            Input arguments:\n",
        "                None\n",
        "\n",
        "            What it does:\n",
        "                - Calculates the length of the dataset by return`ing the number of input IDs.\n",
        "\n",
        "            Returns:\n",
        "                int:\n",
        "                    The number of examples in the dataset, which is equal to the length of the input_ids attribute.\n",
        "            \"\"\"\n",
        "\n",
        "            return len(self.input_ids)\n",
        "\n",
        "        def __getitem__(self, i):\n",
        "\n",
        "            \"\"\"\n",
        "            Retrieves a single example from the dataset.\n",
        "\n",
        "            Input arguments:\n",
        "                i (int):\n",
        "                    The index of the example to retrieve.\n",
        "\n",
        "            What it does:\n",
        "                - Returns a dictionary containing the input IDs and labels for the specified index.\n",
        "\n",
        "            Returns:\n",
        "                dict:\n",
        "                    A dictionary with the following keys:\n",
        "                    - 'input_ids': The input IDs corresponding to the specified index.\n",
        "                    - 'labels': The labels corresponding to the specified index.\n",
        "            \"\"\"\n",
        "\n",
        "            return dict(input_ids=self.input_ids[i], labels=self.labels[i])"
      ],
      "metadata": {
        "id": "ve0_iV0y2UzX"
      },
      "execution_count": null,
      "outputs": []
    },
    {
      "cell_type": "markdown",
      "source": [
        "The `make_supervised_data_module` function is designed to create a dataset and data collator specifically for supervised fine-tuning of a model. It takes three input arguments: `data_path`, which specifies where the training data is located; `tokenizer`, which is responsible for converting the raw input into tokens suitable for the model; and an optional `mode`, defaulting to 'IT' for Instruction Tuning.\n",
        "\n",
        "The function performs the following steps: it initializes a `SupervisedDataset` object with the provided parameters, which prepares the training data for use. It then creates a `DataCollatorForSupervisedDataset` using the same tokenizer, which helps batch the data appropriately during training. Finally, the function returns a dictionary containing the initialized training dataset, an evaluation dataset (set to `None`), and the data collator, allowing for seamless integration into the training pipeline. This setup ensures that the model is trained effectively on the provided data while accommodating specific requirements based on the dataset's structure.\n"
      ],
      "metadata": {
        "id": "xamsPFI4Thfk"
      }
    },
    {
      "cell_type": "code",
      "source": [
        "def make_supervised_data_module( data_path, tokenizer, mode = 'IT'):\n",
        "\n",
        "        \"\"\"\n",
        "        Create a dataset and data collator for supervised fine-tuning.\n",
        "\n",
        "        Input arguments:\n",
        "            data_path (str):\n",
        "                The path to the dataset file or directory containing the training data.\n",
        "            tokenizer (Tokenizer):\n",
        "                The tokenizer to be used for tokenizing the input data.\n",
        "            mode (str, optional):\n",
        "                The mode of operation for the dataset, default is 'IT' (Instruction Tuning).\n",
        "\n",
        "        What it does:\n",
        "                - Initializes a `SupervisedDataset` using the provided `data_path`, `tokenizer`, and `mode`.\n",
        "                - Creates a `DataCollatorForSupervisedDataset` using the provided `tokenizer`.\n",
        "                - Returns a dictionary containing the training dataset, evaluation dataset (set to None), and the data collator.\n",
        "\n",
        "        Returns:\n",
        "            dict: A dictionary with the following keys:\n",
        "                - 'train_dataset': The initialized training dataset.\n",
        "                - 'eval_dataset': The evaluation dataset (currently set to None).\n",
        "                - 'data_collator': The data collator for batching the dataset.\n",
        "        \"\"\"\n",
        "\n",
        "        train_dataset = SupervisedDataset(data_path, tokenizer = tokenizer, mode = mode)\n",
        "        data_collator = DataCollatorForSupervisedDataset(tokenizer = tokenizer)\n",
        "        return dict(train_dataset = train_dataset, eval_dataset = None, data_collator = data_collator)"
      ],
      "metadata": {
        "id": "C6uR6DRNSSOW"
      },
      "execution_count": null,
      "outputs": []
    },
    {
      "cell_type": "markdown",
      "source": [
        "The `_tokenize_fn` function tokenizes a list of strings using a specified tokenizer. It takes two inputs: `strings`, which is a list of strings to tokenize, and `tokenizer`, a pre-trained tokenizer instance. The function tokenizes each string with padding set to the longest sequence and enables truncation to fit within the tokenizer's maximum length. It extracts the `input_ids`, which represent the tokenized strings, and sets the `labels` to the same values. Additionally, it calculates the lengths of the input and label sequences, excluding any padding. Finally, it returns a dictionary containing `input_ids`, `labels`, `input_ids_lens`, and `labels_lens`, effectively preparing the data for model training."
      ],
      "metadata": {
        "id": "EhjRq6GAYr9S"
      }
    },
    {
      "cell_type": "code",
      "source": [
        "def _tokenize_fn(strings, tokenizer):\n",
        "\n",
        "            \"\"\"\n",
        "            Tokenize a list of strings using the provided tokenizer.\n",
        "\n",
        "            Input arguments:\n",
        "                strings (list of str):\n",
        "                    A list of input strings to be tokenized.\n",
        "\n",
        "                tokenizer (PreTrainedTokenizer):\n",
        "                    A tokenizer instance (e.g., from Hugging Face) that will tokenize the input strings.\n",
        "                    This tokenizer should return PyTorch tensors (`return_tensors=\"pt\"`).\n",
        "\n",
        "            What it does:\n",
        "                    - Tokenizes each string in the input `strings` list.\n",
        "                    - Applies padding to ensure all tokenized outputs are of the same length.\n",
        "                    - Truncates tokenized strings to fit within the tokenizer's maximum length.\n",
        "                    - Extracts input IDs and labels from the tokenized results.\n",
        "                    - Computes the length of each tokenized sequence (i.e., the number of non-padding tokens).\n",
        "\n",
        "            Returns:\n",
        "                dict: A dictionary with the following keys:\n",
        "                    - `input_ids` (list of torch.Tensor): The input token IDs for each string.\n",
        "                    - `labels` (list of torch.Tensor): The same as `input_ids`, used as labels.\n",
        "                    - `input_ids_lens` (list of int): Lengths of the input token sequences (excluding padding).\n",
        "                    - `labels_lens` (list of int): Lengths of the label token sequences (excluding padding).\n",
        "            \"\"\"\n",
        "\n",
        "            tokenized_list = [\n",
        "                tokenizer(\n",
        "                    text,\n",
        "                    return_tensors=\"pt\",\n",
        "                    padding=\"longest\",\n",
        "                    #max_length=tokenizer.model_max_length,\n",
        "                    truncation=True,\n",
        "                )\n",
        "                for text in strings\n",
        "            ]\n",
        "            input_ids = labels = [tokenized.input_ids[0] for tokenized in tokenized_list]\n",
        "            input_ids_lens = labels_lens = [\n",
        "                tokenized.input_ids.ne(tokenizer.pad_token_id).sum().item() for tokenized in tokenized_list\n",
        "            ]\n",
        "            return dict(\n",
        "                input_ids=input_ids,\n",
        "                labels=labels,\n",
        "                input_ids_lens=input_ids_lens,\n",
        "                labels_lens=labels_lens,\n",
        "            )"
      ],
      "metadata": {
        "id": "cuFvVfEu5Cyq"
      },
      "execution_count": null,
      "outputs": []
    },
    {
      "cell_type": "markdown",
      "source": [
        "In this snippet, we set `data_path` to the file path `'data/code_alpaca_2k.json'`, which points to the dataset we want to use. Then, we create a data module by calling the `make_supervised_data_module` function, passing in the `data_path`, the previously defined `tokenizer`, and specifying the mode as `'IT'` for Instruction Tuning. This effectively initializes the training dataset and prepares the data for the supervised fine-tuning process, ensuring that the data is properly tokenized and ready for model training."
      ],
      "metadata": {
        "id": "WOLXTIGJrPjE"
      }
    },
    {
      "cell_type": "code",
      "source": [
        "data_path ='data/code_alpaca_2k.json'\n",
        "data_module = make_supervised_data_module(data_path, tokenizer=tokenizer, mode = 'IT')"
      ],
      "metadata": {
        "id": "D1KR3LNYk6wl",
        "colab": {
          "base_uri": "https://localhost:8080/"
        },
        "outputId": "ee472f89-2f71-4fa0-b88f-b71d49b05aa3"
      },
      "execution_count": null,
      "outputs": [
        {
          "output_type": "stream",
          "name": "stdout",
          "text": [
            "Loading data...\n",
            "Formatting inputs...\n",
            "Tokenizing inputs... This may take some time...\n"
          ]
        }
      ]
    },
    {
      "cell_type": "markdown",
      "source": [
        "## Step 4: PEFT Configuration"
      ],
      "metadata": {
        "id": "i8NYIfo9qr8q"
      }
    },
    {
      "cell_type": "markdown",
      "source": [
        "In this step, we’re importing `LoraConfig` and `PeftModel` from the PEFT library. This library provides tools for parameter-efficient fine-tuning (PEFT), allowing us to efficiently adapt models to new tasks with minimal additional parameters. `LoraConfig` helps us configure the Low-Rank Adaptation (LoRA) method, which reduces the number of trainable parameters while maintaining model performance. Meanwhile, `PeftModel` is used to create a model that incorporates these adaptations, making it easier to fine-tune large language models effectively."
      ],
      "metadata": {
        "id": "KdJy57LTZgWO"
      }
    },
    {
      "cell_type": "code",
      "source": [
        "from peft import LoraConfig, PeftModel"
      ],
      "metadata": {
        "id": "je256ZOBune_"
      },
      "execution_count": null,
      "outputs": []
    },
    {
      "cell_type": "markdown",
      "source": [
        "In this section, we define the configuration parameters for the LoRA setup: `lora_r`, `lora_alpha`, and `lora_dropout`.\n",
        "\n",
        "- **`lora_r`** is set to `2`, which specifies the rank for the low-rank adaptation. A lower rank typically means fewer parameters, helping to reduce computational costs while still capturing the essential information needed for the task. It is set to 2 here to demonstrate finetuning in colab in a shorter period of time.\n",
        "- **`lora_alpha`** is set to `16`, which is a scaling factor used to control the strength of the LoRA updates. A higher alpha can lead to stronger adaptations but may require careful tuning to avoid overfitting.\n",
        "- **`lora_dropout`** is set to `0.1`, indicating a dropout rate of 10%. This dropout is applied to the LoRA layers during training to help prevent overfitting by randomly dropping a portion of the parameters during updates."
      ],
      "metadata": {
        "id": "DbaOYizUZy7t"
      }
    },
    {
      "cell_type": "code",
      "source": [
        "lora_r = 2  # lora rank\n",
        "lora_alpha = 16  # alpha parameter for LoRA scaling\n",
        "lora_dropout = 0.1   # dropout rate for LoRA"
      ],
      "metadata": {
        "id": "dENAtaGOqxQu"
      },
      "execution_count": null,
      "outputs": []
    },
    {
      "cell_type": "markdown",
      "source": [
        "This code snippet sets up the PEFT (Parameter-Efficient Fine-Tuning) configuration for supervised fine-tuning of a causal language model using LoRA (Low-Rank Adaptation). The `LoraConfig` is initialized with previously defined variables: `lora_alpha`, `lora_dropout`, and `lora_r`, which control the scaling, dropout rate, and rank for LoRA, respectively. The `bias` is set to \"none\", and `task_type` is specified as \"CAUSAL_LM\" to indicate that the model is intended for causal language modeling tasks."
      ],
      "metadata": {
        "id": "AQs5n5zOZ9o-"
      }
    },
    {
      "cell_type": "code",
      "source": [
        "# Set supervised fine-tuning parameters\n",
        "peft_config = LoraConfig( lora_alpha = lora_alpha,\n",
        "                          lora_dropout = lora_dropout,\n",
        "                          r = lora_r,\n",
        "                          bias=\"none\",\n",
        "                          task_type=\"CAUSAL_LM\",\n",
        "                          )"
      ],
      "metadata": {
        "id": "Bk6RZxUTmX7a"
      },
      "execution_count": null,
      "outputs": []
    },
    {
      "cell_type": "markdown",
      "source": [
        "## Step 5: Huggingface Trainer Configuration"
      ],
      "metadata": {
        "id": "FoFGTOGYq3ba"
      }
    },
    {
      "cell_type": "markdown",
      "source": [
        "In this step, we import the necessary components to configure the training process using Hugging Face's `transformers` library and `trl`. The `TrainingArguments` class is used to define various training parameters such as learning rate, batch size, and the number of training epochs. The `SFTTrainer` class from the `trl` library is a specialized trainer designed for supervised fine-tuning (SFT) tasks, providing additional functionalities tailored for fine-tuning language models."
      ],
      "metadata": {
        "id": "LrVO-aHQaukj"
      }
    },
    {
      "cell_type": "code",
      "source": [
        "from transformers import TrainingArguments\n",
        "from trl import SFTTrainer"
      ],
      "metadata": {
        "id": "oQKFKmN_ZJ-a"
      },
      "execution_count": null,
      "outputs": []
    },
    {
      "cell_type": "markdown",
      "source": [
        "Here, we define various training parameters for the supervised fine-tuning process. The `output_dir` specifies where to save the training results, while `num_train_epochs` sets the training duration to half an epoch. We disable mixed precision training with `fp16` and `bf16` set to `False`, opting for a batch size of 2 for both training and evaluation.\n",
        "\n",
        "`gradient_accumulation_steps` is set to 1 to apply gradients after each batch, and `gradient_checkpointing` is enabled to save memory during training. We limit the maximum gradient norm to 0.3 to prevent exploding gradients. The learning rate is adjusted to `2e-5`, lower than the default, with a weight decay of `0.01` to encourage regularization.\n",
        "\n",
        "The optimizer is set to `paged_adamw_8bit` to save memory and enhance training speed. The learning rate scheduler is fixed at a constant rate, and no specific maximum training steps are defined (`max_steps = -1`). We allocate a warm-up ratio of 0.03 for gradual learning rate increase, disable length grouping, and set logging intervals at every 25 steps. The sequence length is set to `None` to allow dynamic lengths, and packing is disabled. Finally, the `save_steps` parameter is set to a very high value to avoid saving intermediate results and thus conserve disk space."
      ],
      "metadata": {
        "id": "DA_yqNZnbKQK"
      }
    },
    {
      "cell_type": "code",
      "source": [
        "output_dir = \"./results\"\n",
        "num_train_epochs = 0.5\n",
        "fp16 = False\n",
        "bf16 = False\n",
        "per_device_train_batch_size = 2\n",
        "per_device_eval_batch_size = 2\n",
        "gradient_accumulation_steps = 1\n",
        "gradient_checkpointing = True\n",
        "max_grad_norm = 0.3\n",
        "learning_rate = 2e-5   # default is 2e-4\n",
        "weight_decay = 0.01   # 0.001\n",
        "optim = 'paged_adamw_8bit'\n",
        "lr_scheduler_type = \"constant\"\n",
        "max_steps = -1\n",
        "warmup_ratio = 0.03\n",
        "group_by_length = False\n",
        "logging_steps = 25\n",
        "max_seq_length = None\n",
        "packing = False\n",
        "save_steps = 1000000 # not saving intermediate results to save disk space\n",
        "\n",
        "# Load the entire model on the GPU 0\n",
        "# device_map = {\"\": \"cuda\"} # change to 'auto' on local machine"
      ],
      "metadata": {
        "id": "-ImoJ6shu9bm"
      },
      "execution_count": null,
      "outputs": []
    },
    {
      "cell_type": "markdown",
      "source": [
        "This part sets up the training arguments for the Hugging Face Trainer using the previously defined variables. The `TrainingArguments` class allows you to specify essential parameters for training, such as the output directory, the number of epochs, batch sizes, optimization method, learning rate, and logging frequency."
      ],
      "metadata": {
        "id": "eE2EXeWgcNlP"
      }
    },
    {
      "cell_type": "code",
      "source": [
        "training_arguments = TrainingArguments(\n",
        "              output_dir = output_dir,\n",
        "              num_train_epochs = num_train_epochs,\n",
        "              per_device_train_batch_size =per_device_train_batch_size,\n",
        "              gradient_accumulation_steps = gradient_accumulation_steps,\n",
        "              optim = optim,\n",
        "              save_steps = save_steps,\n",
        "              logging_steps = logging_steps,\n",
        "              learning_rate = learning_rate,\n",
        "              weight_decay = weight_decay,\n",
        "              fp16 = fp16,\n",
        "              bf16 = bf16,\n",
        "              max_grad_norm = max_grad_norm,\n",
        "              max_steps = max_steps,\n",
        "              warmup_ratio = warmup_ratio,\n",
        "              group_by_length = group_by_length,\n",
        "              lr_scheduler_type = lr_scheduler_type\n",
        "              )"
      ],
      "metadata": {
        "id": "MrYS5W8CmhaA"
      },
      "execution_count": null,
      "outputs": []
    },
    {
      "cell_type": "markdown",
      "source": [
        "In this section, the `SFTTrainer` is instantiated with the model and configurations set up earlier. The `model` parameter specifies which model to train, while `peft_config` applies the previously defined PEFT (Parameter-Efficient Fine-Tuning) settings. The `max_seq_length` controls the maximum length of input sequences, and `tokenizer` is the tokenizer used for processing the data. The `args` parameter includes all the training arguments defined previously. Additionally, `packing=True` allows for packing sequences of different lengths into the same batch, optimizing training efficiency. Finally, `**data_module` unpacks the training dataset and data collator into the trainer."
      ],
      "metadata": {
        "id": "b1R5rdZrcTSv"
      }
    },
    {
      "cell_type": "code",
      "source": [
        "trainer = SFTTrainer(\n",
        "            model = model,\n",
        "            peft_config = peft_config,\n",
        "            max_seq_length = max_seq_length,\n",
        "            tokenizer = tokenizer,\n",
        "            args = training_arguments,\n",
        "            packing = True,\n",
        "            **data_module\n",
        "        )"
      ],
      "metadata": {
        "id": "YUXTDIVmmra9"
      },
      "execution_count": null,
      "outputs": []
    },
    {
      "cell_type": "markdown",
      "source": [
        "## Step 6: Train and Merge"
      ],
      "metadata": {
        "id": "7bcCMzmAq9SG"
      }
    },
    {
      "cell_type": "markdown",
      "source": [
        "The `trainer.train()` function is then called to start the training process. This function handles the entire training loop, applying the defined training parameters, dataset, and model settings to fine-tune the model on the provided data."
      ],
      "metadata": {
        "id": "dJnp-JSLdRI3"
      }
    },
    {
      "cell_type": "code",
      "source": [
        "print('Training model with the configurations mentioned...')\n",
        "trainer.train()"
      ],
      "metadata": {
        "colab": {
          "base_uri": "https://localhost:8080/",
          "height": 1000
        },
        "id": "CuB3XC_6m1JJ",
        "outputId": "75dbb5bf-3e37-4061-d4c5-edcc05007de4"
      },
      "execution_count": null,
      "outputs": [
        {
          "metadata": {
            "tags": null
          },
          "name": "stdout",
          "output_type": "stream",
          "text": [
            "Training model with the configurations mentioned...\n"
          ]
        },
        {
          "metadata": {
            "tags": null
          },
          "name": "stderr",
          "output_type": "stream",
          "text": [
            "/usr/local/lib/python3.10/dist-packages/torch/utils/checkpoint.py:295: FutureWarning: `torch.cpu.amp.autocast(args...)` is deprecated. Please use `torch.amp.autocast('cpu', args...)` instead.\n",
            "  with torch.enable_grad(), device_autocast_ctx, torch.cpu.amp.autocast(**ctx.cpu_autocast_kwargs):  # type: ignore[attr-defined]\n"
          ]
        },
        {
          "data": {
            "text/html": [
              "\n",
              "    <div>\n",
              "      \n",
              "      <progress value='474' max='505' style='width:300px; height:20px; vertical-align: middle;'></progress>\n",
              "      [474/505 45:08 < 02:57, 0.17 it/s, Epoch 0.47/1]\n",
              "    </div>\n",
              "    <table border=\"1\" class=\"dataframe\">\n",
              "  <thead>\n",
              " <tr style=\"text-align: left;\">\n",
              "      <th>Step</th>\n",
              "      <th>Training Loss</th>\n",
              "    </tr>\n",
              "  </thead>\n",
              "  <tbody>\n",
              "    <tr>\n",
              "      <td>25</td>\n",
              "      <td>0.889100</td>\n",
              "    </tr>\n",
              "    <tr>\n",
              "      <td>50</td>\n",
              "      <td>0.758200</td>\n",
              "    </tr>\n",
              "    <tr>\n",
              "      <td>75</td>\n",
              "      <td>0.679900</td>\n",
              "    </tr>\n",
              "    <tr>\n",
              "      <td>100</td>\n",
              "      <td>0.461800</td>\n",
              "    </tr>\n",
              "    <tr>\n",
              "      <td>125</td>\n",
              "      <td>0.646800</td>\n",
              "    </tr>\n",
              "    <tr>\n",
              "      <td>150</td>\n",
              "      <td>0.442400</td>\n",
              "    </tr>\n",
              "    <tr>\n",
              "      <td>175</td>\n",
              "      <td>0.502200</td>\n",
              "    </tr>\n",
              "    <tr>\n",
              "      <td>200</td>\n",
              "      <td>0.496700</td>\n",
              "    </tr>\n",
              "    <tr>\n",
              "      <td>225</td>\n",
              "      <td>0.564500</td>\n",
              "    </tr>\n",
              "    <tr>\n",
              "      <td>250</td>\n",
              "      <td>0.506700</td>\n",
              "    </tr>\n",
              "    <tr>\n",
              "      <td>275</td>\n",
              "      <td>0.395700</td>\n",
              "    </tr>\n",
              "    <tr>\n",
              "      <td>300</td>\n",
              "      <td>0.442400</td>\n",
              "    </tr>\n",
              "    <tr>\n",
              "      <td>325</td>\n",
              "      <td>0.454600</td>\n",
              "    </tr>\n",
              "    <tr>\n",
              "      <td>350</td>\n",
              "      <td>0.408500</td>\n",
              "    </tr>\n",
              "    <tr>\n",
              "      <td>375</td>\n",
              "      <td>0.370700</td>\n",
              "    </tr>\n",
              "    <tr>\n",
              "      <td>400</td>\n",
              "      <td>0.456800</td>\n",
              "    </tr>\n",
              "    <tr>\n",
              "      <td>425</td>\n",
              "      <td>0.431600</td>\n",
              "    </tr>\n",
              "    <tr>\n",
              "      <td>450</td>\n",
              "      <td>0.464100</td>\n",
              "    </tr>\n",
              "  </tbody>\n",
              "</table><p>"
            ],
            "text/plain": [
              "<IPython.core.display.HTML object>"
            ]
          },
          "metadata": {},
          "output_type": "display_data"
        },
        {
          "output_type": "display_data",
          "data": {
            "text/plain": [
              "<IPython.core.display.HTML object>"
            ],
            "text/html": [
              "\n",
              "    <div>\n",
              "      \n",
              "      <progress value='505' max='505' style='width:300px; height:20px; vertical-align: middle;'></progress>\n",
              "      [505/505 47:58, Epoch 0/1]\n",
              "    </div>\n",
              "    <table border=\"1\" class=\"dataframe\">\n",
              "  <thead>\n",
              " <tr style=\"text-align: left;\">\n",
              "      <th>Step</th>\n",
              "      <th>Training Loss</th>\n",
              "    </tr>\n",
              "  </thead>\n",
              "  <tbody>\n",
              "    <tr>\n",
              "      <td>25</td>\n",
              "      <td>0.889100</td>\n",
              "    </tr>\n",
              "    <tr>\n",
              "      <td>50</td>\n",
              "      <td>0.758200</td>\n",
              "    </tr>\n",
              "    <tr>\n",
              "      <td>75</td>\n",
              "      <td>0.679900</td>\n",
              "    </tr>\n",
              "    <tr>\n",
              "      <td>100</td>\n",
              "      <td>0.461800</td>\n",
              "    </tr>\n",
              "    <tr>\n",
              "      <td>125</td>\n",
              "      <td>0.646800</td>\n",
              "    </tr>\n",
              "    <tr>\n",
              "      <td>150</td>\n",
              "      <td>0.442400</td>\n",
              "    </tr>\n",
              "    <tr>\n",
              "      <td>175</td>\n",
              "      <td>0.502200</td>\n",
              "    </tr>\n",
              "    <tr>\n",
              "      <td>200</td>\n",
              "      <td>0.496700</td>\n",
              "    </tr>\n",
              "    <tr>\n",
              "      <td>225</td>\n",
              "      <td>0.564500</td>\n",
              "    </tr>\n",
              "    <tr>\n",
              "      <td>250</td>\n",
              "      <td>0.506700</td>\n",
              "    </tr>\n",
              "    <tr>\n",
              "      <td>275</td>\n",
              "      <td>0.395700</td>\n",
              "    </tr>\n",
              "    <tr>\n",
              "      <td>300</td>\n",
              "      <td>0.442400</td>\n",
              "    </tr>\n",
              "    <tr>\n",
              "      <td>325</td>\n",
              "      <td>0.454600</td>\n",
              "    </tr>\n",
              "    <tr>\n",
              "      <td>350</td>\n",
              "      <td>0.408500</td>\n",
              "    </tr>\n",
              "    <tr>\n",
              "      <td>375</td>\n",
              "      <td>0.370700</td>\n",
              "    </tr>\n",
              "    <tr>\n",
              "      <td>400</td>\n",
              "      <td>0.456800</td>\n",
              "    </tr>\n",
              "    <tr>\n",
              "      <td>425</td>\n",
              "      <td>0.431600</td>\n",
              "    </tr>\n",
              "    <tr>\n",
              "      <td>450</td>\n",
              "      <td>0.464100</td>\n",
              "    </tr>\n",
              "    <tr>\n",
              "      <td>475</td>\n",
              "      <td>0.517500</td>\n",
              "    </tr>\n",
              "    <tr>\n",
              "      <td>500</td>\n",
              "      <td>0.468800</td>\n",
              "    </tr>\n",
              "  </tbody>\n",
              "</table><p>"
            ]
          },
          "metadata": {}
        },
        {
          "output_type": "execute_result",
          "data": {
            "text/plain": [
              "TrainOutput(global_step=505, training_loss=0.5174135892698081, metrics={'train_runtime': 2885.3865, 'train_samples_per_second': 0.35, 'train_steps_per_second': 0.175, 'total_flos': 6878961086791680.0, 'train_loss': 0.5174135892698081, 'epoch': 0.5})"
            ]
          },
          "metadata": {},
          "execution_count": 47
        }
      ]
    },
    {
      "cell_type": "markdown",
      "source": [
        "`trainer.save_model(output_dir)` saves the fine-tuned model to the specified `output_dir`."
      ],
      "metadata": {
        "id": "7khDklNxdela"
      }
    },
    {
      "cell_type": "code",
      "source": [
        "trainer.save_model(output_dir)\n",
        "print('Model finetuned and saved to ', output_dir)"
      ],
      "metadata": {
        "colab": {
          "base_uri": "https://localhost:8080/"
        },
        "id": "VunltqJGm1nF",
        "outputId": "5eb34215-a493-4457-dbd5-0e0b556f8adc"
      },
      "execution_count": null,
      "outputs": [
        {
          "output_type": "stream",
          "name": "stdout",
          "text": [
            "Model finetuned and saved to  ./results\n"
          ]
        }
      ]
    },
    {
      "cell_type": "markdown",
      "source": [
        "In this code snippet, we are preparing to load and utilize the fine-tuned model. First, `base_model = LlamaForCausalLM.from_pretrained(model_name, return_dict=True, torch_dtype=torch.float16)` loads the base model with 16-bit floating-point precision for reduced memory usage and faster computation. Next, `model = PeftModel.from_pretrained(base_model, output_dir)` loads the fine-tuned model parameters from the specified `output_dir`. The `merge_and_unload()` method is then called to consolidate the model's parameters into a single structure. Finally, `tokenizer = CodeLlamaTokenizer.from_pretrained(output_dir)` loads the tokenizer associated with the fine-tuned model."
      ],
      "metadata": {
        "id": "zRvC11R5d3jH"
      }
    },
    {
      "cell_type": "code",
      "source": [
        "base_model = LlamaForCausalLM.from_pretrained(model_name,\n",
        "                                              return_dict = True,\n",
        "                                              torch_dtype = torch.float16\n",
        "                                              )\n",
        "model = PeftModel.from_pretrained(base_model, output_dir)\n",
        "model = model.merge_and_unload()\n",
        "tokenizer = CodeLlamaTokenizer.from_pretrained(output_dir)"
      ],
      "metadata": {
        "colab": {
          "base_uri": "https://localhost:8080/",
          "height": 208,
          "referenced_widgets": [
            "30ae90ad4cb84c4eab612b0e0c6957e2",
            "11d0838619804d2db0cf7f45719c3715",
            "ad0a0bfd19284f4fad14c48aa539ed41",
            "d5ef6c0d5a184cbd8562481734ffb75e",
            "afcc32b8a2964f88bf9f46fd98e897b0",
            "5ef57b8d54e6488b9e8605ed07a62ce7",
            "309e5311ca124ce69d07ae10cbfadf25",
            "2756b2cf866d49d5be117298a91b222a",
            "a747096bb9064278a951a9e90905779d",
            "280308f9043943838f0cafae2adb22a3",
            "1e9aa593eb4b4275b27dd6c8f6df05d8"
          ]
        },
        "id": "VCCc72b8nRD7",
        "outputId": "75d0de39-6392-4e6d-caa3-269f985f58d7"
      },
      "execution_count": null,
      "outputs": [
        {
          "output_type": "stream",
          "name": "stderr",
          "text": [
            "/usr/local/lib/python3.10/dist-packages/huggingface_hub/file_download.py:1150: FutureWarning: `resume_download` is deprecated and will be removed in version 1.0.0. Downloads always resume when possible. If you want to force a new download, use `force_download=True`.\n",
            "  warnings.warn(\n",
            "/usr/local/lib/python3.10/dist-packages/huggingface_hub/utils/_token.py:89: UserWarning: \n",
            "The secret `HF_TOKEN` does not exist in your Colab secrets.\n",
            "To authenticate with the Hugging Face Hub, create a token in your settings tab (https://huggingface.co/settings/tokens), set it as secret in your Google Colab and restart your session.\n",
            "You will be able to reuse this secret in all of your notebooks.\n",
            "Please note that authentication is recommended but still optional to access public models or datasets.\n",
            "  warnings.warn(\n"
          ]
        },
        {
          "output_type": "display_data",
          "data": {
            "text/plain": [
              "Loading checkpoint shards:   0%|          | 0/2 [00:00<?, ?it/s]"
            ],
            "application/vnd.jupyter.widget-view+json": {
              "version_major": 2,
              "version_minor": 0,
              "model_id": "30ae90ad4cb84c4eab612b0e0c6957e2"
            }
          },
          "metadata": {}
        }
      ]
    },
    {
      "cell_type": "markdown",
      "source": [
        "What it does:\n",
        " - Loads the base model using the specified `base_model_name`, configured for half-precision (`float16`).\n",
        " - Loads the fine-tuned model parameters from the specified directory using `PeftModel`.\n",
        " - Merges the base model and the fine-tuned model into a single model and unloads any unnecessary parts to save memory.\n",
        " - Loads the tokenizer corresponding to the fine-tuned model from the specified directory."
      ],
      "metadata": {
        "id": "TW8boFCXSYg9"
      }
    },
    {
      "cell_type": "markdown",
      "source": [
        "# Generate code"
      ],
      "metadata": {
        "id": "D2iCZtPA2LRI"
      }
    },
    {
      "cell_type": "markdown",
      "source": [
        "The `generate` function takes several inputs: a task identifier (`taskid`), a text prompt (`prompt`), the device for computation (`device`), the model for generating text (`model`), and the tokenizer for processing the text (`tokenizer`). It begins by tokenizing the input prompt using the tokenizer and prepares the model inputs on the specified device. The function logs the task ID for reference. Then, it generates text using the model with a greedy decoding strategy, specifying a maximum output length and using appropriate end-of-sequence and padding tokens. The raw generated output is decoded back into a string for readability. Before returning, it attempts to process the generated output using the `processOutput` function; if this processing fails, it defaults to returning the raw output. Finally, the function returns both the raw output and the processed output (or the raw output in case of an error)."
      ],
      "metadata": {
        "id": "txs-emZWUBYn"
      }
    },
    {
      "cell_type": "code",
      "source": [
        "import re\n",
        "\n",
        "def generate(taskid, prompt, device, model, tokenizer):\n",
        "\n",
        "        \"\"\"\n",
        "        Generate text from a prompt using the specified model and tokenizer.\n",
        "\n",
        "        Input arguments:\n",
        "            taskid (int):\n",
        "                An identifier for the task, used for printing and logging purposes.\n",
        "\n",
        "            prompt (str):\n",
        "                The input text prompt that the model will use to generate a response.\n",
        "\n",
        "            device (torch.device):\n",
        "                The device on which the model and tokenization operations will be performed (e.g., 'cpu' or 'cuda').\n",
        "\n",
        "            model (PreTrainedModel):\n",
        "                The language model used to generate text from the prompt.\n",
        "\n",
        "            tokenizer (PreTrainedTokenizer):\n",
        "                The tokenizer used to tokenize the prompt and decode the generated output.\n",
        "\n",
        "        What it does:\n",
        "                - Tokenizes the prompt using the provided `tokenizer`.\n",
        "                - Passes the tokenized prompt to the model for generating text with greedy decoding.\n",
        "                - Decodes the generated tokens back into text.\n",
        "                - Processes the generated output using the `processOutput` function to perform any additional processing.\n",
        "                - Logs the task ID and the generated text before and after processing.\n",
        "\n",
        "        Returns:\n",
        "            tuple:\n",
        "                - `output` (str): The raw text generated by the model.\n",
        "                - `after` (str): The processed output, after passing through the `processOutput` function.\n",
        "                If processing fails, `output` is returned as-is.\n",
        "        \"\"\"\n",
        "\n",
        "\n",
        "        model_inputs = tokenizer(prompt, return_tensors='pt').to(device)\n",
        "        print(\"Task ID: \" + str(taskid) + \"\\n\" + 100 * '-')\n",
        "\n",
        "\n",
        "        greedy_output = model.generate(model_inputs['input_ids'], max_length = 1000, eos_token_id=tokenizer.eos_token_id, pad_token_id = tokenizer.pad_token_id)\n",
        "        print(\"Generating...\")\n",
        "\n",
        "\n",
        "        output = tokenizer.decode(greedy_output[0])\n",
        "        print('Before processing\\n',output)\n",
        "\n",
        "        try:\n",
        "            after = processOutput(output)\n",
        "            print('After processing\\n', after)\n",
        "\n",
        "        except:\n",
        "            after = output\n",
        "            print('Could not process')\n",
        "\n",
        "        return output, after"
      ],
      "metadata": {
        "id": "0CYt6ImDUNNs"
      },
      "execution_count": null,
      "outputs": []
    },
    {
      "cell_type": "markdown",
      "source": [
        "The `processOutput` function takes a string (`output`) representing raw text generated by the language model, which often includes unwanted formatting and special tags. It first checks for specific starters indicating the beginning of the relevant response, and then it removes these starters along with special tags like `<s>` and `</s>`. The function replaces double quotes with single quotes, deletes any occurrence of the phrase \"Let's think step by step,\" and removes text enclosed in triple single quotes (''') as well as comments that start with hashtags (#). It identifies the positions of function definitions and return statements to determine if the generated code is complete. If there are more function definitions than return statements, it trims the code to ensure completeness. The function attempts to execute the cleaned code using the `exec` function. If execution fails, it checks for issues, such as incomplete return statements or additional lines after the last function, and further refines the output to return a more executable version. Ultimately, it returns the processed Python code, ready for execution."
      ],
      "metadata": {
        "id": "VWUjBRktelUh"
      }
    },
    {
      "cell_type": "code",
      "source": [
        "def processOutput(output):\n",
        "\n",
        "        \"\"\"\n",
        "        Process the text generated by the language model to clean and prepare it for execution as Python code.\n",
        "\n",
        "        Input arguments:\n",
        "            output (str):\n",
        "                The raw, unprocessed text generated by the language model, often containing special tags, instructions, and formatting that need to be removed.\n",
        "\n",
        "        What it does:\n",
        "              - Removes special tags like `<s>` and `</s>`.\n",
        "              - Replaces double quotation marks (\") with single quotation marks (').\n",
        "              - Deletes the sentence \"Let's think step by step.\" if present.\n",
        "              - Removes instructions enclosed in triple single quotes (''') and comments starting with hashtags (#).\n",
        "              - Trims the code if it contains the line \"if __name__ == '__main__':\".\n",
        "              - If there are more function definitions (`def`) than return statements, it assumes incomplete code and removes the extra function.\n",
        "              - Attempts to execute the cleaned code. If execution fails, it further checks for issues like incomplete return statements or additional statements after a function and removes problematic lines.\n",
        "\n",
        "        Returns:\n",
        "            str: The processed and cleaned Python code ready for execution.\n",
        "                If errors are found during execution, attempts to clean up the code further and return a more executable version.\n",
        "        \"\"\"\n",
        "\n",
        "        possible_starters = ['### Response:', '### Output:']\n",
        "\n",
        "        for starter in possible_starters:\n",
        "            if(starter in output):\n",
        "                output = output[output.find(starter)+len(starter):]\n",
        "\n",
        "        output = output.replace('<s>','').replace('</s>','').strip()\n",
        "        output = output.replace('\"',\"'\")\n",
        "        output = output.replace('\\nLet\\'s think step by step.\\n\\n',\"\")\n",
        "        output = output.replace('Answer:',\"\")\n",
        "        output = remove_text_inside_quotes(output, \"'''\")\n",
        "        output = remove_lines_starting_with_hashtag(output)\n",
        "        deff = [m.start() for m in re.finditer(r\"def \",output)] # finds the occurrences of 'def'(the starting indices)\n",
        "        ret = [m.start() for m in re.finditer(r\"return\",output)] # finds the occurrences of 'return'(the starting indices)\n",
        "\n",
        "        if(\"'''\" in output):\n",
        "            output = output[:deff[len(deff)-1]]\n",
        "        if(\"if __name__ == '__main__':\" in output):\n",
        "            main = [m.start() for m in re.finditer(r\"if __name__ == '__main__':\",output)][0]\n",
        "            output = output[:main]\n",
        "\n",
        "        if (len(ret)==0):\n",
        "            return output\n",
        "\n",
        "        #if function starts but theres no return statement\n",
        "        if (ret[len(ret)-1] < deff[len(deff)-1]):\n",
        "            #print('funct not over!')\n",
        "            output = output[:deff[len(deff)-1]]\n",
        "\n",
        "        try:\n",
        "            #execute the output\n",
        "            exec(output)\n",
        "\n",
        "        except:\n",
        "            #Function starts and there is a return statement but there is a statement that doesn't end\n",
        "\n",
        "            last_return = ret[len(ret)-1]\n",
        "            try:\n",
        "                #there are additional statements after the end of the function\n",
        "                #sol : stop till the last return statement\n",
        "                end = last_return + [m.start() for m in re.finditer(\"\\n\",output[last_return:])][0]\n",
        "                output = output[:end]\n",
        "            except:\n",
        "                #the return statement is not complete\n",
        "                #sol : stop till before the last def line\n",
        "                output = output[:deff[len(deff)-1]]\n",
        "\n",
        "        return (output)"
      ],
      "metadata": {
        "id": "V3ofT_l04l_w"
      },
      "execution_count": null,
      "outputs": []
    },
    {
      "cell_type": "markdown",
      "source": [
        "The `remove_text_inside_quotes` function takes an input string and a specified type of quotation mark (e.g., single or double quotes) to remove all text enclosed within those quotation marks. It utilizes a regular expression pattern to identify the quoted sections and removes everything between the matching quotation marks, including the quotes themselves. The function returns the modified input string, which has all specified quoted sections removed."
      ],
      "metadata": {
        "id": "LM8Gslc0eumJ"
      }
    },
    {
      "cell_type": "code",
      "source": [
        "def remove_text_inside_quotes( input_string, quote):\n",
        "\n",
        "        \"\"\"\n",
        "        Remove all text enclosed within a specified quote from the input string.\n",
        "\n",
        "        Input arguments:\n",
        "            input_string (str):\n",
        "                The input text which may contain quoted sections.\n",
        "            quote (str):\n",
        "                The type of quotation mark used to enclose the text you want to remove (e.g., single quote, double quote, triple quotes).\n",
        "\n",
        "        What it does:\n",
        "            - Utilizes a regular expression pattern to identify and remove all text found between pairs of the specified quotation mark (`quote`).\n",
        "            - Deletes everything between the matching quotation marks, including the quotes themselves.\n",
        "\n",
        "        Returns:\n",
        "            str: The input text with all sections enclosed by the specified quotes removed.\n",
        "        \"\"\"\n",
        "\n",
        "        exp = quote +'(.*?)' + quote\n",
        "        pattern = re.compile(exp, re.DOTALL)\n",
        "        result = re.sub(pattern, '', input_string)\n",
        "        return result"
      ],
      "metadata": {
        "id": "PfijfmrGU5QF"
      },
      "execution_count": null,
      "outputs": []
    },
    {
      "cell_type": "markdown",
      "source": [
        "The `remove_lines_starting_with_hashtag` function removes all lines from the input string that begin with a hashtag (#), which are typically used for comments. It splits the input string into individual lines, filters out any lines that start with a hashtag, and then joins the remaining lines back into a single string. The function returns the cleaned input string with all comment lines removed."
      ],
      "metadata": {
        "id": "v7XBvHz6e5e_"
      }
    },
    {
      "cell_type": "code",
      "source": [
        "def remove_lines_starting_with_hashtag( input_string):\n",
        "\n",
        "        \"\"\"\n",
        "        Remove all lines from the input string that start with a hashtag (#).\n",
        "\n",
        "        Input arguments:\n",
        "            input_string (str):\n",
        "                The input text which may contain lines starting with a hashtag (#), typically comments.\n",
        "\n",
        "        What it does:\n",
        "            - Reads the input string line by line.\n",
        "            - Filters out any lines that start with a hashtag (#), commonly used for comments.\n",
        "            - Joins the remaining lines back into a single string.\n",
        "\n",
        "        Returns:\n",
        "            str: The input text with all lines starting with a hashtag removed.\n",
        "        \"\"\"\n",
        "\n",
        "        lines = input_string.split('\\n')\n",
        "        filtered_lines = [line for line in lines if not line.startswith('#')]\n",
        "        result_string = '\\n'.join(filtered_lines)\n",
        "        return result_string"
      ],
      "metadata": {
        "id": "0f5BMl5eUnqb"
      },
      "execution_count": null,
      "outputs": []
    },
    {
      "cell_type": "markdown",
      "source": [
        "# Evaluation"
      ],
      "metadata": {
        "id": "iM-rOwxcmxxX"
      }
    },
    {
      "cell_type": "markdown",
      "source": [
        "[Reference from the GitHub repository](https://github.com/openai/human-eval.git)"
      ],
      "metadata": {
        "id": "wV4P2GXce-l0"
      }
    },
    {
      "cell_type": "code",
      "source": [
        "import locale\n",
        "from collections import defaultdict, Counter\n",
        "from concurrent.futures import ThreadPoolExecutor, as_completed\n",
        "from typing import List, Union, Iterable, Dict, Optional\n",
        "import itertools\n",
        "import os\n",
        "import gzip\n",
        "import json\n",
        "import contextlib\n",
        "import faulthandler\n",
        "import io\n",
        "import multiprocessing\n",
        "import platform\n",
        "import signal\n",
        "import tempfile\n",
        "import numpy as np\n",
        "import tqdm\n",
        "\n",
        "class HumanEval:\n",
        "\n",
        "    def __init__(self):\n",
        "        self.HUMAN_EVAL = \"eval/HumanEval.jsonl.gz\"\n",
        "\n",
        "    def read_problems(self):\n",
        "        evalset_file = self.HUMAN_EVAL\n",
        "        return {task[\"task_id\"]: task for task in self.stream_jsonl(evalset_file)}\n",
        "\n",
        "    def stream_jsonl(self, filename: str) -> Iterable[Dict]:\n",
        "        if filename.endswith(\".gz\"):\n",
        "            with gzip.open(filename, \"rt\") as fp:\n",
        "                for line in fp:\n",
        "                    if any(not x.isspace() for x in line):\n",
        "                        yield json.loads(line)\n",
        "        else:\n",
        "            with open(filename, \"r\") as fp:\n",
        "                for line in fp:\n",
        "                    if any(not x.isspace() for x in line):\n",
        "                        yield json.loads(line)\n",
        "\n",
        "    def write_jsonl(self, filename: str, data: Iterable[Dict], append: bool = False):\n",
        "        mode = 'ab' if append else 'wb'\n",
        "        filename = os.path.expanduser(filename)\n",
        "        with gzip.open(filename, mode) if filename.endswith(\".gz\") else open(filename, mode) as fp:\n",
        "            for x in data:\n",
        "                fp.write((json.dumps(x) + \"\\n\").encode('utf-8'))\n",
        "\n",
        "    def estimate_pass_at_k(self,\n",
        "        num_samples: Union[int, List[int], np.ndarray],\n",
        "        num_correct: Union[List[int], np.ndarray],\n",
        "        k: int\n",
        "    ) -> np.ndarray:\n",
        "        def estimator(n: int, c: int, k: int) -> float:\n",
        "            if n - c < k:\n",
        "                return 1.0\n",
        "            return 1.0 - np.prod(1.0 - k / np.arange(n - c + 1, n + 1))\n",
        "\n",
        "        if isinstance(num_samples, int):\n",
        "            num_samples_it = itertools.repeat(num_samples, len(num_correct))\n",
        "        else:\n",
        "            num_samples_it = iter(num_samples)\n",
        "\n",
        "        return np.array([estimator(int(n), int(c), k) for n, c in zip(num_samples_it, num_correct)])\n",
        "\n",
        "    def evaluate_functional_correctness_for_n_tasks(\n",
        "        self,\n",
        "        sample_file: str,\n",
        "        k: List[int] = [1, 2, 10, 100],\n",
        "        n_workers: int = 4,\n",
        "        timeout: float = 3.0,\n",
        "    ):\n",
        "        problem_file = self.HUMAN_EVAL\n",
        "        problems = self.read_problems()\n",
        "\n",
        "        with ThreadPoolExecutor(max_workers=n_workers) as executor:\n",
        "            futures = []\n",
        "            completion_id = Counter()\n",
        "            n_samples = 0\n",
        "            results = defaultdict(list)\n",
        "\n",
        "            print(\"Reading samples...\")\n",
        "            for sample in tqdm.tqdm(self.stream_jsonl(sample_file)):\n",
        "                task_id = sample[\"task_id\"]\n",
        "                completion = sample[\"completion\"]\n",
        "                args = (problems[task_id], completion, timeout, completion_id[task_id])\n",
        "                future = executor.submit(self.check_correctness, *args)\n",
        "                futures.append(future)\n",
        "                completion_id[task_id] += 1\n",
        "                n_samples += 1\n",
        "\n",
        "            print(\"Running test suites...\")\n",
        "            for future in tqdm.tqdm(as_completed(futures), total=len(futures)):\n",
        "                result = future.result()\n",
        "                results[result[\"task_id\"]].append((result[\"completion_id\"], result))\n",
        "\n",
        "        total, correct = [], []\n",
        "        for result in results.values():\n",
        "            result.sort()\n",
        "            passed = [r[1][\"passed\"] for r in result]\n",
        "            total.append(len(passed))\n",
        "            correct.append(sum(passed))\n",
        "        total = np.array(total)\n",
        "        correct = np.array(correct)\n",
        "\n",
        "        pass_at_k = {f\"pass@{k}\": self.estimate_pass_at_k(total, correct, k).mean()\n",
        "                     for k in k if (total >= k).all()}\n",
        "\n",
        "        def combine_results():\n",
        "            for sample in self.stream_jsonl(sample_file):\n",
        "                task_id = sample[\"task_id\"]\n",
        "                result = results[task_id].pop(0)\n",
        "                sample['task'] = problems[task_id]\n",
        "                sample[\"result\"] = result[1][\"result\"]\n",
        "                sample[\"passed\"] = result[1][\"passed\"]\n",
        "                yield sample\n",
        "\n",
        "        out_file = sample_file + \"_results.jsonl\"\n",
        "        print(f\"Writing results to {out_file}...\")\n",
        "        self.write_jsonl(out_file, tqdm.tqdm(combine_results(), total=n_samples))\n",
        "\n",
        "        return pass_at_k, pass_at_k[list(pass_at_k.keys())[0]] * 100\n",
        "\n",
        "    def check_correctness(self, problem: Dict, completion: str, timeout: float,\n",
        "                          completion_id: Optional[int] = None) -> Dict:\n",
        "        def unsafe_execute():\n",
        "            with self.create_tempdir():\n",
        "                self.reliability_guard()\n",
        "\n",
        "                check_program = (\n",
        "                    problem[\"prompt\"] + completion + \"\\n\" +\n",
        "                    problem[\"test\"] + \"\\n\" +\n",
        "                    f\"check({problem['entry_point']})\"\n",
        "                )\n",
        "\n",
        "                try:\n",
        "                    exec_globals = {}\n",
        "                    with self.swallow_io():\n",
        "                        with self.time_limit(timeout):\n",
        "                            exec(check_program, exec_globals)\n",
        "                    result.append(\"passed\")\n",
        "                except TimeoutException:\n",
        "                    result.append(\"timed out\")\n",
        "                except BaseException as e:\n",
        "                    result.append(f\"failed: {e}\")\n",
        "\n",
        "        manager = multiprocessing.Manager()\n",
        "        result = manager.list()\n",
        "\n",
        "        p = multiprocessing.Process(target=unsafe_execute)\n",
        "        p.start()\n",
        "        p.join(timeout=timeout + 1)\n",
        "        if p.is_alive():\n",
        "            p.kill()\n",
        "\n",
        "        if not result:\n",
        "            result.append(\"timed out\")\n",
        "\n",
        "        return dict(\n",
        "            task_id=problem[\"task_id\"],\n",
        "            passed=result[0] == \"passed\",\n",
        "            result=result[0],\n",
        "            completion_id=completion_id,\n",
        "        )\n",
        "\n",
        "    @contextlib.contextmanager\n",
        "    def time_limit(self, seconds: float):\n",
        "        def signal_handler(signum, frame):\n",
        "            raise TimeoutException(\"Timed out!\")\n",
        "        signal.signal(signal.SIGALRM, signal_handler)\n",
        "        signal.setitimer(signal.ITIMER_REAL, seconds)\n",
        "        try:\n",
        "            yield\n",
        "        finally:\n",
        "            signal.setitimer(signal.ITIMER_REAL, 0)\n",
        "\n",
        "    @contextlib.contextmanager\n",
        "    def swallow_io(self):\n",
        "        stream = self.WriteOnlyStringIO()\n",
        "        with contextlib.redirect_stdout(stream):\n",
        "            with contextlib.redirect_stderr(stream):\n",
        "                with self.redirect_stdin(stream):\n",
        "                    yield\n",
        "\n",
        "    @contextlib.contextmanager\n",
        "    def create_tempdir(self):\n",
        "        with tempfile.TemporaryDirectory() as dirname:\n",
        "            with self.chdir(dirname):\n",
        "                yield dirname\n",
        "\n",
        "    class TimeoutException(Exception):\n",
        "        pass\n",
        "\n",
        "    class WriteOnlyStringIO(io.StringIO):\n",
        "        def read(self, *args, **kwargs):\n",
        "            raise IOError\n",
        "\n",
        "        def readline(self, *args, **kwargs):\n",
        "            raise IOError\n",
        "\n",
        "        def readable(self, *args, **kwargs):\n",
        "            return False\n",
        "\n",
        "    class redirect_stdin(contextlib._RedirectStream):\n",
        "        _stream = 'stdin'\n",
        "\n",
        "    @contextlib.contextmanager\n",
        "    def chdir(self, root):\n",
        "        cwd = os.getcwd()\n",
        "        os.chdir(root)\n",
        "        try:\n",
        "            yield\n",
        "        finally:\n",
        "            os.chdir(cwd)\n",
        "\n",
        "    def reliability_guard(self, maximum_memory_bytes: Optional[int] = None):\n",
        "\n",
        "        if maximum_memory_bytes is not None:\n",
        "            import resource\n",
        "            resource.setrlimit(resource.RLIMIT_AS, (maximum_memory_bytes, maximum_memory_bytes))\n",
        "            resource.setrlimit(resource.RLIMIT_DATA, (maximum_memory_bytes, maximum_memory_bytes))\n",
        "            if platform.uname().system != 'Darwin':\n",
        "                resource.setrlimit(resource.RLIMIT_STACK, (maximum_memory_bytes, maximum_memory_bytes))\n",
        "\n",
        "        faulthandler.disable()\n",
        "\n",
        "        import builtins\n",
        "        builtins.exit = None\n",
        "        builtins.quit = None\n",
        "\n",
        "        import os\n",
        "        os.environ['OMP_NUM_THREADS'] = '1'\n",
        "\n",
        "        os.kill = None\n",
        "        os.system = None\n",
        "\n",
        "        import shutil\n",
        "        shutil.rmtree = None\n",
        "        shutil.move = None\n",
        "\n",
        "        import subprocess\n",
        "        subprocess.Popen = None\n",
        "\n",
        "        if isinstance(__builtins__, dict):\n",
        "            __builtins__['help'] = None\n",
        "        else:\n",
        "            builtins.help = None"
      ],
      "metadata": {
        "id": "mb6q2yW-PuOd"
      },
      "execution_count": null,
      "outputs": []
    },
    {
      "cell_type": "markdown",
      "source": [
        "## Defining the prompts for evaluation"
      ],
      "metadata": {
        "id": "a4lnmaz6ZrsV"
      }
    },
    {
      "cell_type": "markdown",
      "source": [
        "Generates a formatted instruction prompt based on the specified dataset type. If the dataset is CodeAlpaca, it takes a problem statement as input and instructs the model to create a Python script based on that statement. For the LeetCode dataset, it extracts the question and function header from the input, instructing the model to write Python code for the specified problem while clearly separating the input and expected output."
      ],
      "metadata": {
        "id": "Pp4SAlOagSVs"
      }
    },
    {
      "cell_type": "code",
      "source": [
        "def generate_alpaca_prompt(input):\n",
        "\n",
        "            \"\"\"\n",
        "            Generates a formatted instruction prompt based on the CodeAlpaca dataset.\n",
        "\n",
        "            Input arguments:\n",
        "                input (str): The problem statement or task for which the Python script is to be created.\n",
        "\n",
        "            What it does:\n",
        "                Constructs a prompt in a specific format that includes the instruction to create a Python script\n",
        "                based on the provided input problem statement. The prompt is designed to guide the model in generating\n",
        "                a relevant response.\n",
        "\n",
        "            Returns:\n",
        "                str: A formatted instruction prompt for a model trained on the CodeAlpaca dataset.\n",
        "            \"\"\"\n",
        "\n",
        "            INSTRUCTION = f\"\"\"Below is an instruction that describes a task. Write a response that appropriately completes the request.\n",
        "\n",
        "\n",
        "            ### Instruction:\n",
        "            Create a Python script for this problem:\n",
        "            {input}\n",
        "\n",
        "            ### Response:\"\"\"\n",
        "\n",
        "            return INSTRUCTION\n",
        "\n",
        "\n",
        "def generate_leetcode_prompt(input):\n",
        "\n",
        "        \"\"\"\n",
        "            Generates a formatted instruction prompt based on the leetcode dataset.\n",
        "\n",
        "            Input arguments:\n",
        "                input (str): The problem statement or task for which the Python script is to be created.\n",
        "\n",
        "            What it does:\n",
        "                Constructs a prompt in a specific format that includes the instruction to create a Python script\n",
        "                based on the provided input problem statement. The prompt is designed to guide the model in generating\n",
        "                a relevant response.\n",
        "\n",
        "            Returns:\n",
        "                str: A formatted instruction prompt for a model trained on the leetcode dataset.\n",
        "\n",
        "        \"\"\"\n",
        "\n",
        "        try:\n",
        "            ques = input[input.find('\"\"\"')+3:]\n",
        "        except:\n",
        "            ques = input[input.find(\"'''\")+3:]\n",
        "\n",
        "        func_header =  input[:input.find(\"'''\")]\n",
        "        INSTRUCTION = f\"\"\"Write a response that appropriately completes the request.\n",
        "\n",
        "\n",
        "                    ### Input:\n",
        "                    Write python code for this problem:\n",
        "                    {ques}\n",
        "\n",
        "                    ### Output: \\n{func_header}\"\"\"\n",
        "\n",
        "        return INSTRUCTION"
      ],
      "metadata": {
        "id": "iHiPszgFWJv9"
      },
      "execution_count": null,
      "outputs": []
    },
    {
      "cell_type": "code",
      "source": [
        "prompts = {'alpaca' : generate_alpaca_prompt, 'leetcode': generate_leetcode_prompt}"
      ],
      "metadata": {
        "id": "2Dae9aywZWMm"
      },
      "execution_count": null,
      "outputs": []
    },
    {
      "cell_type": "markdown",
      "source": [
        "## Run the evaluation"
      ],
      "metadata": {
        "id": "4raUD9PgZz5U"
      }
    },
    {
      "cell_type": "markdown",
      "source": [
        "This function generates outputs for all problems in the HumanEval dataset using the specified language model and tokenizer. It reads the problems and, based on the given `prompt_type` (e.g., 'alpaca' or 'leetcode'), generates responses by calling the `generate` function. The results are stored in a list of dictionaries containing the task ID, full generation, and completion. Finally, the samples are saved to a JSONL file named \"samples.jsonl\". If no prompt type is provided, it defaults to using the standard prompt for each problem."
      ],
      "metadata": {
        "id": "KzdSHNyKgoR9"
      }
    },
    {
      "cell_type": "code",
      "source": [
        "#to run all the problems\n",
        "def get_outputs(model, tokenizer, device, prompt_type = None, num_samples_per_task = 1):\n",
        "\n",
        "        \"\"\"\n",
        "        Reads all the problems from the HumanEval dataset and generates outputs using the specified model and tokenizer.\n",
        "\n",
        "        Input arguments:\n",
        "            model: The language model to be used for generating outputs.\n",
        "            tokenizer: The tokenizer associated with the model.\n",
        "            device: The device on which the model is to be executed (e.g., 'cuda' or 'cpu').\n",
        "            prompt_type (str, optional): The type of prompt to use (e.g., 'alpaca' or 'leetcode'). Defaults to None.\n",
        "            num_samples_per_task (int, optional): The number of samples to generate for each task. Defaults to 1.\n",
        "\n",
        "        What it does:\n",
        "            1. Reads all problems from the HumanEval dataset.\n",
        "            2. Generates outputs for each problem using the specified model and tokenizer.\n",
        "            3. Supports different types of prompts based on the provided `prompt_type`.\n",
        "            4. Creates a list of dictionaries in the format [{task_id: generation}, ...].\n",
        "            5. Writes the generated outputs to a JSONL file named \"samples.jsonl\".\n",
        "\n",
        "        Returns:\n",
        "            None\n",
        "        \"\"\"\n",
        "\n",
        "        he = HumanEval()\n",
        "        problems = he.read_problems()\n",
        "        samples = []\n",
        "        if(prompt_type == None):\n",
        "\n",
        "            for task_id in problems:\n",
        "\n",
        "                full, completion = generate(task_id, problems[task_id][\"prompt\"], device, model, tokenizer)\n",
        "                samples.append(dict(task_id=task_id, full_generation = full, completion = completion))\n",
        "\n",
        "        else:\n",
        "\n",
        "            for task_id in problems:\n",
        "\n",
        "                full, completion = generate(task_id, prompts[prompt_type](input = problems[task_id][\"prompt\"]), device, model, tokenizer)\n",
        "                samples.append(dict(task_id=task_id, full_generation = full, completion = completion))\n",
        "\n",
        "        he.write_jsonl(\"samples.jsonl\", samples)"
      ],
      "metadata": {
        "id": "-LpkiVK-ZFto"
      },
      "execution_count": null,
      "outputs": []
    },
    {
      "cell_type": "markdown",
      "source": [
        "This function runs the specified number of tests on the HumanEval dataset using a given language model and tokenizer. It reads the problems and selects the first `num_of_tests` entries."
      ],
      "metadata": {
        "id": "-3QlXSe5g7AR"
      }
    },
    {
      "cell_type": "code",
      "source": [
        "#to run the first n tests\n",
        "def get_outputs_for_first_n_tests(model, tokenizer, device, prompt_type = None, num_of_tests = 1, num_samples_per_task = 1):\n",
        "\n",
        "        \"\"\"\n",
        "        Runs the first n tests on the provided model and tokenizer and generates outputs.\n",
        "\n",
        "        Input arguments:\n",
        "            model: The language model to be used for generating outputs.\n",
        "            tokenizer: The tokenizer associated with the model.\n",
        "            device: The device on which the model is to be executed (e.g., 'cuda' or 'cpu').\n",
        "            prompt_type (str, optional): The type of prompt to use (e.g., 'alpaca' or 'leetcode'). Defaults to None.\n",
        "            num_of_tests (int, optional): The number of tests to run. Defaults to 1.\n",
        "            num_samples_per_task (int, optional): The number of samples to generate for each task. Defaults to 1.\n",
        "\n",
        "        What it does:\n",
        "            - Reads problems from the HumanEval dataset.\n",
        "            - Collects the specified number of problems for testing.\n",
        "            - Generates outputs for the selected problems using the specified model and tokenizer.\n",
        "            - Supports different types of prompts based on the provided `prompt_type`.\n",
        "            - Writes the generated outputs to a JSONL file named \"samples.jsonl\".\n",
        "\n",
        "        Returns:\n",
        "            None\n",
        "        \"\"\"\n",
        "\n",
        "        he = HumanEval()\n",
        "        problems = he.read_problems()\n",
        "        probs = {}\n",
        "        n = 0\n",
        "        for key, value in problems.items():\n",
        "            if(n < num_of_tests):\n",
        "                probs[key] = value\n",
        "            n = n + 1\n",
        "\n",
        "        samples = []\n",
        "        if(prompt_type == None):\n",
        "\n",
        "            for task_id in probs:\n",
        "                full, completion = generate(task_id, problems[task_id][\"prompt\"], device, model, tokenizer)\n",
        "                samples.append(dict(task_id=task_id, full_generation = full, completion = completion))\n",
        "\n",
        "        else:\n",
        "\n",
        "            for task_id in probs:\n",
        "                full, completion = generate(task_id, prompts[prompt_type](input = problems[task_id][\"prompt\"]), device, model, tokenizer)\n",
        "                samples.append(dict(task_id=task_id, full_generation = full, completion = completion))\n",
        "\n",
        "        he.write_jsonl(\"samples.jsonl\", samples)"
      ],
      "metadata": {
        "id": "GaIUpHZ0ZCNJ"
      },
      "execution_count": null,
      "outputs": []
    },
    {
      "cell_type": "markdown",
      "source": [
        "This function call generates outputs for the first test in the HumanEval dataset using the specified language model and tokenizer. The `device` is set to 'cuda' to utilize a GPU for computation. The `prompt_type` is set to 'leetcode', which means the function will format the prompts accordingly. The function will generate one sample for the specified test. This output will then be written to a JSONL file."
      ],
      "metadata": {
        "id": "Fl_3WUBrhWCu"
      }
    },
    {
      "cell_type": "code",
      "source": [
        "get_outputs_for_first_n_tests(model, tokenizer, device = 'cuda', num_of_tests = 1, prompt_type = 'leetcode', num_samples_per_task = 1)"
      ],
      "metadata": {
        "colab": {
          "base_uri": "https://localhost:8080/"
        },
        "id": "sha1cyFhZ5TJ",
        "outputId": "83e7b9ce-8e31-48bf-dad4-53151c070e6b"
      },
      "execution_count": null,
      "outputs": [
        {
          "output_type": "stream",
          "name": "stdout",
          "text": [
            "Task ID: HumanEval/0\n",
            "----------------------------------------------------------------------------------------------------\n",
            "Generating...\n",
            "Before processing\n",
            " </s> Write a response that appropriately completes the request.\n",
            "\n",
            "\n",
            "                    ### Input:\n",
            "                    Write python code for this problem:\n",
            "                     Check if in given list of numbers, are any two numbers closer to each other than\n",
            "    given threshold.\n",
            "    >>> has_close_elements([1.0, 2.0, 3.0], 0.5)\n",
            "    False\n",
            "    >>> has_close_elements([1.0, 2.8, 3.0, 4.0, 5.0, 2.0], 0.3)\n",
            "    True\n",
            "    \"\"\"\n",
            "\n",
            "\n",
            "                    ### Output: \n",
            "from typing import List\n",
            "\n",
            "\n",
            "def has_close_elements(numbers: List[float], threshold: float) -> bool:\n",
            "    \"\"\" Check if in given list of numbers, are any two numbers closer to each other than\n",
            "    given threshold.\n",
            "    >>> has_close_elements([1.0, 2.0, 3.0], 0.5)\n",
            "    False\n",
            "    >>> has_close_elements([1.0, 2.8, 3.0, 4.0, 5.0, 2.0], 0.3)\n",
            "    True\n",
            "    \"\"\"\n",
            "    for i in range(len(numbers)):\n",
            "        for j in range(i + 1, len(numbers)):\n",
            "            if abs(numbers[i] - numbers[j]) < threshold:\n",
            "                return True\n",
            "    return False\n",
            "\n",
            "\n",
            "if __name__ == \"__main__\":\n",
            "    import doctest\n",
            "    doctest.testmod()</s>\n",
            "After processing\n",
            " from typing import List\n",
            "\n",
            "\n",
            "def has_close_elements(numbers: List[float], threshold: float) -> bool:\n",
            "    \n",
            "    for i in range(len(numbers)):\n",
            "        for j in range(i + 1, len(numbers)):\n",
            "            if abs(numbers[i] - numbers[j]) < threshold:\n",
            "                return True\n",
            "    return False\n",
            "\n",
            "\n",
            "\n"
          ]
        }
      ]
    },
    {
      "cell_type": "markdown",
      "source": [
        "## Calculate Pass@k"
      ],
      "metadata": {
        "id": "sFdYoYi1ayMj"
      }
    },
    {
      "cell_type": "markdown",
      "source": [
        "This code initializes the `HumanEval` class and evaluates the functional correctness of the generated outputs stored in the \"samples.jsonl\" file. The `evaluate_functional_correctness_for_n_tasks` method returns two metrics: `pass_at_k`, which indicates the number of tasks that passed the correctness test at a specified threshold, and `accuracy`, representing the proportion of correct outputs among the evaluated tasks."
      ],
      "metadata": {
        "id": "o35O2oMnhLjb"
      }
    },
    {
      "cell_type": "code",
      "source": [
        "he = HumanEval()\n",
        "pass_at_k, accuracy = he.evaluate_functional_correctness_for_n_tasks(\"samples.jsonl\")"
      ],
      "metadata": {
        "colab": {
          "base_uri": "https://localhost:8080/"
        },
        "id": "SGoM1RflZ7nd",
        "outputId": "3a3ea77b-94c0-46c9-a3e7-5456c659c1f4"
      },
      "execution_count": null,
      "outputs": [
        {
          "output_type": "stream",
          "name": "stdout",
          "text": [
            "Reading samples...\n"
          ]
        },
        {
          "output_type": "stream",
          "name": "stderr",
          "text": [
            "1it [00:00, 1486.29it/s]\n"
          ]
        },
        {
          "output_type": "stream",
          "name": "stdout",
          "text": [
            "Running test suites...\n"
          ]
        },
        {
          "output_type": "stream",
          "name": "stderr",
          "text": [
            "100%|██████████| 1/1 [00:00<00:00,  4.47it/s]\n"
          ]
        },
        {
          "output_type": "stream",
          "name": "stdout",
          "text": [
            "Writing results to samples.jsonl_results.jsonl...\n"
          ]
        },
        {
          "output_type": "stream",
          "name": "stderr",
          "text": [
            "100%|██████████| 1/1 [00:00<00:00, 2086.72it/s]\n"
          ]
        }
      ]
    },
    {
      "cell_type": "code",
      "source": [
        "pass_at_k"
      ],
      "metadata": {
        "colab": {
          "base_uri": "https://localhost:8080/"
        },
        "id": "tT2nxiGyAzck",
        "outputId": "368001d6-bd6b-4ed8-bd26-137a7ac4e50c"
      },
      "execution_count": null,
      "outputs": [
        {
          "output_type": "execute_result",
          "data": {
            "text/plain": [
              "{'pass@1': 0.0}"
            ]
          },
          "metadata": {},
          "execution_count": 51
        }
      ]
    }
  ]
}